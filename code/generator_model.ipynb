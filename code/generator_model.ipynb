{
 "cells": [
  {
   "cell_type": "code",
   "execution_count": 1,
   "metadata": {
    "collapsed": true
   },
   "outputs": [],
   "source": [
    "import tensorflow as tf\n",
    "from tensorflow import keras\n",
    "import numpy as np\n",
    "import pandas as pd\n",
    "import datetime\n",
    "import os\n",
    "import matplotlib.pyplot as plt\n",
    "import math"
   ]
  },
  {
   "cell_type": "code",
   "execution_count": 2,
   "metadata": {
    "pycharm": {
     "name": "#%%\n"
    }
   },
   "outputs": [],
   "source": [
    "options = pd.read_csv(\"../csv/options/raw/2015-16options.csv\")"
   ]
  },
  {
   "cell_type": "code",
   "execution_count": 3,
   "outputs": [],
   "source": [
    "trends = pd.read_csv(\"../csv/trends/input.csv\")"
   ],
   "metadata": {
    "collapsed": false,
    "pycharm": {
     "name": "#%%\n"
    }
   }
  },
  {
   "cell_type": "code",
   "execution_count": 4,
   "metadata": {
    "pycharm": {
     "name": "#%%\n"
    }
   },
   "outputs": [
    {
     "data": {
      "text/plain": "                 date     0     1      2     3     4     5     6     7     8  \\\n0 2015-01-02 09:00:00  37.0  30.0   55.0  49.0  18.0  47.0  22.0  30.0  12.0   \n1 2015-01-03 09:00:00  47.0  53.0   95.0  39.0  29.0  40.0  23.0  42.0  12.0   \n2 2015-01-04 09:00:00  41.0  33.0   65.0  41.0  28.0  49.0  38.0  39.0  11.0   \n3 2015-01-05 09:00:00  38.0  49.0   43.0  41.0  19.0  71.0  30.0  36.0   5.0   \n4 2015-01-06 09:00:00  59.0  38.0  100.0  45.0  21.0  53.0  23.0  57.0   6.0   \n\n   ...  1965  1966  1967  1968  1969  1970  1971  1972  1973  1974  \n0  ...  47.0  35.0  60.0  57.0  29.0  40.0  29.0   0.0  34.0  60.0  \n1  ...  43.0  32.0  56.0  42.0  29.0  39.0  15.0   0.0  39.0  57.0  \n2  ...  38.0  25.0  51.0  29.0  31.0  38.0  13.0   0.0  39.0  60.0  \n3  ...  42.0  38.0  93.0  70.0  34.0  51.0  22.0   0.0  30.0  51.0  \n4  ...  47.0  34.0  86.0  77.0  34.0  56.0  25.0   0.0  30.0  53.0  \n\n[5 rows x 1976 columns]",
      "text/html": "<div>\n<style scoped>\n    .dataframe tbody tr th:only-of-type {\n        vertical-align: middle;\n    }\n\n    .dataframe tbody tr th {\n        vertical-align: top;\n    }\n\n    .dataframe thead th {\n        text-align: right;\n    }\n</style>\n<table border=\"1\" class=\"dataframe\">\n  <thead>\n    <tr style=\"text-align: right;\">\n      <th></th>\n      <th>date</th>\n      <th>0</th>\n      <th>1</th>\n      <th>2</th>\n      <th>3</th>\n      <th>4</th>\n      <th>5</th>\n      <th>6</th>\n      <th>7</th>\n      <th>8</th>\n      <th>...</th>\n      <th>1965</th>\n      <th>1966</th>\n      <th>1967</th>\n      <th>1968</th>\n      <th>1969</th>\n      <th>1970</th>\n      <th>1971</th>\n      <th>1972</th>\n      <th>1973</th>\n      <th>1974</th>\n    </tr>\n  </thead>\n  <tbody>\n    <tr>\n      <th>0</th>\n      <td>2015-01-02 09:00:00</td>\n      <td>37.0</td>\n      <td>30.0</td>\n      <td>55.0</td>\n      <td>49.0</td>\n      <td>18.0</td>\n      <td>47.0</td>\n      <td>22.0</td>\n      <td>30.0</td>\n      <td>12.0</td>\n      <td>...</td>\n      <td>47.0</td>\n      <td>35.0</td>\n      <td>60.0</td>\n      <td>57.0</td>\n      <td>29.0</td>\n      <td>40.0</td>\n      <td>29.0</td>\n      <td>0.0</td>\n      <td>34.0</td>\n      <td>60.0</td>\n    </tr>\n    <tr>\n      <th>1</th>\n      <td>2015-01-03 09:00:00</td>\n      <td>47.0</td>\n      <td>53.0</td>\n      <td>95.0</td>\n      <td>39.0</td>\n      <td>29.0</td>\n      <td>40.0</td>\n      <td>23.0</td>\n      <td>42.0</td>\n      <td>12.0</td>\n      <td>...</td>\n      <td>43.0</td>\n      <td>32.0</td>\n      <td>56.0</td>\n      <td>42.0</td>\n      <td>29.0</td>\n      <td>39.0</td>\n      <td>15.0</td>\n      <td>0.0</td>\n      <td>39.0</td>\n      <td>57.0</td>\n    </tr>\n    <tr>\n      <th>2</th>\n      <td>2015-01-04 09:00:00</td>\n      <td>41.0</td>\n      <td>33.0</td>\n      <td>65.0</td>\n      <td>41.0</td>\n      <td>28.0</td>\n      <td>49.0</td>\n      <td>38.0</td>\n      <td>39.0</td>\n      <td>11.0</td>\n      <td>...</td>\n      <td>38.0</td>\n      <td>25.0</td>\n      <td>51.0</td>\n      <td>29.0</td>\n      <td>31.0</td>\n      <td>38.0</td>\n      <td>13.0</td>\n      <td>0.0</td>\n      <td>39.0</td>\n      <td>60.0</td>\n    </tr>\n    <tr>\n      <th>3</th>\n      <td>2015-01-05 09:00:00</td>\n      <td>38.0</td>\n      <td>49.0</td>\n      <td>43.0</td>\n      <td>41.0</td>\n      <td>19.0</td>\n      <td>71.0</td>\n      <td>30.0</td>\n      <td>36.0</td>\n      <td>5.0</td>\n      <td>...</td>\n      <td>42.0</td>\n      <td>38.0</td>\n      <td>93.0</td>\n      <td>70.0</td>\n      <td>34.0</td>\n      <td>51.0</td>\n      <td>22.0</td>\n      <td>0.0</td>\n      <td>30.0</td>\n      <td>51.0</td>\n    </tr>\n    <tr>\n      <th>4</th>\n      <td>2015-01-06 09:00:00</td>\n      <td>59.0</td>\n      <td>38.0</td>\n      <td>100.0</td>\n      <td>45.0</td>\n      <td>21.0</td>\n      <td>53.0</td>\n      <td>23.0</td>\n      <td>57.0</td>\n      <td>6.0</td>\n      <td>...</td>\n      <td>47.0</td>\n      <td>34.0</td>\n      <td>86.0</td>\n      <td>77.0</td>\n      <td>34.0</td>\n      <td>56.0</td>\n      <td>25.0</td>\n      <td>0.0</td>\n      <td>30.0</td>\n      <td>53.0</td>\n    </tr>\n  </tbody>\n</table>\n<p>5 rows × 1976 columns</p>\n</div>"
     },
     "execution_count": 4,
     "metadata": {},
     "output_type": "execute_result"
    }
   ],
   "source": [
    "pruned_trends = trends\n",
    "pruned_trends[\"date\"] = pd.to_datetime(trends[\"date\"])\n",
    "pruned_trends.head()"
   ]
  },
  {
   "cell_type": "code",
   "execution_count": 5,
   "metadata": {
    "pycharm": {
     "name": "#%%\n"
    }
   },
   "outputs": [],
   "source": [
    "pruned_trends[\"date\"] = pruned_trends[\"date\"].apply(lambda x: pd.Timestamp(x.date()))\n",
    "pruned_trends = pruned_trends.set_index(\"date\")"
   ]
  },
  {
   "cell_type": "code",
   "execution_count": 6,
   "metadata": {
    "pycharm": {
     "name": "#%%\n"
    }
   },
   "outputs": [
    {
     "data": {
      "text/plain": "               0     1      2     3     4     5     6     7     8     9  ...  \\\ndate                                                                     ...   \n2015-01-02  37.0  30.0   55.0  49.0  18.0  47.0  22.0  30.0  12.0   4.0  ...   \n2015-01-03  47.0  53.0   95.0  39.0  29.0  40.0  23.0  42.0  12.0  18.0  ...   \n2015-01-04  41.0  33.0   65.0  41.0  28.0  49.0  38.0  39.0  11.0  21.0  ...   \n2015-01-05  38.0  49.0   43.0  41.0  19.0  71.0  30.0  36.0   5.0   8.0  ...   \n2015-01-06  59.0  38.0  100.0  45.0  21.0  53.0  23.0  57.0   6.0  10.0  ...   \n\n            1965  1966  1967  1968  1969  1970  1971  1972  1973  1974  \ndate                                                                    \n2015-01-02  47.0  35.0  60.0  57.0  29.0  40.0  29.0   0.0  34.0  60.0  \n2015-01-03  43.0  32.0  56.0  42.0  29.0  39.0  15.0   0.0  39.0  57.0  \n2015-01-04  38.0  25.0  51.0  29.0  31.0  38.0  13.0   0.0  39.0  60.0  \n2015-01-05  42.0  38.0  93.0  70.0  34.0  51.0  22.0   0.0  30.0  51.0  \n2015-01-06  47.0  34.0  86.0  77.0  34.0  56.0  25.0   0.0  30.0  53.0  \n\n[5 rows x 1975 columns]",
      "text/html": "<div>\n<style scoped>\n    .dataframe tbody tr th:only-of-type {\n        vertical-align: middle;\n    }\n\n    .dataframe tbody tr th {\n        vertical-align: top;\n    }\n\n    .dataframe thead th {\n        text-align: right;\n    }\n</style>\n<table border=\"1\" class=\"dataframe\">\n  <thead>\n    <tr style=\"text-align: right;\">\n      <th></th>\n      <th>0</th>\n      <th>1</th>\n      <th>2</th>\n      <th>3</th>\n      <th>4</th>\n      <th>5</th>\n      <th>6</th>\n      <th>7</th>\n      <th>8</th>\n      <th>9</th>\n      <th>...</th>\n      <th>1965</th>\n      <th>1966</th>\n      <th>1967</th>\n      <th>1968</th>\n      <th>1969</th>\n      <th>1970</th>\n      <th>1971</th>\n      <th>1972</th>\n      <th>1973</th>\n      <th>1974</th>\n    </tr>\n    <tr>\n      <th>date</th>\n      <th></th>\n      <th></th>\n      <th></th>\n      <th></th>\n      <th></th>\n      <th></th>\n      <th></th>\n      <th></th>\n      <th></th>\n      <th></th>\n      <th></th>\n      <th></th>\n      <th></th>\n      <th></th>\n      <th></th>\n      <th></th>\n      <th></th>\n      <th></th>\n      <th></th>\n      <th></th>\n      <th></th>\n    </tr>\n  </thead>\n  <tbody>\n    <tr>\n      <th>2015-01-02</th>\n      <td>37.0</td>\n      <td>30.0</td>\n      <td>55.0</td>\n      <td>49.0</td>\n      <td>18.0</td>\n      <td>47.0</td>\n      <td>22.0</td>\n      <td>30.0</td>\n      <td>12.0</td>\n      <td>4.0</td>\n      <td>...</td>\n      <td>47.0</td>\n      <td>35.0</td>\n      <td>60.0</td>\n      <td>57.0</td>\n      <td>29.0</td>\n      <td>40.0</td>\n      <td>29.0</td>\n      <td>0.0</td>\n      <td>34.0</td>\n      <td>60.0</td>\n    </tr>\n    <tr>\n      <th>2015-01-03</th>\n      <td>47.0</td>\n      <td>53.0</td>\n      <td>95.0</td>\n      <td>39.0</td>\n      <td>29.0</td>\n      <td>40.0</td>\n      <td>23.0</td>\n      <td>42.0</td>\n      <td>12.0</td>\n      <td>18.0</td>\n      <td>...</td>\n      <td>43.0</td>\n      <td>32.0</td>\n      <td>56.0</td>\n      <td>42.0</td>\n      <td>29.0</td>\n      <td>39.0</td>\n      <td>15.0</td>\n      <td>0.0</td>\n      <td>39.0</td>\n      <td>57.0</td>\n    </tr>\n    <tr>\n      <th>2015-01-04</th>\n      <td>41.0</td>\n      <td>33.0</td>\n      <td>65.0</td>\n      <td>41.0</td>\n      <td>28.0</td>\n      <td>49.0</td>\n      <td>38.0</td>\n      <td>39.0</td>\n      <td>11.0</td>\n      <td>21.0</td>\n      <td>...</td>\n      <td>38.0</td>\n      <td>25.0</td>\n      <td>51.0</td>\n      <td>29.0</td>\n      <td>31.0</td>\n      <td>38.0</td>\n      <td>13.0</td>\n      <td>0.0</td>\n      <td>39.0</td>\n      <td>60.0</td>\n    </tr>\n    <tr>\n      <th>2015-01-05</th>\n      <td>38.0</td>\n      <td>49.0</td>\n      <td>43.0</td>\n      <td>41.0</td>\n      <td>19.0</td>\n      <td>71.0</td>\n      <td>30.0</td>\n      <td>36.0</td>\n      <td>5.0</td>\n      <td>8.0</td>\n      <td>...</td>\n      <td>42.0</td>\n      <td>38.0</td>\n      <td>93.0</td>\n      <td>70.0</td>\n      <td>34.0</td>\n      <td>51.0</td>\n      <td>22.0</td>\n      <td>0.0</td>\n      <td>30.0</td>\n      <td>51.0</td>\n    </tr>\n    <tr>\n      <th>2015-01-06</th>\n      <td>59.0</td>\n      <td>38.0</td>\n      <td>100.0</td>\n      <td>45.0</td>\n      <td>21.0</td>\n      <td>53.0</td>\n      <td>23.0</td>\n      <td>57.0</td>\n      <td>6.0</td>\n      <td>10.0</td>\n      <td>...</td>\n      <td>47.0</td>\n      <td>34.0</td>\n      <td>86.0</td>\n      <td>77.0</td>\n      <td>34.0</td>\n      <td>56.0</td>\n      <td>25.0</td>\n      <td>0.0</td>\n      <td>30.0</td>\n      <td>53.0</td>\n    </tr>\n  </tbody>\n</table>\n<p>5 rows × 1975 columns</p>\n</div>"
     },
     "execution_count": 6,
     "metadata": {},
     "output_type": "execute_result"
    }
   ],
   "source": [
    "pruned_trends.head()"
   ]
  },
  {
   "cell_type": "code",
   "execution_count": 7,
   "metadata": {
    "pycharm": {
     "name": "#%%\n"
    }
   },
   "outputs": [
    {
     "data": {
      "text/plain": "   secid        date      exdate cp_flag  strike_price  volume  open_interest  \\\n0   5284  01/02/2015  03/20/2015       C          2500       0              5   \n1   5284  01/02/2015  03/20/2015       P          2500       0             10   \n2   5284  01/05/2015  03/20/2015       C          2500       0              5   \n3   5284  01/05/2015  03/20/2015       P          2500       0             10   \n4   5284  01/06/2015  03/20/2015       C          2500       0              5   \n\n   impl_volatility  opprc  moneyness  tte  close  spread  noi  \n0         1.212510  0.100   1.677852   77   1.49    0.10    5  \n1         1.389238  1.150   1.677852   77   1.49    0.50   10  \n2         1.322124  0.100   1.760563   74   1.42    0.10    0  \n3         1.533191  1.225   1.760563   74   1.42    0.45    0  \n4         1.369239  0.100   1.798561   73   1.39    0.10    0  ",
      "text/html": "<div>\n<style scoped>\n    .dataframe tbody tr th:only-of-type {\n        vertical-align: middle;\n    }\n\n    .dataframe tbody tr th {\n        vertical-align: top;\n    }\n\n    .dataframe thead th {\n        text-align: right;\n    }\n</style>\n<table border=\"1\" class=\"dataframe\">\n  <thead>\n    <tr style=\"text-align: right;\">\n      <th></th>\n      <th>secid</th>\n      <th>date</th>\n      <th>exdate</th>\n      <th>cp_flag</th>\n      <th>strike_price</th>\n      <th>volume</th>\n      <th>open_interest</th>\n      <th>impl_volatility</th>\n      <th>opprc</th>\n      <th>moneyness</th>\n      <th>tte</th>\n      <th>close</th>\n      <th>spread</th>\n      <th>noi</th>\n    </tr>\n  </thead>\n  <tbody>\n    <tr>\n      <th>0</th>\n      <td>5284</td>\n      <td>01/02/2015</td>\n      <td>03/20/2015</td>\n      <td>C</td>\n      <td>2500</td>\n      <td>0</td>\n      <td>5</td>\n      <td>1.212510</td>\n      <td>0.100</td>\n      <td>1.677852</td>\n      <td>77</td>\n      <td>1.49</td>\n      <td>0.10</td>\n      <td>5</td>\n    </tr>\n    <tr>\n      <th>1</th>\n      <td>5284</td>\n      <td>01/02/2015</td>\n      <td>03/20/2015</td>\n      <td>P</td>\n      <td>2500</td>\n      <td>0</td>\n      <td>10</td>\n      <td>1.389238</td>\n      <td>1.150</td>\n      <td>1.677852</td>\n      <td>77</td>\n      <td>1.49</td>\n      <td>0.50</td>\n      <td>10</td>\n    </tr>\n    <tr>\n      <th>2</th>\n      <td>5284</td>\n      <td>01/05/2015</td>\n      <td>03/20/2015</td>\n      <td>C</td>\n      <td>2500</td>\n      <td>0</td>\n      <td>5</td>\n      <td>1.322124</td>\n      <td>0.100</td>\n      <td>1.760563</td>\n      <td>74</td>\n      <td>1.42</td>\n      <td>0.10</td>\n      <td>0</td>\n    </tr>\n    <tr>\n      <th>3</th>\n      <td>5284</td>\n      <td>01/05/2015</td>\n      <td>03/20/2015</td>\n      <td>P</td>\n      <td>2500</td>\n      <td>0</td>\n      <td>10</td>\n      <td>1.533191</td>\n      <td>1.225</td>\n      <td>1.760563</td>\n      <td>74</td>\n      <td>1.42</td>\n      <td>0.45</td>\n      <td>0</td>\n    </tr>\n    <tr>\n      <th>4</th>\n      <td>5284</td>\n      <td>01/06/2015</td>\n      <td>03/20/2015</td>\n      <td>C</td>\n      <td>2500</td>\n      <td>0</td>\n      <td>5</td>\n      <td>1.369239</td>\n      <td>0.100</td>\n      <td>1.798561</td>\n      <td>73</td>\n      <td>1.39</td>\n      <td>0.10</td>\n      <td>0</td>\n    </tr>\n  </tbody>\n</table>\n</div>"
     },
     "execution_count": 7,
     "metadata": {},
     "output_type": "execute_result"
    }
   ],
   "source": [
    "options.head()"
   ]
  },
  {
   "cell_type": "code",
   "execution_count": 8,
   "metadata": {
    "pycharm": {
     "name": "#%%\n"
    }
   },
   "outputs": [],
   "source": [
    "def setup_options_input(options_df, numrows):\n",
    "    pruned_options = options_df[options_df[\"volume\"] > 0].sample(numrows)\n",
    "    pruned_options = pruned_options.drop([\"secid\", \"opprc\", \"moneyness\", \"close\", \"spread\", \"noi\", \"open_interest\", \"exdate\", \"volume\"], axis=1)\n",
    "    pruned_options = pd.get_dummies(pruned_options, columns=[\"cp_flag\"])\n",
    "    pruned_options[\"date\"] = pd.to_datetime(pruned_options[\"date\"])\n",
    "    pruned_options = pruned_options.set_index(\"date\")\n",
    "    df = pruned_options.apply(lambda x: pd.concat([x, pruned_trends.loc[pd.Timestamp(x.name)]], axis=0), axis=1)\n",
    "    return df.drop([\"impl_volatility\"], axis=1).to_numpy(), df[\"impl_volatility\"].to_numpy()"
   ]
  },
  {
   "cell_type": "code",
   "execution_count": 9,
   "outputs": [],
   "source": [
    "class OptionsDataSequence(tf.keras.utils.Sequence):\n",
    "\n",
    "    def __init__(self, options_data, trends_data, batch_size):\n",
    "        self.options = options_data\n",
    "        self.options = self.options[self.options[\"volume\"] > 0]\n",
    "        self.options[\"past_vol\"] = self.options.map()\n",
    "        self.options = self.options.drop([\"secid\", \"opprc\", \"moneyness\", \"close\", \"spread\", \"noi\", \"open_interest\", \"exdate\", \"volume\"], axis=1)\n",
    "        self.options = pd.get_dummies(self.options, columns=[\"cp_flag\"])\n",
    "        self.options[\"date\"] = pd.to_datetime(self.options[\"date\"])\n",
    "        self.options = self.options.set_index(\"date\")\n",
    "\n",
    "        self.trends = trends_data\n",
    "        self.batch_size = batch_size\n",
    "\n",
    "    def __len__(self):\n",
    "        return math.ceil(len(self.options) / self.batch_size)\n",
    "\n",
    "    def __getitem__(self, item):\n",
    "        data = self.options.iloc[item * self.batch_size:(item + 1) * self.batch_size]\n",
    "        data = data.apply(lambda x: pd.concat([x, self.trends.loc[pd.Timestamp(x.name)]], axis=0), axis=1)\n",
    "        return data.drop([\"impl_volatility\"], axis=1).to_numpy(), data[\"impl_volatility\"].to_numpy()\n",
    "\n",
    "    def getitem(self, item):\n",
    "        return self.__getitem__(item)\n",
    "\n"
   ],
   "metadata": {
    "collapsed": false,
    "pycharm": {
     "name": "#%%\n"
    }
   }
  },
  {
   "cell_type": "code",
   "execution_count": 16,
   "outputs": [
    {
     "name": "stdout",
     "output_type": "stream",
     "text": [
      "44826\n"
     ]
    }
   ],
   "source": [
    "options_generator = OptionsDataSequence(options, pruned_trends, 512)\n",
    "print(len(options_generator))\n",
    "\n",
    "def data_generator():\n",
    "    options_generator = OptionsDataSequence(options, pruned_trends, 512)\n",
    "    for i in range(len(options_generator)):\n",
    "        yield options_generator.__getitem__(i)"
   ],
   "metadata": {
    "collapsed": false,
    "pycharm": {
     "name": "#%%\n"
    }
   }
  },
  {
   "cell_type": "code",
   "execution_count": 17,
   "outputs": [],
   "source": [
    "dataset = tf.data.Dataset.from_generator(data_generator, output_signature=(\n",
    "    tf.TensorSpec(shape=(None, 1979), dtype=tf.float64),\n",
    "    tf.TensorSpec(shape=(None, ), dtype=tf.float64)\n",
    "))"
   ],
   "metadata": {
    "collapsed": false,
    "pycharm": {
     "name": "#%%\n"
    }
   }
  },
  {
   "cell_type": "code",
   "execution_count": 18,
   "metadata": {
    "pycharm": {
     "name": "#%%\n"
    }
   },
   "outputs": [],
   "source": [
    "model = tf.keras.Sequential([\n",
    "    tf.keras.layers.Dense(1979, activation='relu'),\n",
    "    tf.keras.layers.Dense(1979*2, activation='relu'),\n",
    "    tf.keras.layers.Dense(1979*2, activation='relu'),\n",
    "    tf.keras.layers.Dense(1979, activation='relu'),\n",
    "    tf.keras.layers.Dense(1, activation='linear'),\n",
    "])"
   ]
  },
  {
   "cell_type": "code",
   "execution_count": 19,
   "metadata": {
    "pycharm": {
     "name": "#%%\n"
    }
   },
   "outputs": [],
   "source": [
    "model.compile(\n",
    "    optimizer=keras.optimizers.Adam(learning_rate=0.01),\n",
    "    loss=keras.losses.MeanAbsolutePercentageError(),\n",
    "    metrics=[\n",
    "        keras.metrics.MeanAbsolutePercentageError(),\n",
    "        keras.metrics.MeanAbsoluteError(),\n",
    "        keras.metrics.MeanSquaredError()\n",
    "             ]\n",
    ")"
   ]
  },
  {
   "cell_type": "code",
   "execution_count": 20,
   "outputs": [
    {
     "name": "stdout",
     "output_type": "stream",
     "text": [
      "Epoch 1/3\n",
      "44826/44826 [==============================] - 41333s 921ms/step - loss: 301110.5938 - mean_absolute_percentage_error: 301110.5938 - mean_absolute_error: 962.2872 - mean_squared_error: 24429615104.0000\n",
      "Epoch 2/3\n",
      "27524/44826 [=================>............] - ETA: 3:16:57 - loss: 26.7611 - mean_absolute_percentage_error: 26.7611 - mean_absolute_error: 0.1144 - mean_squared_error: 0.0478"
     ]
    },
    {
     "ename": "KeyboardInterrupt",
     "evalue": "",
     "output_type": "error",
     "traceback": [
      "\u001B[0;31m---------------------------------------------------------------------------\u001B[0m",
      "\u001B[0;31mKeyboardInterrupt\u001B[0m                         Traceback (most recent call last)",
      "Input \u001B[0;32mIn [20]\u001B[0m, in \u001B[0;36m<module>\u001B[0;34m\u001B[0m\n\u001B[0;32m----> 1\u001B[0m \u001B[43mmodel\u001B[49m\u001B[38;5;241;43m.\u001B[39;49m\u001B[43mfit\u001B[49m\u001B[43m(\u001B[49m\n\u001B[1;32m      2\u001B[0m \u001B[43m    \u001B[49m\u001B[43mx\u001B[49m\u001B[38;5;241;43m=\u001B[39;49m\u001B[43mdataset\u001B[49m\u001B[43m,\u001B[49m\n\u001B[1;32m      3\u001B[0m \u001B[43m    \u001B[49m\u001B[43mbatch_size\u001B[49m\u001B[38;5;241;43m=\u001B[39;49m\u001B[38;5;241;43m512\u001B[39;49m\u001B[43m,\u001B[49m\n\u001B[1;32m      4\u001B[0m \u001B[43m    \u001B[49m\u001B[43mepochs\u001B[49m\u001B[38;5;241;43m=\u001B[39;49m\u001B[38;5;241;43m3\u001B[39;49m\u001B[43m,\u001B[49m\u001B[43m \u001B[49m\u001B[38;5;66;43;03m# seems like enough to reach the the minimum loss\u001B[39;49;00m\n\u001B[1;32m      5\u001B[0m \u001B[43m    \u001B[49m\u001B[43mshuffle\u001B[49m\u001B[38;5;241;43m=\u001B[39;49m\u001B[38;5;28;43;01mTrue\u001B[39;49;00m\u001B[43m,\u001B[49m\n\u001B[1;32m      6\u001B[0m \u001B[43m    \u001B[49m\u001B[43mverbose\u001B[49m\u001B[38;5;241;43m=\u001B[39;49m\u001B[38;5;241;43m1\u001B[39;49m\u001B[43m,\u001B[49m\n\u001B[1;32m      7\u001B[0m \u001B[43m    \u001B[49m\u001B[43muse_multiprocessing\u001B[49m\u001B[38;5;241;43m=\u001B[39;49m\u001B[38;5;28;43;01mTrue\u001B[39;49;00m\u001B[43m,\u001B[49m\n\u001B[1;32m      8\u001B[0m \u001B[43m    \u001B[49m\u001B[43mworkers\u001B[49m\u001B[38;5;241;43m=\u001B[39;49m\u001B[38;5;241;43m12\u001B[39;49m\u001B[43m,\u001B[49m\n\u001B[1;32m      9\u001B[0m \u001B[43m)\u001B[49m\n",
      "File \u001B[0;32m~/git/IV-Forecasting/venv/lib/python3.8/site-packages/keras/utils/traceback_utils.py:64\u001B[0m, in \u001B[0;36mfilter_traceback.<locals>.error_handler\u001B[0;34m(*args, **kwargs)\u001B[0m\n\u001B[1;32m     62\u001B[0m filtered_tb \u001B[38;5;241m=\u001B[39m \u001B[38;5;28;01mNone\u001B[39;00m\n\u001B[1;32m     63\u001B[0m \u001B[38;5;28;01mtry\u001B[39;00m:\n\u001B[0;32m---> 64\u001B[0m   \u001B[38;5;28;01mreturn\u001B[39;00m \u001B[43mfn\u001B[49m\u001B[43m(\u001B[49m\u001B[38;5;241;43m*\u001B[39;49m\u001B[43margs\u001B[49m\u001B[43m,\u001B[49m\u001B[43m \u001B[49m\u001B[38;5;241;43m*\u001B[39;49m\u001B[38;5;241;43m*\u001B[39;49m\u001B[43mkwargs\u001B[49m\u001B[43m)\u001B[49m\n\u001B[1;32m     65\u001B[0m \u001B[38;5;28;01mexcept\u001B[39;00m \u001B[38;5;167;01mException\u001B[39;00m \u001B[38;5;28;01mas\u001B[39;00m e:  \u001B[38;5;66;03m# pylint: disable=broad-except\u001B[39;00m\n\u001B[1;32m     66\u001B[0m   filtered_tb \u001B[38;5;241m=\u001B[39m _process_traceback_frames(e\u001B[38;5;241m.\u001B[39m__traceback__)\n",
      "File \u001B[0;32m~/git/IV-Forecasting/venv/lib/python3.8/site-packages/keras/engine/training.py:1384\u001B[0m, in \u001B[0;36mModel.fit\u001B[0;34m(self, x, y, batch_size, epochs, verbose, callbacks, validation_split, validation_data, shuffle, class_weight, sample_weight, initial_epoch, steps_per_epoch, validation_steps, validation_batch_size, validation_freq, max_queue_size, workers, use_multiprocessing)\u001B[0m\n\u001B[1;32m   1377\u001B[0m \u001B[38;5;28;01mwith\u001B[39;00m tf\u001B[38;5;241m.\u001B[39mprofiler\u001B[38;5;241m.\u001B[39mexperimental\u001B[38;5;241m.\u001B[39mTrace(\n\u001B[1;32m   1378\u001B[0m     \u001B[38;5;124m'\u001B[39m\u001B[38;5;124mtrain\u001B[39m\u001B[38;5;124m'\u001B[39m,\n\u001B[1;32m   1379\u001B[0m     epoch_num\u001B[38;5;241m=\u001B[39mepoch,\n\u001B[1;32m   1380\u001B[0m     step_num\u001B[38;5;241m=\u001B[39mstep,\n\u001B[1;32m   1381\u001B[0m     batch_size\u001B[38;5;241m=\u001B[39mbatch_size,\n\u001B[1;32m   1382\u001B[0m     _r\u001B[38;5;241m=\u001B[39m\u001B[38;5;241m1\u001B[39m):\n\u001B[1;32m   1383\u001B[0m   callbacks\u001B[38;5;241m.\u001B[39mon_train_batch_begin(step)\n\u001B[0;32m-> 1384\u001B[0m   tmp_logs \u001B[38;5;241m=\u001B[39m \u001B[38;5;28;43mself\u001B[39;49m\u001B[38;5;241;43m.\u001B[39;49m\u001B[43mtrain_function\u001B[49m\u001B[43m(\u001B[49m\u001B[43miterator\u001B[49m\u001B[43m)\u001B[49m\n\u001B[1;32m   1385\u001B[0m   \u001B[38;5;28;01mif\u001B[39;00m data_handler\u001B[38;5;241m.\u001B[39mshould_sync:\n\u001B[1;32m   1386\u001B[0m     context\u001B[38;5;241m.\u001B[39masync_wait()\n",
      "File \u001B[0;32m~/git/IV-Forecasting/venv/lib/python3.8/site-packages/tensorflow/python/util/traceback_utils.py:150\u001B[0m, in \u001B[0;36mfilter_traceback.<locals>.error_handler\u001B[0;34m(*args, **kwargs)\u001B[0m\n\u001B[1;32m    148\u001B[0m filtered_tb \u001B[38;5;241m=\u001B[39m \u001B[38;5;28;01mNone\u001B[39;00m\n\u001B[1;32m    149\u001B[0m \u001B[38;5;28;01mtry\u001B[39;00m:\n\u001B[0;32m--> 150\u001B[0m   \u001B[38;5;28;01mreturn\u001B[39;00m \u001B[43mfn\u001B[49m\u001B[43m(\u001B[49m\u001B[38;5;241;43m*\u001B[39;49m\u001B[43margs\u001B[49m\u001B[43m,\u001B[49m\u001B[43m \u001B[49m\u001B[38;5;241;43m*\u001B[39;49m\u001B[38;5;241;43m*\u001B[39;49m\u001B[43mkwargs\u001B[49m\u001B[43m)\u001B[49m\n\u001B[1;32m    151\u001B[0m \u001B[38;5;28;01mexcept\u001B[39;00m \u001B[38;5;167;01mException\u001B[39;00m \u001B[38;5;28;01mas\u001B[39;00m e:\n\u001B[1;32m    152\u001B[0m   filtered_tb \u001B[38;5;241m=\u001B[39m _process_traceback_frames(e\u001B[38;5;241m.\u001B[39m__traceback__)\n",
      "File \u001B[0;32m~/git/IV-Forecasting/venv/lib/python3.8/site-packages/tensorflow/python/eager/def_function.py:915\u001B[0m, in \u001B[0;36mFunction.__call__\u001B[0;34m(self, *args, **kwds)\u001B[0m\n\u001B[1;32m    912\u001B[0m compiler \u001B[38;5;241m=\u001B[39m \u001B[38;5;124m\"\u001B[39m\u001B[38;5;124mxla\u001B[39m\u001B[38;5;124m\"\u001B[39m \u001B[38;5;28;01mif\u001B[39;00m \u001B[38;5;28mself\u001B[39m\u001B[38;5;241m.\u001B[39m_jit_compile \u001B[38;5;28;01melse\u001B[39;00m \u001B[38;5;124m\"\u001B[39m\u001B[38;5;124mnonXla\u001B[39m\u001B[38;5;124m\"\u001B[39m\n\u001B[1;32m    914\u001B[0m \u001B[38;5;28;01mwith\u001B[39;00m OptionalXlaContext(\u001B[38;5;28mself\u001B[39m\u001B[38;5;241m.\u001B[39m_jit_compile):\n\u001B[0;32m--> 915\u001B[0m   result \u001B[38;5;241m=\u001B[39m \u001B[38;5;28;43mself\u001B[39;49m\u001B[38;5;241;43m.\u001B[39;49m\u001B[43m_call\u001B[49m\u001B[43m(\u001B[49m\u001B[38;5;241;43m*\u001B[39;49m\u001B[43margs\u001B[49m\u001B[43m,\u001B[49m\u001B[43m \u001B[49m\u001B[38;5;241;43m*\u001B[39;49m\u001B[38;5;241;43m*\u001B[39;49m\u001B[43mkwds\u001B[49m\u001B[43m)\u001B[49m\n\u001B[1;32m    917\u001B[0m new_tracing_count \u001B[38;5;241m=\u001B[39m \u001B[38;5;28mself\u001B[39m\u001B[38;5;241m.\u001B[39mexperimental_get_tracing_count()\n\u001B[1;32m    918\u001B[0m without_tracing \u001B[38;5;241m=\u001B[39m (tracing_count \u001B[38;5;241m==\u001B[39m new_tracing_count)\n",
      "File \u001B[0;32m~/git/IV-Forecasting/venv/lib/python3.8/site-packages/tensorflow/python/eager/def_function.py:947\u001B[0m, in \u001B[0;36mFunction._call\u001B[0;34m(self, *args, **kwds)\u001B[0m\n\u001B[1;32m    944\u001B[0m   \u001B[38;5;28mself\u001B[39m\u001B[38;5;241m.\u001B[39m_lock\u001B[38;5;241m.\u001B[39mrelease()\n\u001B[1;32m    945\u001B[0m   \u001B[38;5;66;03m# In this case we have created variables on the first call, so we run the\u001B[39;00m\n\u001B[1;32m    946\u001B[0m   \u001B[38;5;66;03m# defunned version which is guaranteed to never create variables.\u001B[39;00m\n\u001B[0;32m--> 947\u001B[0m   \u001B[38;5;28;01mreturn\u001B[39;00m \u001B[38;5;28;43mself\u001B[39;49m\u001B[38;5;241;43m.\u001B[39;49m\u001B[43m_stateless_fn\u001B[49m\u001B[43m(\u001B[49m\u001B[38;5;241;43m*\u001B[39;49m\u001B[43margs\u001B[49m\u001B[43m,\u001B[49m\u001B[43m \u001B[49m\u001B[38;5;241;43m*\u001B[39;49m\u001B[38;5;241;43m*\u001B[39;49m\u001B[43mkwds\u001B[49m\u001B[43m)\u001B[49m  \u001B[38;5;66;03m# pylint: disable=not-callable\u001B[39;00m\n\u001B[1;32m    948\u001B[0m \u001B[38;5;28;01melif\u001B[39;00m \u001B[38;5;28mself\u001B[39m\u001B[38;5;241m.\u001B[39m_stateful_fn \u001B[38;5;129;01mis\u001B[39;00m \u001B[38;5;129;01mnot\u001B[39;00m \u001B[38;5;28;01mNone\u001B[39;00m:\n\u001B[1;32m    949\u001B[0m   \u001B[38;5;66;03m# Release the lock early so that multiple threads can perform the call\u001B[39;00m\n\u001B[1;32m    950\u001B[0m   \u001B[38;5;66;03m# in parallel.\u001B[39;00m\n\u001B[1;32m    951\u001B[0m   \u001B[38;5;28mself\u001B[39m\u001B[38;5;241m.\u001B[39m_lock\u001B[38;5;241m.\u001B[39mrelease()\n",
      "File \u001B[0;32m~/git/IV-Forecasting/venv/lib/python3.8/site-packages/tensorflow/python/eager/function.py:2956\u001B[0m, in \u001B[0;36mFunction.__call__\u001B[0;34m(self, *args, **kwargs)\u001B[0m\n\u001B[1;32m   2953\u001B[0m \u001B[38;5;28;01mwith\u001B[39;00m \u001B[38;5;28mself\u001B[39m\u001B[38;5;241m.\u001B[39m_lock:\n\u001B[1;32m   2954\u001B[0m   (graph_function,\n\u001B[1;32m   2955\u001B[0m    filtered_flat_args) \u001B[38;5;241m=\u001B[39m \u001B[38;5;28mself\u001B[39m\u001B[38;5;241m.\u001B[39m_maybe_define_function(args, kwargs)\n\u001B[0;32m-> 2956\u001B[0m \u001B[38;5;28;01mreturn\u001B[39;00m \u001B[43mgraph_function\u001B[49m\u001B[38;5;241;43m.\u001B[39;49m\u001B[43m_call_flat\u001B[49m\u001B[43m(\u001B[49m\n\u001B[1;32m   2957\u001B[0m \u001B[43m    \u001B[49m\u001B[43mfiltered_flat_args\u001B[49m\u001B[43m,\u001B[49m\u001B[43m \u001B[49m\u001B[43mcaptured_inputs\u001B[49m\u001B[38;5;241;43m=\u001B[39;49m\u001B[43mgraph_function\u001B[49m\u001B[38;5;241;43m.\u001B[39;49m\u001B[43mcaptured_inputs\u001B[49m\u001B[43m)\u001B[49m\n",
      "File \u001B[0;32m~/git/IV-Forecasting/venv/lib/python3.8/site-packages/tensorflow/python/eager/function.py:1853\u001B[0m, in \u001B[0;36mConcreteFunction._call_flat\u001B[0;34m(self, args, captured_inputs, cancellation_manager)\u001B[0m\n\u001B[1;32m   1849\u001B[0m possible_gradient_type \u001B[38;5;241m=\u001B[39m gradients_util\u001B[38;5;241m.\u001B[39mPossibleTapeGradientTypes(args)\n\u001B[1;32m   1850\u001B[0m \u001B[38;5;28;01mif\u001B[39;00m (possible_gradient_type \u001B[38;5;241m==\u001B[39m gradients_util\u001B[38;5;241m.\u001B[39mPOSSIBLE_GRADIENT_TYPES_NONE\n\u001B[1;32m   1851\u001B[0m     \u001B[38;5;129;01mand\u001B[39;00m executing_eagerly):\n\u001B[1;32m   1852\u001B[0m   \u001B[38;5;66;03m# No tape is watching; skip to running the function.\u001B[39;00m\n\u001B[0;32m-> 1853\u001B[0m   \u001B[38;5;28;01mreturn\u001B[39;00m \u001B[38;5;28mself\u001B[39m\u001B[38;5;241m.\u001B[39m_build_call_outputs(\u001B[38;5;28;43mself\u001B[39;49m\u001B[38;5;241;43m.\u001B[39;49m\u001B[43m_inference_function\u001B[49m\u001B[38;5;241;43m.\u001B[39;49m\u001B[43mcall\u001B[49m\u001B[43m(\u001B[49m\n\u001B[1;32m   1854\u001B[0m \u001B[43m      \u001B[49m\u001B[43mctx\u001B[49m\u001B[43m,\u001B[49m\u001B[43m \u001B[49m\u001B[43margs\u001B[49m\u001B[43m,\u001B[49m\u001B[43m \u001B[49m\u001B[43mcancellation_manager\u001B[49m\u001B[38;5;241;43m=\u001B[39;49m\u001B[43mcancellation_manager\u001B[49m\u001B[43m)\u001B[49m)\n\u001B[1;32m   1855\u001B[0m forward_backward \u001B[38;5;241m=\u001B[39m \u001B[38;5;28mself\u001B[39m\u001B[38;5;241m.\u001B[39m_select_forward_and_backward_functions(\n\u001B[1;32m   1856\u001B[0m     args,\n\u001B[1;32m   1857\u001B[0m     possible_gradient_type,\n\u001B[1;32m   1858\u001B[0m     executing_eagerly)\n\u001B[1;32m   1859\u001B[0m forward_function, args_with_tangents \u001B[38;5;241m=\u001B[39m forward_backward\u001B[38;5;241m.\u001B[39mforward()\n",
      "File \u001B[0;32m~/git/IV-Forecasting/venv/lib/python3.8/site-packages/tensorflow/python/eager/function.py:499\u001B[0m, in \u001B[0;36m_EagerDefinedFunction.call\u001B[0;34m(self, ctx, args, cancellation_manager)\u001B[0m\n\u001B[1;32m    497\u001B[0m \u001B[38;5;28;01mwith\u001B[39;00m _InterpolateFunctionError(\u001B[38;5;28mself\u001B[39m):\n\u001B[1;32m    498\u001B[0m   \u001B[38;5;28;01mif\u001B[39;00m cancellation_manager \u001B[38;5;129;01mis\u001B[39;00m \u001B[38;5;28;01mNone\u001B[39;00m:\n\u001B[0;32m--> 499\u001B[0m     outputs \u001B[38;5;241m=\u001B[39m \u001B[43mexecute\u001B[49m\u001B[38;5;241;43m.\u001B[39;49m\u001B[43mexecute\u001B[49m\u001B[43m(\u001B[49m\n\u001B[1;32m    500\u001B[0m \u001B[43m        \u001B[49m\u001B[38;5;28;43mstr\u001B[39;49m\u001B[43m(\u001B[49m\u001B[38;5;28;43mself\u001B[39;49m\u001B[38;5;241;43m.\u001B[39;49m\u001B[43msignature\u001B[49m\u001B[38;5;241;43m.\u001B[39;49m\u001B[43mname\u001B[49m\u001B[43m)\u001B[49m\u001B[43m,\u001B[49m\n\u001B[1;32m    501\u001B[0m \u001B[43m        \u001B[49m\u001B[43mnum_outputs\u001B[49m\u001B[38;5;241;43m=\u001B[39;49m\u001B[38;5;28;43mself\u001B[39;49m\u001B[38;5;241;43m.\u001B[39;49m\u001B[43m_num_outputs\u001B[49m\u001B[43m,\u001B[49m\n\u001B[1;32m    502\u001B[0m \u001B[43m        \u001B[49m\u001B[43minputs\u001B[49m\u001B[38;5;241;43m=\u001B[39;49m\u001B[43margs\u001B[49m\u001B[43m,\u001B[49m\n\u001B[1;32m    503\u001B[0m \u001B[43m        \u001B[49m\u001B[43mattrs\u001B[49m\u001B[38;5;241;43m=\u001B[39;49m\u001B[43mattrs\u001B[49m\u001B[43m,\u001B[49m\n\u001B[1;32m    504\u001B[0m \u001B[43m        \u001B[49m\u001B[43mctx\u001B[49m\u001B[38;5;241;43m=\u001B[39;49m\u001B[43mctx\u001B[49m\u001B[43m)\u001B[49m\n\u001B[1;32m    505\u001B[0m   \u001B[38;5;28;01melse\u001B[39;00m:\n\u001B[1;32m    506\u001B[0m     outputs \u001B[38;5;241m=\u001B[39m execute\u001B[38;5;241m.\u001B[39mexecute_with_cancellation(\n\u001B[1;32m    507\u001B[0m         \u001B[38;5;28mstr\u001B[39m(\u001B[38;5;28mself\u001B[39m\u001B[38;5;241m.\u001B[39msignature\u001B[38;5;241m.\u001B[39mname),\n\u001B[1;32m    508\u001B[0m         num_outputs\u001B[38;5;241m=\u001B[39m\u001B[38;5;28mself\u001B[39m\u001B[38;5;241m.\u001B[39m_num_outputs,\n\u001B[0;32m   (...)\u001B[0m\n\u001B[1;32m    511\u001B[0m         ctx\u001B[38;5;241m=\u001B[39mctx,\n\u001B[1;32m    512\u001B[0m         cancellation_manager\u001B[38;5;241m=\u001B[39mcancellation_manager)\n",
      "File \u001B[0;32m~/git/IV-Forecasting/venv/lib/python3.8/site-packages/tensorflow/python/eager/execute.py:54\u001B[0m, in \u001B[0;36mquick_execute\u001B[0;34m(op_name, num_outputs, inputs, attrs, ctx, name)\u001B[0m\n\u001B[1;32m     52\u001B[0m \u001B[38;5;28;01mtry\u001B[39;00m:\n\u001B[1;32m     53\u001B[0m   ctx\u001B[38;5;241m.\u001B[39mensure_initialized()\n\u001B[0;32m---> 54\u001B[0m   tensors \u001B[38;5;241m=\u001B[39m \u001B[43mpywrap_tfe\u001B[49m\u001B[38;5;241;43m.\u001B[39;49m\u001B[43mTFE_Py_Execute\u001B[49m\u001B[43m(\u001B[49m\u001B[43mctx\u001B[49m\u001B[38;5;241;43m.\u001B[39;49m\u001B[43m_handle\u001B[49m\u001B[43m,\u001B[49m\u001B[43m \u001B[49m\u001B[43mdevice_name\u001B[49m\u001B[43m,\u001B[49m\u001B[43m \u001B[49m\u001B[43mop_name\u001B[49m\u001B[43m,\u001B[49m\n\u001B[1;32m     55\u001B[0m \u001B[43m                                      \u001B[49m\u001B[43minputs\u001B[49m\u001B[43m,\u001B[49m\u001B[43m \u001B[49m\u001B[43mattrs\u001B[49m\u001B[43m,\u001B[49m\u001B[43m \u001B[49m\u001B[43mnum_outputs\u001B[49m\u001B[43m)\u001B[49m\n\u001B[1;32m     56\u001B[0m \u001B[38;5;28;01mexcept\u001B[39;00m core\u001B[38;5;241m.\u001B[39m_NotOkStatusException \u001B[38;5;28;01mas\u001B[39;00m e:\n\u001B[1;32m     57\u001B[0m   \u001B[38;5;28;01mif\u001B[39;00m name \u001B[38;5;129;01mis\u001B[39;00m \u001B[38;5;129;01mnot\u001B[39;00m \u001B[38;5;28;01mNone\u001B[39;00m:\n",
      "\u001B[0;31mKeyboardInterrupt\u001B[0m: "
     ]
    }
   ],
   "source": [
    "model.fit(\n",
    "    x=dataset,\n",
    "    batch_size=512,\n",
    "    epochs=1, # seems like enough to reach the the minimum loss\n",
    "    shuffle=True,\n",
    "    verbose=1,\n",
    "    use_multiprocessing=True,\n",
    "    workers=12,\n",
    ")"
   ],
   "metadata": {
    "collapsed": false,
    "pycharm": {
     "name": "#%%\n"
    }
   }
  },
  {
   "cell_type": "code",
   "execution_count": 31,
   "outputs": [
    {
     "name": "stdout",
     "output_type": "stream",
     "text": [
      "INFO:tensorflow:Assets written to: ./mape_loss_2/assets\n"
     ]
    }
   ],
   "source": [
    "model.save(\"./generator_1\")"
   ],
   "metadata": {
    "collapsed": false,
    "pycharm": {
     "name": "#%%\n"
    }
   }
  },
  {
   "cell_type": "code",
   "execution_count": 32,
   "outputs": [],
   "source": [
    "# modell = tf.keras.models.load_model(\"./initial_model_2\")\n",
    "modell = tf.keras.models.load_model(\"./mape_loss_2\")"
   ],
   "metadata": {
    "collapsed": false,
    "pycharm": {
     "name": "#%%\n"
    }
   }
  },
  {
   "cell_type": "code",
   "execution_count": 33,
   "outputs": [],
   "source": [
    "opt_test = pd.read_csv(\"../csv/options/raw/2017-18options.csv\")"
   ],
   "metadata": {
    "collapsed": false,
    "pycharm": {
     "name": "#%%\n"
    }
   }
  },
  {
   "cell_type": "code",
   "execution_count": 34,
   "outputs": [],
   "source": [
    "x_test, y_test = setup_options_input(opt_test, 200000)"
   ],
   "metadata": {
    "collapsed": false,
    "pycharm": {
     "name": "#%%\n"
    }
   }
  },
  {
   "cell_type": "code",
   "execution_count": 22,
   "outputs": [
    {
     "name": "stdout",
     "output_type": "stream",
     "text": [
      "6250/6250 [==============================] - 103s 16ms/step - loss: 39.2194 - mean_absolute_percentage_error: 39.2194 - mean_absolute_error: 0.2684 - mean_squared_error: 0.1707\n"
     ]
    },
    {
     "data": {
      "text/plain": "[39.219417572021484,\n 39.219417572021484,\n 0.26837822794914246,\n 0.17069818079471588]"
     },
     "execution_count": 22,
     "metadata": {},
     "output_type": "execute_result"
    }
   ],
   "source": [
    "modell.evaluate(x_test, y_test)"
   ],
   "metadata": {
    "collapsed": false,
    "pycharm": {
     "name": "#%%\n"
    }
   }
  },
  {
   "cell_type": "code",
   "execution_count": 15,
   "outputs": [
    {
     "name": "stdout",
     "output_type": "stream",
     "text": [
      "Model: \"sequential_3\"\n",
      "_________________________________________________________________\n",
      " Layer (type)                Output Shape              Param #   \n",
      "=================================================================\n",
      " dense_16 (Dense)            (None, 1979)              3918420   \n",
      "                                                                 \n",
      " dense_17 (Dense)            (None, 3958)              7836840   \n",
      "                                                                 \n",
      " dense_18 (Dense)            (None, 3958)              15669722  \n",
      "                                                                 \n",
      " dense_19 (Dense)            (None, 1979)              7834861   \n",
      "                                                                 \n",
      " dense_20 (Dense)            (None, 1)                 1980      \n",
      "                                                                 \n",
      "=================================================================\n",
      "Total params: 35,261,823\n",
      "Trainable params: 35,261,823\n",
      "Non-trainable params: 0\n",
      "_________________________________________________________________\n"
     ]
    }
   ],
   "source": [
    "modell.summary()"
   ],
   "metadata": {
    "collapsed": false,
    "pycharm": {
     "name": "#%%\n"
    }
   }
  },
  {
   "cell_type": "code",
   "execution_count": 39,
   "outputs": [],
   "source": [
    "y_predict = modell.predict(x_test)"
   ],
   "metadata": {
    "collapsed": false,
    "pycharm": {
     "name": "#%%\n"
    }
   }
  },
  {
   "cell_type": "code",
   "execution_count": null,
   "outputs": [],
   "source": [
    "plt.plot(y_test - y_predict)"
   ],
   "metadata": {
    "collapsed": false,
    "pycharm": {
     "name": "#%%\n"
    }
   }
  },
  {
   "cell_type": "code",
   "execution_count": null,
   "outputs": [],
   "source": [],
   "metadata": {
    "collapsed": false,
    "pycharm": {
     "name": "#%%\n"
    }
   }
  }
 ],
 "metadata": {
  "kernelspec": {
   "name": "python3",
   "language": "python",
   "display_name": "Python 3 (ipykernel)"
  },
  "language_info": {
   "codemirror_mode": {
    "name": "ipython",
    "version": 2
   },
   "file_extension": ".py",
   "mimetype": "text/x-python",
   "name": "python",
   "nbconvert_exporter": "python",
   "pygments_lexer": "ipython2",
   "version": "2.7.6"
  }
 },
 "nbformat": 4,
 "nbformat_minor": 1
}