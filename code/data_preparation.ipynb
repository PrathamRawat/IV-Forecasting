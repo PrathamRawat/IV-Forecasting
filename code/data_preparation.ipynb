{
 "cells": [
  {
   "cell_type": "markdown",
   "metadata": {
    "collapsed": true,
    "pycharm": {
     "name": "#%% md\n"
    }
   },
   "source": [
    "# Data Cleaning and Preparation"
   ]
  },
  {
   "cell_type": "code",
   "execution_count": 5,
   "outputs": [],
   "source": [
    "import numpy as np\n",
    "import datetime\n",
    "import pandas as pd\n",
    "import os\n",
    "from tqdm import tqdm\n",
    "import concurrent.futures"
   ],
   "metadata": {
    "collapsed": false,
    "pycharm": {
     "name": "#%%\n"
    }
   }
  },
  {
   "cell_type": "markdown",
   "source": [
    "## Google Trends Data"
   ],
   "metadata": {
    "collapsed": false,
    "pycharm": {
     "name": "#%% md\n"
    }
   }
  },
  {
   "cell_type": "code",
   "execution_count": 17,
   "outputs": [
    {
     "data": {
      "text/plain": "['analyst.csv',\n 'bailout.csv',\n 'banking.csv',\n 'bankruptcy.csv',\n 'bear market.csv',\n 'betting.csv',\n 'billionaire.csv',\n 'bonds.csv',\n 'bull market.csv',\n 'debt ceiling.csv',\n 'debt.csv',\n 'default.csv',\n 'democrat.csv',\n 'disease.csv',\n 'division.csv',\n 'earnings.csv',\n 'economy.csv',\n 'election.csv',\n 'etf.csv',\n 'executive order.csv',\n 'fed.csv',\n 'federal reserve.csv',\n 'finance.csv',\n 'fire.csv',\n 'forex.csv',\n 'fraud.csv',\n 'GDP.csv',\n 'gold.csv',\n 'government spending.csv',\n 'health.csv',\n 'hedge fund.csv',\n 'immigration.csv',\n 'inflation.csv',\n 'innovation.csv',\n 'insider trading.csv',\n 'interest rates.csv',\n 'investment banking.csv',\n 'investment.csv',\n 'investor confidence.csv',\n 'jobs.csv',\n 'law.csv',\n 'lawsuit.csv',\n 'loan.csv',\n 'luxury.csv',\n 'millionaire.csv',\n 'money.csv',\n 'mortgage.csv',\n 'NASDAQ.csv',\n 'news.csv',\n 'NYSE.csv',\n 'option call.csv',\n 'option put.csv',\n 'politics.csv',\n 'prayers.csv',\n 'prices.csv',\n 'recession.csv',\n 'rent.csv',\n 'republican.csv',\n 'rigged economy.csv',\n 'S&P 500.csv',\n 'sec investigation.csv',\n 'silicon valley.csv',\n 'sports.csv',\n 'spy.csv',\n 'startup.csv',\n 'stimulus.csv',\n 'stock futures.csv',\n 'stock trading.csv',\n 'stock-market.csv',\n 'stocks.csv',\n 'supreme court.csv',\n 'technology.csv',\n 'treasury.csv',\n 'unemployment.csv',\n 'vaccine.csv',\n 'venture capital.csv',\n 'wall street bets.csv',\n 'wall street.csv',\n 'war.csv']"
     },
     "execution_count": 17,
     "metadata": {},
     "output_type": "execute_result"
    }
   ],
   "source": [
    "files = os.listdir(\"../csv/trends/raw\")\n",
    "files"
   ],
   "metadata": {
    "collapsed": false,
    "pycharm": {
     "name": "#%%\n"
    }
   }
  },
  {
   "cell_type": "code",
   "execution_count": 18,
   "outputs": [],
   "source": [
    "def clean_file(file):\n",
    "    data = pd.read_csv(\"../csv/trends/raw/{}\".format(file))\n",
    "    data = data.drop(columns=\"isPartial\")\n",
    "    data = data.drop_duplicates(subset=\"date\", keep=\"last\")\n",
    "    data.to_csv(\"../csv/trends/cleaned/{}\".format(file), index=False)"
   ],
   "metadata": {
    "collapsed": false,
    "pycharm": {
     "name": "#%%\n"
    }
   }
  },
  {
   "cell_type": "code",
   "execution_count": 29,
   "outputs": [],
   "source": [
    "# Slow, Non Parallelized\n",
    "# for file in tqdm(files):\n",
    "#     clean_file(file)"
   ],
   "metadata": {
    "collapsed": false,
    "pycharm": {
     "name": "#%%\n"
    }
   }
  },
  {
   "cell_type": "code",
   "execution_count": 19,
   "outputs": [],
   "source": [
    "# Fast, Parallelized, Wow\n",
    "with concurrent.futures.ThreadPoolExecutor(max_workers=12) as executor:\n",
    "    executor.map(clean_file,\n",
    "                 files)"
   ],
   "metadata": {
    "collapsed": false,
    "pycharm": {
     "name": "#%%\n"
    }
   }
  },
  {
   "cell_type": "code",
   "execution_count": 24,
   "outputs": [
    {
     "data": {
      "text/plain": "['analyst.csv',\n 'bailout.csv',\n 'banking.csv',\n 'bankruptcy.csv',\n 'bear market.csv',\n 'betting.csv',\n 'billionaire.csv',\n 'bonds.csv',\n 'bull market.csv',\n 'debt ceiling.csv',\n 'debt.csv',\n 'default.csv',\n 'democrat.csv',\n 'disease.csv',\n 'division.csv',\n 'earnings.csv',\n 'economy.csv',\n 'election.csv',\n 'etf.csv',\n 'executive order.csv',\n 'fed.csv',\n 'federal reserve.csv',\n 'finance.csv',\n 'fire.csv',\n 'forex.csv',\n 'fraud.csv',\n 'GDP.csv',\n 'gold.csv',\n 'government spending.csv',\n 'health.csv',\n 'hedge fund.csv',\n 'immigration.csv',\n 'inflation.csv',\n 'innovation.csv',\n 'insider trading.csv',\n 'interest rates.csv',\n 'investment banking.csv',\n 'investment.csv',\n 'investor confidence.csv',\n 'jobs.csv',\n 'law.csv',\n 'lawsuit.csv',\n 'loan.csv',\n 'luxury.csv',\n 'millionaire.csv',\n 'money.csv',\n 'mortgage.csv',\n 'NASDAQ.csv',\n 'news.csv',\n 'NYSE.csv',\n 'option call.csv',\n 'option put.csv',\n 'politics.csv',\n 'prayers.csv',\n 'prices.csv',\n 'recession.csv',\n 'rent.csv',\n 'republican.csv',\n 'rigged economy.csv',\n 'S&P 500.csv',\n 'sec investigation.csv',\n 'silicon valley.csv',\n 'sports.csv',\n 'spy.csv',\n 'startup.csv',\n 'stimulus.csv',\n 'stock futures.csv',\n 'stock trading.csv',\n 'stock-market.csv',\n 'stocks.csv',\n 'supreme court.csv',\n 'technology.csv',\n 'treasury.csv',\n 'unemployment.csv',\n 'vaccine.csv',\n 'venture capital.csv',\n 'wall street bets.csv',\n 'wall street.csv',\n 'war.csv']"
     },
     "execution_count": 24,
     "metadata": {},
     "output_type": "execute_result"
    }
   ],
   "source": [
    "files = os.listdir(\"../csv/trends/cleaned\")\n",
    "files"
   ],
   "metadata": {
    "collapsed": false,
    "pycharm": {
     "name": "#%%\n"
    }
   }
  },
  {
   "cell_type": "code",
   "execution_count": 25,
   "outputs": [
    {
     "data": {
      "text/plain": "                      date  analyst\n0      2015-01-01 00:00:00       38\n1      2015-01-01 01:00:00       38\n2      2015-01-01 02:00:00       40\n3      2015-01-01 03:00:00       43\n4      2015-01-01 04:00:00       42\n...                    ...      ...\n57189  2021-07-17 20:00:00       43\n57190  2021-07-17 21:00:00       44\n57191  2021-07-17 22:00:00       43\n57192  2021-07-17 23:00:00       46\n57193  2021-07-18 00:00:00       45\n\n[57194 rows x 2 columns]",
      "text/html": "<div>\n<style scoped>\n    .dataframe tbody tr th:only-of-type {\n        vertical-align: middle;\n    }\n\n    .dataframe tbody tr th {\n        vertical-align: top;\n    }\n\n    .dataframe thead th {\n        text-align: right;\n    }\n</style>\n<table border=\"1\" class=\"dataframe\">\n  <thead>\n    <tr style=\"text-align: right;\">\n      <th></th>\n      <th>date</th>\n      <th>analyst</th>\n    </tr>\n  </thead>\n  <tbody>\n    <tr>\n      <th>0</th>\n      <td>2015-01-01 00:00:00</td>\n      <td>38</td>\n    </tr>\n    <tr>\n      <th>1</th>\n      <td>2015-01-01 01:00:00</td>\n      <td>38</td>\n    </tr>\n    <tr>\n      <th>2</th>\n      <td>2015-01-01 02:00:00</td>\n      <td>40</td>\n    </tr>\n    <tr>\n      <th>3</th>\n      <td>2015-01-01 03:00:00</td>\n      <td>43</td>\n    </tr>\n    <tr>\n      <th>4</th>\n      <td>2015-01-01 04:00:00</td>\n      <td>42</td>\n    </tr>\n    <tr>\n      <th>...</th>\n      <td>...</td>\n      <td>...</td>\n    </tr>\n    <tr>\n      <th>57189</th>\n      <td>2021-07-17 20:00:00</td>\n      <td>43</td>\n    </tr>\n    <tr>\n      <th>57190</th>\n      <td>2021-07-17 21:00:00</td>\n      <td>44</td>\n    </tr>\n    <tr>\n      <th>57191</th>\n      <td>2021-07-17 22:00:00</td>\n      <td>43</td>\n    </tr>\n    <tr>\n      <th>57192</th>\n      <td>2021-07-17 23:00:00</td>\n      <td>46</td>\n    </tr>\n    <tr>\n      <th>57193</th>\n      <td>2021-07-18 00:00:00</td>\n      <td>45</td>\n    </tr>\n  </tbody>\n</table>\n<p>57194 rows × 2 columns</p>\n</div>"
     },
     "execution_count": 25,
     "metadata": {},
     "output_type": "execute_result"
    }
   ],
   "source": [
    "data = map(lambda f: pd.read_csv(\"../csv/trends/cleaned/{}\".format(f)), files)\n",
    "data = list(data)\n",
    "data[0]"
   ],
   "metadata": {
    "collapsed": false,
    "pycharm": {
     "name": "#%%\n"
    }
   }
  },
  {
   "cell_type": "code",
   "execution_count": 26,
   "outputs": [],
   "source": [
    "for d in range(len(data)):\n",
    "    data[d][\"date\"] = pd.to_datetime(data[d][\"date\"])\n",
    "    data[d] = data[d].set_index(\"date\")"
   ],
   "metadata": {
    "collapsed": false,
    "pycharm": {
     "name": "#%%\n"
    }
   }
  },
  {
   "cell_type": "code",
   "execution_count": 27,
   "outputs": [
    {
     "data": {
      "text/plain": "DatetimeIndex(['2015-01-01 00:00:00', '2015-01-01 01:00:00',\n               '2015-01-01 02:00:00', '2015-01-01 03:00:00',\n               '2015-01-01 04:00:00', '2015-01-01 05:00:00',\n               '2015-01-01 06:00:00', '2015-01-01 07:00:00',\n               '2015-01-01 08:00:00', '2015-01-01 09:00:00',\n               ...\n               '2021-07-17 15:00:00', '2021-07-17 16:00:00',\n               '2021-07-17 17:00:00', '2021-07-17 18:00:00',\n               '2021-07-17 19:00:00', '2021-07-17 20:00:00',\n               '2021-07-17 21:00:00', '2021-07-17 22:00:00',\n               '2021-07-17 23:00:00', '2021-07-18 00:00:00'],\n              dtype='datetime64[ns]', name='date', length=57194, freq=None)"
     },
     "execution_count": 27,
     "metadata": {},
     "output_type": "execute_result"
    }
   ],
   "source": [
    "data[0].index"
   ],
   "metadata": {
    "collapsed": false,
    "pycharm": {
     "name": "#%%\n"
    }
   }
  },
  {
   "cell_type": "code",
   "execution_count": 28,
   "outputs": [
    {
     "data": {
      "text/plain": "[True,\n True,\n True,\n True,\n True,\n True,\n True,\n True,\n True,\n True,\n True,\n True,\n True,\n True,\n True,\n True,\n True,\n True,\n True,\n True,\n True,\n True,\n True,\n True,\n True,\n True,\n True,\n True,\n True,\n True,\n True,\n True,\n True,\n True,\n True,\n True,\n True,\n True,\n True,\n True,\n True,\n True,\n True,\n True,\n True,\n True,\n True,\n True,\n True,\n True,\n True,\n True,\n True,\n True,\n True,\n True,\n True,\n True,\n True,\n True,\n True,\n True,\n True,\n True,\n True,\n True,\n True,\n True,\n True,\n True,\n True,\n True,\n True,\n True,\n True,\n True,\n True,\n True,\n True]"
     },
     "execution_count": 28,
     "metadata": {},
     "output_type": "execute_result"
    }
   ],
   "source": [
    "list(map(lambda x: x.index.is_unique, data))"
   ],
   "metadata": {
    "collapsed": false,
    "pycharm": {
     "name": "#%%\n"
    }
   }
  },
  {
   "cell_type": "code",
   "execution_count": 29,
   "outputs": [
    {
     "data": {
      "text/plain": "                     analyst  bailout  banking  bankruptcy  bear market  \\\ndate                                                                      \n2015-01-01 00:00:00     38.0     47.0     28.0          50         40.0   \n2015-01-01 01:00:00     38.0     60.0     28.0          53         36.0   \n2015-01-01 02:00:00     40.0     69.0     30.0          62         30.0   \n2015-01-01 03:00:00     43.0     33.0     38.0          34         28.0   \n2015-01-01 04:00:00     42.0     31.0     41.0          38         34.0   \n\n                     betting  billionaire  bonds  bull market  debt ceiling  \\\ndate                                                                          \n2015-01-01 00:00:00     68.0           28     30         86.0           9.0   \n2015-01-01 01:00:00     40.0           36     27        100.0          19.0   \n2015-01-01 02:00:00     48.0           29     35         61.0           5.0   \n2015-01-01 03:00:00     41.0           33     34         47.0          24.0   \n2015-01-01 04:00:00     48.0           33     39         41.0          19.0   \n\n                     ...  stocks  supreme court  technology  treasury  \\\ndate                 ...                                                \n2015-01-01 00:00:00  ...    76.0           48.0        32.0      33.0   \n2015-01-01 01:00:00  ...    74.0           56.0        37.0      33.0   \n2015-01-01 02:00:00  ...    73.0           56.0        39.0      35.0   \n2015-01-01 03:00:00  ...    96.0           53.0        45.0      41.0   \n2015-01-01 04:00:00  ...    72.0           54.0        47.0      45.0   \n\n                     unemployment  vaccine  venture capital  wall street bets  \\\ndate                                                                            \n2015-01-01 00:00:00            45     54.0             21.0               0.0   \n2015-01-01 01:00:00            40     56.0             15.0               0.0   \n2015-01-01 02:00:00            38     52.0             99.0               0.0   \n2015-01-01 03:00:00            37     54.0             21.0               0.0   \n2015-01-01 04:00:00            33     59.0             20.0               0.0   \n\n                     wall street   war  \ndate                                    \n2015-01-01 00:00:00         60.0  76.0  \n2015-01-01 01:00:00         63.0  79.0  \n2015-01-01 02:00:00         60.0  80.0  \n2015-01-01 03:00:00         57.0  79.0  \n2015-01-01 04:00:00         54.0  74.0  \n\n[5 rows x 79 columns]",
      "text/html": "<div>\n<style scoped>\n    .dataframe tbody tr th:only-of-type {\n        vertical-align: middle;\n    }\n\n    .dataframe tbody tr th {\n        vertical-align: top;\n    }\n\n    .dataframe thead th {\n        text-align: right;\n    }\n</style>\n<table border=\"1\" class=\"dataframe\">\n  <thead>\n    <tr style=\"text-align: right;\">\n      <th></th>\n      <th>analyst</th>\n      <th>bailout</th>\n      <th>banking</th>\n      <th>bankruptcy</th>\n      <th>bear market</th>\n      <th>betting</th>\n      <th>billionaire</th>\n      <th>bonds</th>\n      <th>bull market</th>\n      <th>debt ceiling</th>\n      <th>...</th>\n      <th>stocks</th>\n      <th>supreme court</th>\n      <th>technology</th>\n      <th>treasury</th>\n      <th>unemployment</th>\n      <th>vaccine</th>\n      <th>venture capital</th>\n      <th>wall street bets</th>\n      <th>wall street</th>\n      <th>war</th>\n    </tr>\n    <tr>\n      <th>date</th>\n      <th></th>\n      <th></th>\n      <th></th>\n      <th></th>\n      <th></th>\n      <th></th>\n      <th></th>\n      <th></th>\n      <th></th>\n      <th></th>\n      <th></th>\n      <th></th>\n      <th></th>\n      <th></th>\n      <th></th>\n      <th></th>\n      <th></th>\n      <th></th>\n      <th></th>\n      <th></th>\n      <th></th>\n    </tr>\n  </thead>\n  <tbody>\n    <tr>\n      <th>2015-01-01 00:00:00</th>\n      <td>38.0</td>\n      <td>47.0</td>\n      <td>28.0</td>\n      <td>50</td>\n      <td>40.0</td>\n      <td>68.0</td>\n      <td>28</td>\n      <td>30</td>\n      <td>86.0</td>\n      <td>9.0</td>\n      <td>...</td>\n      <td>76.0</td>\n      <td>48.0</td>\n      <td>32.0</td>\n      <td>33.0</td>\n      <td>45</td>\n      <td>54.0</td>\n      <td>21.0</td>\n      <td>0.0</td>\n      <td>60.0</td>\n      <td>76.0</td>\n    </tr>\n    <tr>\n      <th>2015-01-01 01:00:00</th>\n      <td>38.0</td>\n      <td>60.0</td>\n      <td>28.0</td>\n      <td>53</td>\n      <td>36.0</td>\n      <td>40.0</td>\n      <td>36</td>\n      <td>27</td>\n      <td>100.0</td>\n      <td>19.0</td>\n      <td>...</td>\n      <td>74.0</td>\n      <td>56.0</td>\n      <td>37.0</td>\n      <td>33.0</td>\n      <td>40</td>\n      <td>56.0</td>\n      <td>15.0</td>\n      <td>0.0</td>\n      <td>63.0</td>\n      <td>79.0</td>\n    </tr>\n    <tr>\n      <th>2015-01-01 02:00:00</th>\n      <td>40.0</td>\n      <td>69.0</td>\n      <td>30.0</td>\n      <td>62</td>\n      <td>30.0</td>\n      <td>48.0</td>\n      <td>29</td>\n      <td>35</td>\n      <td>61.0</td>\n      <td>5.0</td>\n      <td>...</td>\n      <td>73.0</td>\n      <td>56.0</td>\n      <td>39.0</td>\n      <td>35.0</td>\n      <td>38</td>\n      <td>52.0</td>\n      <td>99.0</td>\n      <td>0.0</td>\n      <td>60.0</td>\n      <td>80.0</td>\n    </tr>\n    <tr>\n      <th>2015-01-01 03:00:00</th>\n      <td>43.0</td>\n      <td>33.0</td>\n      <td>38.0</td>\n      <td>34</td>\n      <td>28.0</td>\n      <td>41.0</td>\n      <td>33</td>\n      <td>34</td>\n      <td>47.0</td>\n      <td>24.0</td>\n      <td>...</td>\n      <td>96.0</td>\n      <td>53.0</td>\n      <td>45.0</td>\n      <td>41.0</td>\n      <td>37</td>\n      <td>54.0</td>\n      <td>21.0</td>\n      <td>0.0</td>\n      <td>57.0</td>\n      <td>79.0</td>\n    </tr>\n    <tr>\n      <th>2015-01-01 04:00:00</th>\n      <td>42.0</td>\n      <td>31.0</td>\n      <td>41.0</td>\n      <td>38</td>\n      <td>34.0</td>\n      <td>48.0</td>\n      <td>33</td>\n      <td>39</td>\n      <td>41.0</td>\n      <td>19.0</td>\n      <td>...</td>\n      <td>72.0</td>\n      <td>54.0</td>\n      <td>47.0</td>\n      <td>45.0</td>\n      <td>33</td>\n      <td>59.0</td>\n      <td>20.0</td>\n      <td>0.0</td>\n      <td>54.0</td>\n      <td>74.0</td>\n    </tr>\n  </tbody>\n</table>\n<p>5 rows × 79 columns</p>\n</div>"
     },
     "execution_count": 29,
     "metadata": {},
     "output_type": "execute_result"
    }
   ],
   "source": [
    "full_data = pd.concat(data, ignore_index=False, axis=1, join=\"outer\")\n",
    "full_data.head()"
   ],
   "metadata": {
    "collapsed": false,
    "pycharm": {
     "name": "#%%\n"
    }
   }
  },
  {
   "cell_type": "code",
   "execution_count": 31,
   "outputs": [
    {
     "data": {
      "text/plain": "                     analyst  bailout  banking  bankruptcy  bear market  \\\ndate                                                                      \n2015-01-01 00:00:00     38.0     47.0     28.0          50         40.0   \n2015-01-01 01:00:00     38.0     60.0     28.0          53         36.0   \n2015-01-01 02:00:00     40.0     69.0     30.0          62         30.0   \n2015-01-01 03:00:00     43.0     33.0     38.0          34         28.0   \n2015-01-01 04:00:00     42.0     31.0     41.0          38         34.0   \n\n                     betting  billionaire  bonds  bull market  debt ceiling  \\\ndate                                                                          \n2015-01-01 00:00:00     68.0           28     30         86.0           9.0   \n2015-01-01 01:00:00     40.0           36     27        100.0          19.0   \n2015-01-01 02:00:00     48.0           29     35         61.0           5.0   \n2015-01-01 03:00:00     41.0           33     34         47.0          24.0   \n2015-01-01 04:00:00     48.0           33     39         41.0          19.0   \n\n                     ...  stocks  supreme court  technology  treasury  \\\ndate                 ...                                                \n2015-01-01 00:00:00  ...    76.0           48.0        32.0      33.0   \n2015-01-01 01:00:00  ...    74.0           56.0        37.0      33.0   \n2015-01-01 02:00:00  ...    73.0           56.0        39.0      35.0   \n2015-01-01 03:00:00  ...    96.0           53.0        45.0      41.0   \n2015-01-01 04:00:00  ...    72.0           54.0        47.0      45.0   \n\n                     unemployment  vaccine  venture capital  wall street bets  \\\ndate                                                                            \n2015-01-01 00:00:00            45     54.0             21.0               0.0   \n2015-01-01 01:00:00            40     56.0             15.0               0.0   \n2015-01-01 02:00:00            38     52.0             99.0               0.0   \n2015-01-01 03:00:00            37     54.0             21.0               0.0   \n2015-01-01 04:00:00            33     59.0             20.0               0.0   \n\n                     wall street   war  \ndate                                    \n2015-01-01 00:00:00         60.0  76.0  \n2015-01-01 01:00:00         63.0  79.0  \n2015-01-01 02:00:00         60.0  80.0  \n2015-01-01 03:00:00         57.0  79.0  \n2015-01-01 04:00:00         54.0  74.0  \n\n[5 rows x 79 columns]",
      "text/html": "<div>\n<style scoped>\n    .dataframe tbody tr th:only-of-type {\n        vertical-align: middle;\n    }\n\n    .dataframe tbody tr th {\n        vertical-align: top;\n    }\n\n    .dataframe thead th {\n        text-align: right;\n    }\n</style>\n<table border=\"1\" class=\"dataframe\">\n  <thead>\n    <tr style=\"text-align: right;\">\n      <th></th>\n      <th>analyst</th>\n      <th>bailout</th>\n      <th>banking</th>\n      <th>bankruptcy</th>\n      <th>bear market</th>\n      <th>betting</th>\n      <th>billionaire</th>\n      <th>bonds</th>\n      <th>bull market</th>\n      <th>debt ceiling</th>\n      <th>...</th>\n      <th>stocks</th>\n      <th>supreme court</th>\n      <th>technology</th>\n      <th>treasury</th>\n      <th>unemployment</th>\n      <th>vaccine</th>\n      <th>venture capital</th>\n      <th>wall street bets</th>\n      <th>wall street</th>\n      <th>war</th>\n    </tr>\n    <tr>\n      <th>date</th>\n      <th></th>\n      <th></th>\n      <th></th>\n      <th></th>\n      <th></th>\n      <th></th>\n      <th></th>\n      <th></th>\n      <th></th>\n      <th></th>\n      <th></th>\n      <th></th>\n      <th></th>\n      <th></th>\n      <th></th>\n      <th></th>\n      <th></th>\n      <th></th>\n      <th></th>\n      <th></th>\n      <th></th>\n    </tr>\n  </thead>\n  <tbody>\n    <tr>\n      <th>2015-01-01 00:00:00</th>\n      <td>38.0</td>\n      <td>47.0</td>\n      <td>28.0</td>\n      <td>50</td>\n      <td>40.0</td>\n      <td>68.0</td>\n      <td>28</td>\n      <td>30</td>\n      <td>86.0</td>\n      <td>9.0</td>\n      <td>...</td>\n      <td>76.0</td>\n      <td>48.0</td>\n      <td>32.0</td>\n      <td>33.0</td>\n      <td>45</td>\n      <td>54.0</td>\n      <td>21.0</td>\n      <td>0.0</td>\n      <td>60.0</td>\n      <td>76.0</td>\n    </tr>\n    <tr>\n      <th>2015-01-01 01:00:00</th>\n      <td>38.0</td>\n      <td>60.0</td>\n      <td>28.0</td>\n      <td>53</td>\n      <td>36.0</td>\n      <td>40.0</td>\n      <td>36</td>\n      <td>27</td>\n      <td>100.0</td>\n      <td>19.0</td>\n      <td>...</td>\n      <td>74.0</td>\n      <td>56.0</td>\n      <td>37.0</td>\n      <td>33.0</td>\n      <td>40</td>\n      <td>56.0</td>\n      <td>15.0</td>\n      <td>0.0</td>\n      <td>63.0</td>\n      <td>79.0</td>\n    </tr>\n    <tr>\n      <th>2015-01-01 02:00:00</th>\n      <td>40.0</td>\n      <td>69.0</td>\n      <td>30.0</td>\n      <td>62</td>\n      <td>30.0</td>\n      <td>48.0</td>\n      <td>29</td>\n      <td>35</td>\n      <td>61.0</td>\n      <td>5.0</td>\n      <td>...</td>\n      <td>73.0</td>\n      <td>56.0</td>\n      <td>39.0</td>\n      <td>35.0</td>\n      <td>38</td>\n      <td>52.0</td>\n      <td>99.0</td>\n      <td>0.0</td>\n      <td>60.0</td>\n      <td>80.0</td>\n    </tr>\n    <tr>\n      <th>2015-01-01 03:00:00</th>\n      <td>43.0</td>\n      <td>33.0</td>\n      <td>38.0</td>\n      <td>34</td>\n      <td>28.0</td>\n      <td>41.0</td>\n      <td>33</td>\n      <td>34</td>\n      <td>47.0</td>\n      <td>24.0</td>\n      <td>...</td>\n      <td>96.0</td>\n      <td>53.0</td>\n      <td>45.0</td>\n      <td>41.0</td>\n      <td>37</td>\n      <td>54.0</td>\n      <td>21.0</td>\n      <td>0.0</td>\n      <td>57.0</td>\n      <td>79.0</td>\n    </tr>\n    <tr>\n      <th>2015-01-01 04:00:00</th>\n      <td>42.0</td>\n      <td>31.0</td>\n      <td>41.0</td>\n      <td>38</td>\n      <td>34.0</td>\n      <td>48.0</td>\n      <td>33</td>\n      <td>39</td>\n      <td>41.0</td>\n      <td>19.0</td>\n      <td>...</td>\n      <td>72.0</td>\n      <td>54.0</td>\n      <td>47.0</td>\n      <td>45.0</td>\n      <td>33</td>\n      <td>59.0</td>\n      <td>20.0</td>\n      <td>0.0</td>\n      <td>54.0</td>\n      <td>74.0</td>\n    </tr>\n  </tbody>\n</table>\n<p>5 rows × 79 columns</p>\n</div>"
     },
     "execution_count": 31,
     "metadata": {},
     "output_type": "execute_result"
    }
   ],
   "source": [
    "full_data = full_data.fillna(0)\n",
    "full_data.head()\n"
   ],
   "metadata": {
    "collapsed": false,
    "pycharm": {
     "name": "#%%\n"
    }
   }
  },
  {
   "cell_type": "code",
   "execution_count": 33,
   "outputs": [],
   "source": [
    "full_data.to_csv(\"trends.csv\")"
   ],
   "metadata": {
    "collapsed": false,
    "pycharm": {
     "name": "#%%\n"
    }
   }
  },
  {
   "cell_type": "markdown",
   "source": [
    "## WRDS Options Data"
   ],
   "metadata": {
    "collapsed": false,
    "pycharm": {
     "name": "#%% md\n"
    }
   }
  },
  {
   "cell_type": "code",
   "execution_count": 1,
   "outputs": [],
   "source": [
    "options_files = [\n",
    "    \"../csv/options/raw/2015-16options.csv\",\n",
    "    \"../csv/options/raw/2016-17options.csv\",\n",
    "    \"../csv/options/raw/2017-18options.csv\",\n",
    "    \"../csv/options/raw/2018-19options.csv\",\n",
    "    \"../csv/options/raw/2019-20options.csv\"\n",
    "]"
   ],
   "metadata": {
    "collapsed": false,
    "pycharm": {
     "name": "#%%\n"
    }
   }
  },
  {
   "cell_type": "code",
   "execution_count": 3,
   "outputs": [],
   "source": [
    "def clean_options(file):\n",
    "    print(\"Reading\")\n",
    "    data = pd.read_csv(file)\n",
    "    print(\"Fixing Dates\")\n",
    "    data[\"date\"] = pd.to_datetime(data[\"date\"], errors='coerce')\n",
    "    data[\"exdate\"] = pd.to_datetime(data[\"exdate\"], errors='coerce')\n",
    "    print(\"Dropping NAs\")\n",
    "    data = data.dropna()\n",
    "    print(\"Saving to File\")\n",
    "    data.to_csv(\"../csv/options/cleaned/{}\".format(file.split(\"/\"))[-1])"
   ],
   "metadata": {
    "collapsed": false,
    "pycharm": {
     "name": "#%%\n"
    }
   }
  },
  {
   "cell_type": "code",
   "execution_count": 6,
   "outputs": [
    {
     "name": "stdout",
     "output_type": "stream",
     "text": [
      "Cleaning ../csv/options/raw/2015-16options.csv\n",
      "Reading\n",
      "Fixing Dates\n",
      "Dropping NAs\n",
      "Saving to File\n",
      "Done.\n",
      "Cleaning ../csv/options/raw/2016-17options.csv\n",
      "Reading\n",
      "Fixing Dates\n",
      "Dropping NAs\n",
      "Saving to File\n",
      "Done.\n",
      "Cleaning ../csv/options/raw/2017-18options.csv\n",
      "Reading\n",
      "Fixing Dates\n",
      "Dropping NAs\n",
      "Saving to File\n",
      "Done.\n",
      "Cleaning ../csv/options/raw/2018-19options.csv\n",
      "Reading\n",
      "Fixing Dates\n",
      "Dropping NAs\n",
      "Saving to File\n",
      "Done.\n",
      "Cleaning ../csv/options/raw/2019-20options.csv\n",
      "Reading\n",
      "Fixing Dates\n",
      "Dropping NAs\n",
      "Saving to File\n",
      "Done.\n"
     ]
    }
   ],
   "source": [
    "for file in options_files:\n",
    "    print(\"Cleaning {}\".format(file))\n",
    "    clean_options(file)\n",
    "    print(\"Done.\")\n"
   ],
   "metadata": {
    "collapsed": false,
    "pycharm": {
     "name": "#%%\n"
    }
   }
  },
  {
   "cell_type": "code",
   "execution_count": null,
   "outputs": [],
   "source": [],
   "metadata": {
    "collapsed": false,
    "pycharm": {
     "name": "#%%\n"
    }
   }
  }
 ],
 "metadata": {
  "kernelspec": {
   "display_name": "Python 3",
   "language": "python",
   "name": "python3"
  },
  "language_info": {
   "codemirror_mode": {
    "name": "ipython",
    "version": 2
   },
   "file_extension": ".py",
   "mimetype": "text/x-python",
   "name": "python",
   "nbconvert_exporter": "python",
   "pygments_lexer": "ipython2",
   "version": "2.7.6"
  }
 },
 "nbformat": 4,
 "nbformat_minor": 0
}