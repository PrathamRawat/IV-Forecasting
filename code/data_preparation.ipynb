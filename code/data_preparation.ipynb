{
 "cells": [
  {
   "cell_type": "markdown",
   "metadata": {
    "collapsed": true,
    "pycharm": {
     "name": "#%% md\n"
    }
   },
   "source": [
    "# Data Cleaning and Preparation"
   ]
  },
  {
   "cell_type": "code",
   "execution_count": 29,
   "outputs": [],
   "source": [
    "import numpy as np\n",
    "import datetime\n",
    "import pandas as pd\n",
    "import os\n",
    "from tqdm import tqdm\n",
    "import concurrent.futures"
   ],
   "metadata": {
    "collapsed": false,
    "pycharm": {
     "name": "#%%\n"
    }
   }
  },
  {
   "cell_type": "markdown",
   "source": [
    "## Google Trends Data"
   ],
   "metadata": {
    "collapsed": false,
    "pycharm": {
     "name": "#%% md\n"
    }
   }
  },
  {
   "cell_type": "code",
   "execution_count": 5,
   "outputs": [
    {
     "data": {
      "text/plain": "['politics.csv',\n 'option call.csv',\n 'treasury.csv',\n 'stock-market.csv',\n 'loan.csv',\n 'rigged economy.csv',\n 'gold.csv',\n 'stimulus.csv',\n 'bonds.csv',\n 'election.csv',\n 'finance.csv',\n 'lawsuit.csv',\n 'millionaire.csv',\n 'economy.csv',\n 'fraud.csv',\n 'luxury.csv',\n 'venture capital.csv',\n 'NYSE.csv',\n 'NASDAQ.csv',\n 'banking.csv',\n 'default.csv',\n 'investment banking.csv',\n 'debt ceiling.csv',\n 'supreme court.csv',\n 'bull market.csv',\n 'stock futures.csv',\n 'wall street bets.csv',\n 'insider trading.csv',\n 'etf.csv',\n 'hedge fund.csv',\n 'bear market.csv',\n 'silicon valley.csv',\n 'immigration.csv',\n 'executive order.csv',\n 'technology.csv',\n 'startup.csv',\n 'jobs.csv',\n 'prices.csv',\n 'bankruptcy.csv',\n 'mortgage.csv',\n 'innovation.csv',\n 'money.csv',\n 'government spending.csv',\n 'forex.csv',\n 'analyst.csv',\n 'rent.csv',\n 'federal reserve.csv',\n 'fed.csv',\n 'betting.csv',\n 'sports.csv',\n 'investor confidence.csv',\n 'investment.csv',\n 'debt.csv',\n 'earnings.csv',\n 'bailout.csv',\n 'spy.csv',\n 'prayers.csv',\n 'sec investigation.csv',\n 'division.csv',\n 'billionaire.csv',\n 'inflation.csv',\n 'interest rates.csv',\n 'S&P 500.csv',\n 'wall street.csv',\n 'news.csv',\n 'vaccine.csv',\n 'war.csv',\n 'unemployment.csv',\n 'stock trading.csv',\n 'fire.csv',\n 'health.csv',\n 'recession.csv',\n 'GDP.csv',\n 'republican.csv',\n 'law.csv',\n 'option put.csv',\n 'disease.csv',\n 'democrat.csv',\n 'stocks.csv']"
     },
     "execution_count": 5,
     "metadata": {},
     "output_type": "execute_result"
    }
   ],
   "source": [
    "files = os.listdir(\"../csv/trends/raw\")\n",
    "files"
   ],
   "metadata": {
    "collapsed": false,
    "pycharm": {
     "name": "#%%\n"
    }
   }
  },
  {
   "cell_type": "code",
   "execution_count": 31,
   "outputs": [],
   "source": [
    "def clean_file(file):\n",
    "    data = pd.read_csv(\"../csv/trends/raw/{}\".format(file))\n",
    "    # Compute rolling average \n",
    "    data[\"delta\"] = data[file[:-4]].rolling(2).apply(lambda x: (x.iloc[1] - x.iloc[0])/x.iloc[0])\n",
    "    data.to_csv(\"../csv/trends/cleaned/{}\".format(file))"
   ],
   "metadata": {
    "collapsed": false,
    "pycharm": {
     "name": "#%%\n"
    }
   }
  },
  {
   "cell_type": "code",
   "execution_count": 32,
   "outputs": [],
   "source": [
    "# Slow, Non Parallelized\n",
    "# for file in tqdm(files):\n",
    "#     data = pd.read_csv(\"../csv/trends/raw/{}\".format(file))\n",
    "#     data[\"delta\"] = data[file[:-4]].rolling(2).apply(lambda x: (x.iloc[1] - x.iloc[0])/x.iloc[0])\n",
    "#     data.to_csv(\"../csv/trends/cleaned/{}\".format(file))\n",
    "\n",
    "# Fast, Parallelized, Wow\n",
    "with concurrent.futures.ThreadPoolExecutor(max_workers=12) as executor:\n",
    "    executor.map(clean_file,\n",
    "                 files)"
   ],
   "metadata": {
    "collapsed": false,
    "pycharm": {
     "name": "#%%\n"
    }
   }
  },
  {
   "cell_type": "markdown",
   "source": [
    "## Bloomberg Options Data"
   ],
   "metadata": {
    "collapsed": false,
    "pycharm": {
     "name": "#%% md\n"
    }
   }
  },
  {
   "cell_type": "code",
   "execution_count": 6,
   "outputs": [
    {
     "data": {
      "text/plain": "     Dates  VOLUME_TOTAL_PUT  VOLUME_TOTAL_CALL    PX_VOLUME   PX_MID  PX_ASK  \\\n0   #NAME?         1135715.0           647838.0  130991069.0  202.035  202.05   \n1  1/21/15         1420444.0           706260.0  122942707.0  203.095  203.10   \n2  1/22/15         1901104.0          1540655.0  174356029.0  206.005  206.01   \n3  1/23/15         1731851.0           917202.0  117516753.0  204.815  204.83   \n4  1/26/15          832915.0           524220.0   92009711.0  205.735  205.74   \n\n   PX_BID  CALL_IMP_VOL_10D  CALL_IMP_VOL_30D  3MO_CALL_IMP_VOL  ...  \\\n0  202.02            20.493            17.199            16.792  ...   \n1  203.09            18.862            16.168            15.941  ...   \n2  206.00            14.312            13.865            14.707  ...   \n3  204.80            14.651            14.101            14.966  ...   \n4  205.73            13.385            13.227            14.334  ...   \n\n   18MO_CALL_IMP_VOL  24MO_CALL_IMP_VOL  3MO_PUT_IMP_VOL  PUT_IMP_VOL_10D  \\\n0             18.024             18.666           16.792           20.493   \n1             17.709             18.363           15.941           18.862   \n2             17.137             17.996           14.707           14.312   \n3             17.254             17.834           14.966           14.651   \n4             17.019             18.017           14.334           13.385   \n\n   6MO_PUT_IMP_VOL  PUT_IMP_VOL_30D  24MO_PUT_IMP_VOL  PUT_IMP_VOL_60D  \\\n0           17.068           17.199            18.666           16.668   \n1           16.535           16.168            18.363           15.577   \n2           15.429           13.865            17.996           14.064   \n3           15.685           14.101            17.834           14.368   \n4           15.333           13.227            18.017           13.580   \n\n   18MO_PUT_IMP_VOL  12MO_PUT_IMP_VOL  \n0            18.024            17.424  \n1            17.709            17.010  \n2            17.137            16.270  \n3            17.254            16.385  \n4            17.019            16.267  \n\n[5 rows x 22 columns]",
      "text/html": "<div>\n<style scoped>\n    .dataframe tbody tr th:only-of-type {\n        vertical-align: middle;\n    }\n\n    .dataframe tbody tr th {\n        vertical-align: top;\n    }\n\n    .dataframe thead th {\n        text-align: right;\n    }\n</style>\n<table border=\"1\" class=\"dataframe\">\n  <thead>\n    <tr style=\"text-align: right;\">\n      <th></th>\n      <th>Dates</th>\n      <th>VOLUME_TOTAL_PUT</th>\n      <th>VOLUME_TOTAL_CALL</th>\n      <th>PX_VOLUME</th>\n      <th>PX_MID</th>\n      <th>PX_ASK</th>\n      <th>PX_BID</th>\n      <th>CALL_IMP_VOL_10D</th>\n      <th>CALL_IMP_VOL_30D</th>\n      <th>3MO_CALL_IMP_VOL</th>\n      <th>...</th>\n      <th>18MO_CALL_IMP_VOL</th>\n      <th>24MO_CALL_IMP_VOL</th>\n      <th>3MO_PUT_IMP_VOL</th>\n      <th>PUT_IMP_VOL_10D</th>\n      <th>6MO_PUT_IMP_VOL</th>\n      <th>PUT_IMP_VOL_30D</th>\n      <th>24MO_PUT_IMP_VOL</th>\n      <th>PUT_IMP_VOL_60D</th>\n      <th>18MO_PUT_IMP_VOL</th>\n      <th>12MO_PUT_IMP_VOL</th>\n    </tr>\n  </thead>\n  <tbody>\n    <tr>\n      <th>0</th>\n      <td>#NAME?</td>\n      <td>1135715.0</td>\n      <td>647838.0</td>\n      <td>130991069.0</td>\n      <td>202.035</td>\n      <td>202.05</td>\n      <td>202.02</td>\n      <td>20.493</td>\n      <td>17.199</td>\n      <td>16.792</td>\n      <td>...</td>\n      <td>18.024</td>\n      <td>18.666</td>\n      <td>16.792</td>\n      <td>20.493</td>\n      <td>17.068</td>\n      <td>17.199</td>\n      <td>18.666</td>\n      <td>16.668</td>\n      <td>18.024</td>\n      <td>17.424</td>\n    </tr>\n    <tr>\n      <th>1</th>\n      <td>1/21/15</td>\n      <td>1420444.0</td>\n      <td>706260.0</td>\n      <td>122942707.0</td>\n      <td>203.095</td>\n      <td>203.10</td>\n      <td>203.09</td>\n      <td>18.862</td>\n      <td>16.168</td>\n      <td>15.941</td>\n      <td>...</td>\n      <td>17.709</td>\n      <td>18.363</td>\n      <td>15.941</td>\n      <td>18.862</td>\n      <td>16.535</td>\n      <td>16.168</td>\n      <td>18.363</td>\n      <td>15.577</td>\n      <td>17.709</td>\n      <td>17.010</td>\n    </tr>\n    <tr>\n      <th>2</th>\n      <td>1/22/15</td>\n      <td>1901104.0</td>\n      <td>1540655.0</td>\n      <td>174356029.0</td>\n      <td>206.005</td>\n      <td>206.01</td>\n      <td>206.00</td>\n      <td>14.312</td>\n      <td>13.865</td>\n      <td>14.707</td>\n      <td>...</td>\n      <td>17.137</td>\n      <td>17.996</td>\n      <td>14.707</td>\n      <td>14.312</td>\n      <td>15.429</td>\n      <td>13.865</td>\n      <td>17.996</td>\n      <td>14.064</td>\n      <td>17.137</td>\n      <td>16.270</td>\n    </tr>\n    <tr>\n      <th>3</th>\n      <td>1/23/15</td>\n      <td>1731851.0</td>\n      <td>917202.0</td>\n      <td>117516753.0</td>\n      <td>204.815</td>\n      <td>204.83</td>\n      <td>204.80</td>\n      <td>14.651</td>\n      <td>14.101</td>\n      <td>14.966</td>\n      <td>...</td>\n      <td>17.254</td>\n      <td>17.834</td>\n      <td>14.966</td>\n      <td>14.651</td>\n      <td>15.685</td>\n      <td>14.101</td>\n      <td>17.834</td>\n      <td>14.368</td>\n      <td>17.254</td>\n      <td>16.385</td>\n    </tr>\n    <tr>\n      <th>4</th>\n      <td>1/26/15</td>\n      <td>832915.0</td>\n      <td>524220.0</td>\n      <td>92009711.0</td>\n      <td>205.735</td>\n      <td>205.74</td>\n      <td>205.73</td>\n      <td>13.385</td>\n      <td>13.227</td>\n      <td>14.334</td>\n      <td>...</td>\n      <td>17.019</td>\n      <td>18.017</td>\n      <td>14.334</td>\n      <td>13.385</td>\n      <td>15.333</td>\n      <td>13.227</td>\n      <td>18.017</td>\n      <td>13.580</td>\n      <td>17.019</td>\n      <td>16.267</td>\n    </tr>\n  </tbody>\n</table>\n<p>5 rows × 22 columns</p>\n</div>"
     },
     "execution_count": 6,
     "metadata": {},
     "output_type": "execute_result"
    }
   ],
   "source": [
    "data = pd.read_csv(\"../csv/options/raw/options.csv\")\n",
    "data.head()"
   ],
   "metadata": {
    "collapsed": false,
    "pycharm": {
     "name": "#%%\n"
    }
   }
  },
  {
   "cell_type": "code",
   "execution_count": 7,
   "outputs": [
    {
     "data": {
      "text/plain": "Dates                 object\nVOLUME_TOTAL_PUT     float64\nVOLUME_TOTAL_CALL    float64\nPX_VOLUME            float64\nPX_MID               float64\nPX_ASK               float64\nPX_BID               float64\nCALL_IMP_VOL_10D     float64\nCALL_IMP_VOL_30D     float64\n3MO_CALL_IMP_VOL     float64\n6MO_CALL_IMP_VOL     float64\n12MO_CALL_IMP_VOL    float64\n18MO_CALL_IMP_VOL    float64\n24MO_CALL_IMP_VOL    float64\n3MO_PUT_IMP_VOL      float64\nPUT_IMP_VOL_10D      float64\n6MO_PUT_IMP_VOL      float64\nPUT_IMP_VOL_30D      float64\n24MO_PUT_IMP_VOL     float64\nPUT_IMP_VOL_60D      float64\n18MO_PUT_IMP_VOL     float64\n12MO_PUT_IMP_VOL     float64\ndtype: object"
     },
     "execution_count": 7,
     "metadata": {},
     "output_type": "execute_result"
    }
   ],
   "source": [
    "data.dtypes"
   ],
   "metadata": {
    "collapsed": false,
    "pycharm": {
     "name": "#%%\n"
    }
   }
  },
  {
   "cell_type": "code",
   "execution_count": 16,
   "outputs": [
    {
     "data": {
      "text/plain": "Dates                datetime64[ns]\nVOLUME_TOTAL_PUT            float64\nVOLUME_TOTAL_CALL           float64\nPX_VOLUME                   float64\nPX_MID                      float64\nPX_ASK                      float64\nPX_BID                      float64\nCALL_IMP_VOL_10D            float64\nCALL_IMP_VOL_30D            float64\n3MO_CALL_IMP_VOL            float64\n6MO_CALL_IMP_VOL            float64\n12MO_CALL_IMP_VOL           float64\n18MO_CALL_IMP_VOL           float64\n24MO_CALL_IMP_VOL           float64\n3MO_PUT_IMP_VOL             float64\nPUT_IMP_VOL_10D             float64\n6MO_PUT_IMP_VOL             float64\nPUT_IMP_VOL_30D             float64\n24MO_PUT_IMP_VOL            float64\nPUT_IMP_VOL_60D             float64\n18MO_PUT_IMP_VOL            float64\n12MO_PUT_IMP_VOL            float64\ndtype: object"
     },
     "execution_count": 16,
     "metadata": {},
     "output_type": "execute_result"
    }
   ],
   "source": [
    "data[\"Dates\"] = pd.to_datetime(data[\"Dates\"], errors=\"coerce\")\n",
    "data = data[data[\"Dates\"] != pd.NaT]\n",
    "data.dtypes"
   ],
   "metadata": {
    "collapsed": false,
    "pycharm": {
     "name": "#%%\n"
    }
   }
  },
  {
   "cell_type": "code",
   "execution_count": 22,
   "outputs": [
    {
     "data": {
      "text/plain": "       Dates  VOLUME_TOTAL_PUT  VOLUME_TOTAL_CALL    PX_VOLUME   PX_MID  \\\n1 2015-01-21         1420444.0           706260.0  122942707.0  203.095   \n2 2015-01-22         1901104.0          1540655.0  174356029.0  206.005   \n3 2015-01-23         1731851.0           917202.0  117516753.0  204.815   \n4 2015-01-26          832915.0           524220.0   92009711.0  205.735   \n5 2015-01-27         1600611.0           852696.0  134044598.0  203.375   \n\n   PX_ASK  PX_BID  CALL_IMP_VOL_10D  CALL_IMP_VOL_30D  3MO_CALL_IMP_VOL  ...  \\\n1  203.10  203.09            18.862            16.168            15.941  ...   \n2  206.01  206.00            14.312            13.865            14.707  ...   \n3  204.83  204.80            14.651            14.101            14.966  ...   \n4  205.74  205.73            13.385            13.227            14.334  ...   \n5  203.38  203.37            16.444            15.166            15.384  ...   \n\n   18MO_CALL_IMP_VOL  24MO_CALL_IMP_VOL  3MO_PUT_IMP_VOL  PUT_IMP_VOL_10D  \\\n1             17.709             18.363           15.941           18.862   \n2             17.137             17.996           14.707           14.312   \n3             17.254             17.834           14.966           14.651   \n4             17.019             18.017           14.334           13.385   \n5             17.361             18.020           15.384           16.444   \n\n   6MO_PUT_IMP_VOL  PUT_IMP_VOL_30D  24MO_PUT_IMP_VOL  PUT_IMP_VOL_60D  \\\n1           16.535           16.168            18.363           15.577   \n2           15.429           13.865            17.996           14.064   \n3           15.685           14.101            17.834           14.368   \n4           15.333           13.227            18.017           13.580   \n5           15.951           15.166            18.020           14.905   \n\n   18MO_PUT_IMP_VOL  12MO_PUT_IMP_VOL  \n1            17.709            17.010  \n2            17.137            16.270  \n3            17.254            16.385  \n4            17.019            16.267  \n5            17.361            16.578  \n\n[5 rows x 22 columns]",
      "text/html": "<div>\n<style scoped>\n    .dataframe tbody tr th:only-of-type {\n        vertical-align: middle;\n    }\n\n    .dataframe tbody tr th {\n        vertical-align: top;\n    }\n\n    .dataframe thead th {\n        text-align: right;\n    }\n</style>\n<table border=\"1\" class=\"dataframe\">\n  <thead>\n    <tr style=\"text-align: right;\">\n      <th></th>\n      <th>Dates</th>\n      <th>VOLUME_TOTAL_PUT</th>\n      <th>VOLUME_TOTAL_CALL</th>\n      <th>PX_VOLUME</th>\n      <th>PX_MID</th>\n      <th>PX_ASK</th>\n      <th>PX_BID</th>\n      <th>CALL_IMP_VOL_10D</th>\n      <th>CALL_IMP_VOL_30D</th>\n      <th>3MO_CALL_IMP_VOL</th>\n      <th>...</th>\n      <th>18MO_CALL_IMP_VOL</th>\n      <th>24MO_CALL_IMP_VOL</th>\n      <th>3MO_PUT_IMP_VOL</th>\n      <th>PUT_IMP_VOL_10D</th>\n      <th>6MO_PUT_IMP_VOL</th>\n      <th>PUT_IMP_VOL_30D</th>\n      <th>24MO_PUT_IMP_VOL</th>\n      <th>PUT_IMP_VOL_60D</th>\n      <th>18MO_PUT_IMP_VOL</th>\n      <th>12MO_PUT_IMP_VOL</th>\n    </tr>\n  </thead>\n  <tbody>\n    <tr>\n      <th>1</th>\n      <td>2015-01-21</td>\n      <td>1420444.0</td>\n      <td>706260.0</td>\n      <td>122942707.0</td>\n      <td>203.095</td>\n      <td>203.10</td>\n      <td>203.09</td>\n      <td>18.862</td>\n      <td>16.168</td>\n      <td>15.941</td>\n      <td>...</td>\n      <td>17.709</td>\n      <td>18.363</td>\n      <td>15.941</td>\n      <td>18.862</td>\n      <td>16.535</td>\n      <td>16.168</td>\n      <td>18.363</td>\n      <td>15.577</td>\n      <td>17.709</td>\n      <td>17.010</td>\n    </tr>\n    <tr>\n      <th>2</th>\n      <td>2015-01-22</td>\n      <td>1901104.0</td>\n      <td>1540655.0</td>\n      <td>174356029.0</td>\n      <td>206.005</td>\n      <td>206.01</td>\n      <td>206.00</td>\n      <td>14.312</td>\n      <td>13.865</td>\n      <td>14.707</td>\n      <td>...</td>\n      <td>17.137</td>\n      <td>17.996</td>\n      <td>14.707</td>\n      <td>14.312</td>\n      <td>15.429</td>\n      <td>13.865</td>\n      <td>17.996</td>\n      <td>14.064</td>\n      <td>17.137</td>\n      <td>16.270</td>\n    </tr>\n    <tr>\n      <th>3</th>\n      <td>2015-01-23</td>\n      <td>1731851.0</td>\n      <td>917202.0</td>\n      <td>117516753.0</td>\n      <td>204.815</td>\n      <td>204.83</td>\n      <td>204.80</td>\n      <td>14.651</td>\n      <td>14.101</td>\n      <td>14.966</td>\n      <td>...</td>\n      <td>17.254</td>\n      <td>17.834</td>\n      <td>14.966</td>\n      <td>14.651</td>\n      <td>15.685</td>\n      <td>14.101</td>\n      <td>17.834</td>\n      <td>14.368</td>\n      <td>17.254</td>\n      <td>16.385</td>\n    </tr>\n    <tr>\n      <th>4</th>\n      <td>2015-01-26</td>\n      <td>832915.0</td>\n      <td>524220.0</td>\n      <td>92009711.0</td>\n      <td>205.735</td>\n      <td>205.74</td>\n      <td>205.73</td>\n      <td>13.385</td>\n      <td>13.227</td>\n      <td>14.334</td>\n      <td>...</td>\n      <td>17.019</td>\n      <td>18.017</td>\n      <td>14.334</td>\n      <td>13.385</td>\n      <td>15.333</td>\n      <td>13.227</td>\n      <td>18.017</td>\n      <td>13.580</td>\n      <td>17.019</td>\n      <td>16.267</td>\n    </tr>\n    <tr>\n      <th>5</th>\n      <td>2015-01-27</td>\n      <td>1600611.0</td>\n      <td>852696.0</td>\n      <td>134044598.0</td>\n      <td>203.375</td>\n      <td>203.38</td>\n      <td>203.37</td>\n      <td>16.444</td>\n      <td>15.166</td>\n      <td>15.384</td>\n      <td>...</td>\n      <td>17.361</td>\n      <td>18.020</td>\n      <td>15.384</td>\n      <td>16.444</td>\n      <td>15.951</td>\n      <td>15.166</td>\n      <td>18.020</td>\n      <td>14.905</td>\n      <td>17.361</td>\n      <td>16.578</td>\n    </tr>\n  </tbody>\n</table>\n<p>5 rows × 22 columns</p>\n</div>"
     },
     "execution_count": 22,
     "metadata": {},
     "output_type": "execute_result"
    }
   ],
   "source": [
    "data = data.dropna()\n",
    "data.head()"
   ],
   "metadata": {
    "collapsed": false,
    "pycharm": {
     "name": "#%%\n"
    }
   }
  },
  {
   "cell_type": "code",
   "execution_count": 23,
   "outputs": [],
   "source": [
    "data.to_csv(\"../csv/options/cleaned/options.csv\")"
   ],
   "metadata": {
    "collapsed": false,
    "pycharm": {
     "name": "#%%\n"
    }
   }
  }
 ],
 "metadata": {
  "kernelspec": {
   "display_name": "Python 3",
   "language": "python",
   "name": "python3"
  },
  "language_info": {
   "codemirror_mode": {
    "name": "ipython",
    "version": 2
   },
   "file_extension": ".py",
   "mimetype": "text/x-python",
   "name": "python",
   "nbconvert_exporter": "python",
   "pygments_lexer": "ipython2",
   "version": "2.7.6"
  }
 },
 "nbformat": 4,
 "nbformat_minor": 0
}