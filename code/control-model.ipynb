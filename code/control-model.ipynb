{
 "cells": [
  {
   "cell_type": "code",
   "execution_count": 1,
   "metadata": {
    "collapsed": true
   },
   "outputs": [],
   "source": [
    "import tensorflow as tf\n",
    "from tensorflow import keras\n",
    "import numpy as np\n",
    "import pandas as pd\n",
    "import datetime\n",
    "import os\n",
    "import matplotlib.pyplot as plt\n",
    "import math"
   ]
  },
  {
   "cell_type": "markdown",
   "source": [
    "The purpose of this model is to provide a control for how well a similar model would perform given solely market data, and no insihts using Google Trends."
   ],
   "metadata": {
    "collapsed": false,
    "pycharm": {
     "name": "#%% md\n"
    }
   }
  },
  {
   "cell_type": "markdown",
   "source": [
    "Load options files"
   ],
   "metadata": {
    "collapsed": false,
    "pycharm": {
     "name": "#%% md\n"
    }
   }
  },
  {
   "cell_type": "code",
   "execution_count": 2,
   "metadata": {
    "pycharm": {
     "name": "#%%\n"
    }
   },
   "outputs": [],
   "source": [
    "options = pd.read_csv(\"../csv/options/cleaned/options.csv\")"
   ]
  },
  {
   "cell_type": "code",
   "execution_count": 3,
   "metadata": {
    "pycharm": {
     "name": "#%%\n"
    }
   },
   "outputs": [],
   "source": [
    "options[\"date\"] = pd.to_datetime(options[\"date\"])\n",
    "options[\"exdate\"] = pd.to_datetime(options[\"exdate\"])\n",
    "options = options[(options[\"volume\"] > 0)]"
   ]
  },
  {
   "cell_type": "code",
   "execution_count": 4,
   "outputs": [
    {
     "data": {
      "text/plain": "         date     exdate cp_flag  strike_price  volume  impl_volatility  \\\n28 2015-01-05 2015-01-09       C        190000       9         0.351564   \n29 2015-01-06 2015-01-09       C        190000      30         0.387712   \n31 2015-01-06 2015-01-09       C        191000      72         0.346814   \n32 2015-01-05 2015-01-09       C        192000      31         0.322698   \n33 2015-01-06 2015-01-09       C        192000      30         0.331786   \n\n       delta     gamma      vega     theta  dte  impl_volatility_x  \n28  0.950105  0.010412  2.928393 -26.81932    4           0.347783  \n29  0.950041  0.013891  2.176366 -35.17571    3           0.351564  \n31  0.944486  0.016040  2.362663 -36.00574    3           0.331030  \n32  0.940545  0.013093  3.361140 -28.13116    4           0.317701  \n33  0.930463  0.019611  2.823542 -41.79280    3           0.322698  ",
      "text/html": "<div>\n<style scoped>\n    .dataframe tbody tr th:only-of-type {\n        vertical-align: middle;\n    }\n\n    .dataframe tbody tr th {\n        vertical-align: top;\n    }\n\n    .dataframe thead th {\n        text-align: right;\n    }\n</style>\n<table border=\"1\" class=\"dataframe\">\n  <thead>\n    <tr style=\"text-align: right;\">\n      <th></th>\n      <th>date</th>\n      <th>exdate</th>\n      <th>cp_flag</th>\n      <th>strike_price</th>\n      <th>volume</th>\n      <th>impl_volatility</th>\n      <th>delta</th>\n      <th>gamma</th>\n      <th>vega</th>\n      <th>theta</th>\n      <th>dte</th>\n      <th>impl_volatility_x</th>\n    </tr>\n  </thead>\n  <tbody>\n    <tr>\n      <th>28</th>\n      <td>2015-01-05</td>\n      <td>2015-01-09</td>\n      <td>C</td>\n      <td>190000</td>\n      <td>9</td>\n      <td>0.351564</td>\n      <td>0.950105</td>\n      <td>0.010412</td>\n      <td>2.928393</td>\n      <td>-26.81932</td>\n      <td>4</td>\n      <td>0.347783</td>\n    </tr>\n    <tr>\n      <th>29</th>\n      <td>2015-01-06</td>\n      <td>2015-01-09</td>\n      <td>C</td>\n      <td>190000</td>\n      <td>30</td>\n      <td>0.387712</td>\n      <td>0.950041</td>\n      <td>0.013891</td>\n      <td>2.176366</td>\n      <td>-35.17571</td>\n      <td>3</td>\n      <td>0.351564</td>\n    </tr>\n    <tr>\n      <th>31</th>\n      <td>2015-01-06</td>\n      <td>2015-01-09</td>\n      <td>C</td>\n      <td>191000</td>\n      <td>72</td>\n      <td>0.346814</td>\n      <td>0.944486</td>\n      <td>0.016040</td>\n      <td>2.362663</td>\n      <td>-36.00574</td>\n      <td>3</td>\n      <td>0.331030</td>\n    </tr>\n    <tr>\n      <th>32</th>\n      <td>2015-01-05</td>\n      <td>2015-01-09</td>\n      <td>C</td>\n      <td>192000</td>\n      <td>31</td>\n      <td>0.322698</td>\n      <td>0.940545</td>\n      <td>0.013093</td>\n      <td>3.361140</td>\n      <td>-28.13116</td>\n      <td>4</td>\n      <td>0.317701</td>\n    </tr>\n    <tr>\n      <th>33</th>\n      <td>2015-01-06</td>\n      <td>2015-01-09</td>\n      <td>C</td>\n      <td>192000</td>\n      <td>30</td>\n      <td>0.331786</td>\n      <td>0.930463</td>\n      <td>0.019611</td>\n      <td>2.823542</td>\n      <td>-41.79280</td>\n      <td>3</td>\n      <td>0.322698</td>\n    </tr>\n  </tbody>\n</table>\n</div>"
     },
     "execution_count": 4,
     "metadata": {},
     "output_type": "execute_result"
    }
   ],
   "source": [
    "options.head()"
   ],
   "metadata": {
    "collapsed": false,
    "pycharm": {
     "name": "#%%\n"
    }
   }
  },
  {
   "cell_type": "code",
   "execution_count": 5,
   "outputs": [],
   "source": [
    "options[\"volume\"] = options[\"volume\"] - options[\"volume\"].mean()\n",
    "options[\"impl_volatility\"] = options[\"impl_volatility\"] - options[\"impl_volatility\"].mean()\n",
    "options[\"delta\"] = options[\"delta\"] - options[\"delta\"].mean()\n",
    "options[\"gamma\"] = options[\"gamma\"] - options[\"gamma\"].mean()\n",
    "options[\"vega\"] = options[\"vega\"] - options[\"vega\"].mean()\n",
    "options[\"theta\"] = options[\"theta\"] - options[\"theta\"].mean()\n",
    "options[\"impl_volatility_x\"] = options[\"impl_volatility_x\"] - options[\"impl_volatility_x\"].mean()"
   ],
   "metadata": {
    "collapsed": false,
    "pycharm": {
     "name": "#%%\n"
    }
   }
  },
  {
   "cell_type": "code",
   "execution_count": 6,
   "outputs": [
    {
     "data": {
      "text/plain": "         date     exdate cp_flag  strike_price      volume  impl_volatility  \\\n28 2015-01-05 2015-01-09       C        190000 -1041.93979         0.111138   \n29 2015-01-06 2015-01-09       C        190000 -1020.93979         0.147286   \n31 2015-01-06 2015-01-09       C        191000  -978.93979         0.106388   \n32 2015-01-05 2015-01-09       C        192000 -1019.93979         0.082272   \n33 2015-01-06 2015-01-09       C        192000 -1020.93979         0.091360   \n\n       delta     gamma       vega      theta  dte  impl_volatility_x  \n28  0.915462 -0.004556 -32.755629  -6.066422    4           0.113123  \n29  0.915398 -0.001077 -33.507656 -14.422812    3           0.116904  \n31  0.909843  0.001072 -33.321359 -15.252842    3           0.096370  \n32  0.905902 -0.001875 -32.322882  -7.378262    4           0.083041  \n33  0.895820  0.004643 -32.860480 -21.039902    3           0.088038  ",
      "text/html": "<div>\n<style scoped>\n    .dataframe tbody tr th:only-of-type {\n        vertical-align: middle;\n    }\n\n    .dataframe tbody tr th {\n        vertical-align: top;\n    }\n\n    .dataframe thead th {\n        text-align: right;\n    }\n</style>\n<table border=\"1\" class=\"dataframe\">\n  <thead>\n    <tr style=\"text-align: right;\">\n      <th></th>\n      <th>date</th>\n      <th>exdate</th>\n      <th>cp_flag</th>\n      <th>strike_price</th>\n      <th>volume</th>\n      <th>impl_volatility</th>\n      <th>delta</th>\n      <th>gamma</th>\n      <th>vega</th>\n      <th>theta</th>\n      <th>dte</th>\n      <th>impl_volatility_x</th>\n    </tr>\n  </thead>\n  <tbody>\n    <tr>\n      <th>28</th>\n      <td>2015-01-05</td>\n      <td>2015-01-09</td>\n      <td>C</td>\n      <td>190000</td>\n      <td>-1041.93979</td>\n      <td>0.111138</td>\n      <td>0.915462</td>\n      <td>-0.004556</td>\n      <td>-32.755629</td>\n      <td>-6.066422</td>\n      <td>4</td>\n      <td>0.113123</td>\n    </tr>\n    <tr>\n      <th>29</th>\n      <td>2015-01-06</td>\n      <td>2015-01-09</td>\n      <td>C</td>\n      <td>190000</td>\n      <td>-1020.93979</td>\n      <td>0.147286</td>\n      <td>0.915398</td>\n      <td>-0.001077</td>\n      <td>-33.507656</td>\n      <td>-14.422812</td>\n      <td>3</td>\n      <td>0.116904</td>\n    </tr>\n    <tr>\n      <th>31</th>\n      <td>2015-01-06</td>\n      <td>2015-01-09</td>\n      <td>C</td>\n      <td>191000</td>\n      <td>-978.93979</td>\n      <td>0.106388</td>\n      <td>0.909843</td>\n      <td>0.001072</td>\n      <td>-33.321359</td>\n      <td>-15.252842</td>\n      <td>3</td>\n      <td>0.096370</td>\n    </tr>\n    <tr>\n      <th>32</th>\n      <td>2015-01-05</td>\n      <td>2015-01-09</td>\n      <td>C</td>\n      <td>192000</td>\n      <td>-1019.93979</td>\n      <td>0.082272</td>\n      <td>0.905902</td>\n      <td>-0.001875</td>\n      <td>-32.322882</td>\n      <td>-7.378262</td>\n      <td>4</td>\n      <td>0.083041</td>\n    </tr>\n    <tr>\n      <th>33</th>\n      <td>2015-01-06</td>\n      <td>2015-01-09</td>\n      <td>C</td>\n      <td>192000</td>\n      <td>-1020.93979</td>\n      <td>0.091360</td>\n      <td>0.895820</td>\n      <td>0.004643</td>\n      <td>-32.860480</td>\n      <td>-21.039902</td>\n      <td>3</td>\n      <td>0.088038</td>\n    </tr>\n  </tbody>\n</table>\n</div>"
     },
     "execution_count": 6,
     "metadata": {},
     "output_type": "execute_result"
    }
   ],
   "source": [
    "options.head()"
   ],
   "metadata": {
    "collapsed": false,
    "pycharm": {
     "name": "#%%\n"
    }
   }
  },
  {
   "cell_type": "code",
   "execution_count": 7,
   "metadata": {
    "pycharm": {
     "name": "#%%\n"
    }
   },
   "outputs": [],
   "source": [
    "def setup_options_input(options_df, numrows):\n",
    "    pruned_options = options_df.sample(numrows)\n",
    "    pruned_options = pruned_options.drop([\"exdate\", \"volume\"], axis=1)\n",
    "    pruned_options = pd.get_dummies(pruned_options, columns=[\"cp_flag\"])\n",
    "    pruned_options = pruned_options.set_index(\"date\")\n",
    "    return pruned_options.drop([\"impl_volatility\"], axis=1).to_numpy(), pruned_options[\"impl_volatility\"].to_numpy()"
   ]
  },
  {
   "cell_type": "code",
   "execution_count": 8,
   "metadata": {
    "pycharm": {
     "name": "#%%\n"
    }
   },
   "outputs": [],
   "source": [
    "x, y = setup_options_input(options, 100000)"
   ]
  },
  {
   "cell_type": "code",
   "execution_count": 9,
   "outputs": [
    {
     "data": {
      "text/plain": "(100000, 9)"
     },
     "execution_count": 9,
     "metadata": {},
     "output_type": "execute_result"
    }
   ],
   "source": [
    "x.shape"
   ],
   "metadata": {
    "collapsed": false,
    "pycharm": {
     "name": "#%%\n"
    }
   }
  },
  {
   "cell_type": "code",
   "execution_count": 10,
   "outputs": [],
   "source": [
    "# pruned_options = options[options[\"volume\"] > 0]\n",
    "# pruned_options = pruned_options.drop([\"secid\", \"symbol\", \"exdate\", \"volume\", \"delta\", \"gamma\", \"vega\", \"theta\", \"optionid\", \"index_flag\", \"issuer\", \"exercise_style\"], axis=1)\n",
    "# pruned_options = pd.get_dummies(pruned_options, columns=[\"cp_flag\"])\n",
    "# pruned_options = pruned_options.set_index(\"date\")\n",
    "# df = pruned_options.apply(lambda x: pd.concat([x, pruned_trends.loc[pd.Timestamp(x.name)]], axis=0), axis=1)\n",
    "# x, y = df.drop([\"impl_volatility\"], axis=1).to_numpy(), df[\"impl_volatility\"].to_numpy()"
   ],
   "metadata": {
    "collapsed": false,
    "pycharm": {
     "name": "#%%\n"
    }
   }
  },
  {
   "cell_type": "code",
   "execution_count": 38,
   "metadata": {
    "pycharm": {
     "name": "#%%\n"
    }
   },
   "outputs": [],
   "source": [
    "model = tf.keras.Sequential([\n",
    "    # tf.keras.layers.Dense(9, activation='linear'),\n",
    "    # tf.keras.layers.Dense(1984*2, activation='linear'),\n",
    "    # tf.keras.layers.Dense(1984*4, activation='linear'),\n",
    "    # tf.keras.layers.Dense(1984*2, activation='linear'),\n",
    "    # tf.keras.layers.Dense(1984, activation='linear'),\n",
    "    tf.keras.layers.Dense(9, activation='linear'),\n",
    "    tf.keras.layers.Dense(9*100, activation='linear'),\n",
    "    tf.keras.layers.Dense(9*500, activation='linear'),\n",
    "    tf.keras.layers.Dropout(0.3),\n",
    "    tf.keras.layers.Dense(9*1000, activation='linear'),\n",
    "    tf.keras.layers.Dropout(0.3),\n",
    "    tf.keras.layers.Dense(9*500, activation='linear'),\n",
    "    tf.keras.layers.Dense(9*100, activation='linear'),\n",
    "    tf.keras.layers.Dense(9, activation='linear'),\n",
    "    tf.keras.layers.Dense(1),\n",
    "])"
   ]
  },
  {
   "cell_type": "code",
   "execution_count": 39,
   "metadata": {
    "pycharm": {
     "name": "#%%\n"
    }
   },
   "outputs": [],
   "source": [
    "model.compile(\n",
    "    # optimizer=keras.optimizers.SGD(learning_rate=1e-7, momentum=0.9,),\n",
    "    optimizer=keras.optimizers.Adam(),\n",
    "    loss=keras.losses.MeanAbsoluteError(),\n",
    "    metrics=[\n",
    "        keras.metrics.MeanAbsolutePercentageError(),\n",
    "        keras.metrics.MeanAbsoluteError(),\n",
    "        keras.metrics.MeanSquaredError()\n",
    "             ]\n",
    ")"
   ]
  },
  {
   "cell_type": "code",
   "execution_count": 40,
   "outputs": [
    {
     "name": "stdout",
     "output_type": "stream",
     "text": [
      "Epoch 1/7\n",
      "4688/4688 [==============================] - 1820s 388ms/step - loss: 60531.4180 - mean_absolute_percentage_error: 164529216.0000 - mean_absolute_error: 60531.4180 - mean_squared_error: 5792356892672.0000 - val_loss: 77.6725 - val_mean_absolute_percentage_error: 497412.1875 - val_mean_absolute_error: 77.6725 - val_mean_squared_error: 6574.3750\n",
      "Epoch 2/7\n",
      " 248/4688 [>.............................] - ETA: 26:05 - loss: 32.6721 - mean_absolute_percentage_error: 348513.9062 - mean_absolute_error: 32.6721 - mean_squared_error: 1659.2448"
     ]
    },
    {
     "ename": "KeyboardInterrupt",
     "evalue": "",
     "output_type": "error",
     "traceback": [
      "\u001B[0;31m---------------------------------------------------------------------------\u001B[0m",
      "\u001B[0;31mKeyboardInterrupt\u001B[0m                         Traceback (most recent call last)",
      "Input \u001B[0;32mIn [40]\u001B[0m, in \u001B[0;36m<module>\u001B[0;34m\u001B[0m\n\u001B[0;32m----> 1\u001B[0m \u001B[43mmodel\u001B[49m\u001B[38;5;241;43m.\u001B[39;49m\u001B[43mfit\u001B[49m\u001B[43m(\u001B[49m\n\u001B[1;32m      2\u001B[0m \u001B[43m    \u001B[49m\u001B[43mx\u001B[49m\u001B[43m,\u001B[49m\n\u001B[1;32m      3\u001B[0m \u001B[43m    \u001B[49m\u001B[43my\u001B[49m\u001B[43m,\u001B[49m\n\u001B[1;32m      4\u001B[0m \u001B[43m    \u001B[49m\u001B[43mbatch_size\u001B[49m\u001B[38;5;241;43m=\u001B[39;49m\u001B[38;5;241;43m16\u001B[39;49m\u001B[43m,\u001B[49m\n\u001B[1;32m      5\u001B[0m \u001B[43m    \u001B[49m\u001B[43mepochs\u001B[49m\u001B[38;5;241;43m=\u001B[39;49m\u001B[38;5;241;43m7\u001B[39;49m\u001B[43m,\u001B[49m\u001B[43m \u001B[49m\u001B[38;5;66;43;03m# seems like enough to reach the the minimum loss\u001B[39;49;00m\n\u001B[1;32m      6\u001B[0m \u001B[43m    \u001B[49m\u001B[43mshuffle\u001B[49m\u001B[38;5;241;43m=\u001B[39;49m\u001B[38;5;28;43;01mTrue\u001B[39;49;00m\u001B[43m,\u001B[49m\n\u001B[1;32m      7\u001B[0m \u001B[43m    \u001B[49m\u001B[43mverbose\u001B[49m\u001B[38;5;241;43m=\u001B[39;49m\u001B[38;5;241;43m1\u001B[39;49m\u001B[43m,\u001B[49m\n\u001B[1;32m      8\u001B[0m \u001B[43m    \u001B[49m\u001B[43muse_multiprocessing\u001B[49m\u001B[38;5;241;43m=\u001B[39;49m\u001B[38;5;28;43;01mTrue\u001B[39;49;00m\u001B[43m,\u001B[49m\n\u001B[1;32m      9\u001B[0m \u001B[43m    \u001B[49m\u001B[43mworkers\u001B[49m\u001B[38;5;241;43m=\u001B[39;49m\u001B[38;5;241;43m12\u001B[39;49m\u001B[43m,\u001B[49m\n\u001B[1;32m     10\u001B[0m \u001B[43m    \u001B[49m\u001B[43mvalidation_split\u001B[49m\u001B[38;5;241;43m=\u001B[39;49m\u001B[38;5;241;43m0.25\u001B[39;49m\n\u001B[1;32m     11\u001B[0m \u001B[43m)\u001B[49m\n",
      "File \u001B[0;32m~/git/IV-Forecasting/venv/lib/python3.8/site-packages/keras/utils/traceback_utils.py:64\u001B[0m, in \u001B[0;36mfilter_traceback.<locals>.error_handler\u001B[0;34m(*args, **kwargs)\u001B[0m\n\u001B[1;32m     62\u001B[0m filtered_tb \u001B[38;5;241m=\u001B[39m \u001B[38;5;28;01mNone\u001B[39;00m\n\u001B[1;32m     63\u001B[0m \u001B[38;5;28;01mtry\u001B[39;00m:\n\u001B[0;32m---> 64\u001B[0m   \u001B[38;5;28;01mreturn\u001B[39;00m \u001B[43mfn\u001B[49m\u001B[43m(\u001B[49m\u001B[38;5;241;43m*\u001B[39;49m\u001B[43margs\u001B[49m\u001B[43m,\u001B[49m\u001B[43m \u001B[49m\u001B[38;5;241;43m*\u001B[39;49m\u001B[38;5;241;43m*\u001B[39;49m\u001B[43mkwargs\u001B[49m\u001B[43m)\u001B[49m\n\u001B[1;32m     65\u001B[0m \u001B[38;5;28;01mexcept\u001B[39;00m \u001B[38;5;167;01mException\u001B[39;00m \u001B[38;5;28;01mas\u001B[39;00m e:  \u001B[38;5;66;03m# pylint: disable=broad-except\u001B[39;00m\n\u001B[1;32m     66\u001B[0m   filtered_tb \u001B[38;5;241m=\u001B[39m _process_traceback_frames(e\u001B[38;5;241m.\u001B[39m__traceback__)\n",
      "File \u001B[0;32m~/git/IV-Forecasting/venv/lib/python3.8/site-packages/keras/engine/training.py:1384\u001B[0m, in \u001B[0;36mModel.fit\u001B[0;34m(self, x, y, batch_size, epochs, verbose, callbacks, validation_split, validation_data, shuffle, class_weight, sample_weight, initial_epoch, steps_per_epoch, validation_steps, validation_batch_size, validation_freq, max_queue_size, workers, use_multiprocessing)\u001B[0m\n\u001B[1;32m   1377\u001B[0m \u001B[38;5;28;01mwith\u001B[39;00m tf\u001B[38;5;241m.\u001B[39mprofiler\u001B[38;5;241m.\u001B[39mexperimental\u001B[38;5;241m.\u001B[39mTrace(\n\u001B[1;32m   1378\u001B[0m     \u001B[38;5;124m'\u001B[39m\u001B[38;5;124mtrain\u001B[39m\u001B[38;5;124m'\u001B[39m,\n\u001B[1;32m   1379\u001B[0m     epoch_num\u001B[38;5;241m=\u001B[39mepoch,\n\u001B[1;32m   1380\u001B[0m     step_num\u001B[38;5;241m=\u001B[39mstep,\n\u001B[1;32m   1381\u001B[0m     batch_size\u001B[38;5;241m=\u001B[39mbatch_size,\n\u001B[1;32m   1382\u001B[0m     _r\u001B[38;5;241m=\u001B[39m\u001B[38;5;241m1\u001B[39m):\n\u001B[1;32m   1383\u001B[0m   callbacks\u001B[38;5;241m.\u001B[39mon_train_batch_begin(step)\n\u001B[0;32m-> 1384\u001B[0m   tmp_logs \u001B[38;5;241m=\u001B[39m \u001B[38;5;28;43mself\u001B[39;49m\u001B[38;5;241;43m.\u001B[39;49m\u001B[43mtrain_function\u001B[49m\u001B[43m(\u001B[49m\u001B[43miterator\u001B[49m\u001B[43m)\u001B[49m\n\u001B[1;32m   1385\u001B[0m   \u001B[38;5;28;01mif\u001B[39;00m data_handler\u001B[38;5;241m.\u001B[39mshould_sync:\n\u001B[1;32m   1386\u001B[0m     context\u001B[38;5;241m.\u001B[39masync_wait()\n",
      "File \u001B[0;32m~/git/IV-Forecasting/venv/lib/python3.8/site-packages/tensorflow/python/util/traceback_utils.py:150\u001B[0m, in \u001B[0;36mfilter_traceback.<locals>.error_handler\u001B[0;34m(*args, **kwargs)\u001B[0m\n\u001B[1;32m    148\u001B[0m filtered_tb \u001B[38;5;241m=\u001B[39m \u001B[38;5;28;01mNone\u001B[39;00m\n\u001B[1;32m    149\u001B[0m \u001B[38;5;28;01mtry\u001B[39;00m:\n\u001B[0;32m--> 150\u001B[0m   \u001B[38;5;28;01mreturn\u001B[39;00m \u001B[43mfn\u001B[49m\u001B[43m(\u001B[49m\u001B[38;5;241;43m*\u001B[39;49m\u001B[43margs\u001B[49m\u001B[43m,\u001B[49m\u001B[43m \u001B[49m\u001B[38;5;241;43m*\u001B[39;49m\u001B[38;5;241;43m*\u001B[39;49m\u001B[43mkwargs\u001B[49m\u001B[43m)\u001B[49m\n\u001B[1;32m    151\u001B[0m \u001B[38;5;28;01mexcept\u001B[39;00m \u001B[38;5;167;01mException\u001B[39;00m \u001B[38;5;28;01mas\u001B[39;00m e:\n\u001B[1;32m    152\u001B[0m   filtered_tb \u001B[38;5;241m=\u001B[39m _process_traceback_frames(e\u001B[38;5;241m.\u001B[39m__traceback__)\n",
      "File \u001B[0;32m~/git/IV-Forecasting/venv/lib/python3.8/site-packages/tensorflow/python/eager/def_function.py:915\u001B[0m, in \u001B[0;36mFunction.__call__\u001B[0;34m(self, *args, **kwds)\u001B[0m\n\u001B[1;32m    912\u001B[0m compiler \u001B[38;5;241m=\u001B[39m \u001B[38;5;124m\"\u001B[39m\u001B[38;5;124mxla\u001B[39m\u001B[38;5;124m\"\u001B[39m \u001B[38;5;28;01mif\u001B[39;00m \u001B[38;5;28mself\u001B[39m\u001B[38;5;241m.\u001B[39m_jit_compile \u001B[38;5;28;01melse\u001B[39;00m \u001B[38;5;124m\"\u001B[39m\u001B[38;5;124mnonXla\u001B[39m\u001B[38;5;124m\"\u001B[39m\n\u001B[1;32m    914\u001B[0m \u001B[38;5;28;01mwith\u001B[39;00m OptionalXlaContext(\u001B[38;5;28mself\u001B[39m\u001B[38;5;241m.\u001B[39m_jit_compile):\n\u001B[0;32m--> 915\u001B[0m   result \u001B[38;5;241m=\u001B[39m \u001B[38;5;28;43mself\u001B[39;49m\u001B[38;5;241;43m.\u001B[39;49m\u001B[43m_call\u001B[49m\u001B[43m(\u001B[49m\u001B[38;5;241;43m*\u001B[39;49m\u001B[43margs\u001B[49m\u001B[43m,\u001B[49m\u001B[43m \u001B[49m\u001B[38;5;241;43m*\u001B[39;49m\u001B[38;5;241;43m*\u001B[39;49m\u001B[43mkwds\u001B[49m\u001B[43m)\u001B[49m\n\u001B[1;32m    917\u001B[0m new_tracing_count \u001B[38;5;241m=\u001B[39m \u001B[38;5;28mself\u001B[39m\u001B[38;5;241m.\u001B[39mexperimental_get_tracing_count()\n\u001B[1;32m    918\u001B[0m without_tracing \u001B[38;5;241m=\u001B[39m (tracing_count \u001B[38;5;241m==\u001B[39m new_tracing_count)\n",
      "File \u001B[0;32m~/git/IV-Forecasting/venv/lib/python3.8/site-packages/tensorflow/python/eager/def_function.py:947\u001B[0m, in \u001B[0;36mFunction._call\u001B[0;34m(self, *args, **kwds)\u001B[0m\n\u001B[1;32m    944\u001B[0m   \u001B[38;5;28mself\u001B[39m\u001B[38;5;241m.\u001B[39m_lock\u001B[38;5;241m.\u001B[39mrelease()\n\u001B[1;32m    945\u001B[0m   \u001B[38;5;66;03m# In this case we have created variables on the first call, so we run the\u001B[39;00m\n\u001B[1;32m    946\u001B[0m   \u001B[38;5;66;03m# defunned version which is guaranteed to never create variables.\u001B[39;00m\n\u001B[0;32m--> 947\u001B[0m   \u001B[38;5;28;01mreturn\u001B[39;00m \u001B[38;5;28;43mself\u001B[39;49m\u001B[38;5;241;43m.\u001B[39;49m\u001B[43m_stateless_fn\u001B[49m\u001B[43m(\u001B[49m\u001B[38;5;241;43m*\u001B[39;49m\u001B[43margs\u001B[49m\u001B[43m,\u001B[49m\u001B[43m \u001B[49m\u001B[38;5;241;43m*\u001B[39;49m\u001B[38;5;241;43m*\u001B[39;49m\u001B[43mkwds\u001B[49m\u001B[43m)\u001B[49m  \u001B[38;5;66;03m# pylint: disable=not-callable\u001B[39;00m\n\u001B[1;32m    948\u001B[0m \u001B[38;5;28;01melif\u001B[39;00m \u001B[38;5;28mself\u001B[39m\u001B[38;5;241m.\u001B[39m_stateful_fn \u001B[38;5;129;01mis\u001B[39;00m \u001B[38;5;129;01mnot\u001B[39;00m \u001B[38;5;28;01mNone\u001B[39;00m:\n\u001B[1;32m    949\u001B[0m   \u001B[38;5;66;03m# Release the lock early so that multiple threads can perform the call\u001B[39;00m\n\u001B[1;32m    950\u001B[0m   \u001B[38;5;66;03m# in parallel.\u001B[39;00m\n\u001B[1;32m    951\u001B[0m   \u001B[38;5;28mself\u001B[39m\u001B[38;5;241m.\u001B[39m_lock\u001B[38;5;241m.\u001B[39mrelease()\n",
      "File \u001B[0;32m~/git/IV-Forecasting/venv/lib/python3.8/site-packages/tensorflow/python/eager/function.py:2956\u001B[0m, in \u001B[0;36mFunction.__call__\u001B[0;34m(self, *args, **kwargs)\u001B[0m\n\u001B[1;32m   2953\u001B[0m \u001B[38;5;28;01mwith\u001B[39;00m \u001B[38;5;28mself\u001B[39m\u001B[38;5;241m.\u001B[39m_lock:\n\u001B[1;32m   2954\u001B[0m   (graph_function,\n\u001B[1;32m   2955\u001B[0m    filtered_flat_args) \u001B[38;5;241m=\u001B[39m \u001B[38;5;28mself\u001B[39m\u001B[38;5;241m.\u001B[39m_maybe_define_function(args, kwargs)\n\u001B[0;32m-> 2956\u001B[0m \u001B[38;5;28;01mreturn\u001B[39;00m \u001B[43mgraph_function\u001B[49m\u001B[38;5;241;43m.\u001B[39;49m\u001B[43m_call_flat\u001B[49m\u001B[43m(\u001B[49m\n\u001B[1;32m   2957\u001B[0m \u001B[43m    \u001B[49m\u001B[43mfiltered_flat_args\u001B[49m\u001B[43m,\u001B[49m\u001B[43m \u001B[49m\u001B[43mcaptured_inputs\u001B[49m\u001B[38;5;241;43m=\u001B[39;49m\u001B[43mgraph_function\u001B[49m\u001B[38;5;241;43m.\u001B[39;49m\u001B[43mcaptured_inputs\u001B[49m\u001B[43m)\u001B[49m\n",
      "File \u001B[0;32m~/git/IV-Forecasting/venv/lib/python3.8/site-packages/tensorflow/python/eager/function.py:1853\u001B[0m, in \u001B[0;36mConcreteFunction._call_flat\u001B[0;34m(self, args, captured_inputs, cancellation_manager)\u001B[0m\n\u001B[1;32m   1849\u001B[0m possible_gradient_type \u001B[38;5;241m=\u001B[39m gradients_util\u001B[38;5;241m.\u001B[39mPossibleTapeGradientTypes(args)\n\u001B[1;32m   1850\u001B[0m \u001B[38;5;28;01mif\u001B[39;00m (possible_gradient_type \u001B[38;5;241m==\u001B[39m gradients_util\u001B[38;5;241m.\u001B[39mPOSSIBLE_GRADIENT_TYPES_NONE\n\u001B[1;32m   1851\u001B[0m     \u001B[38;5;129;01mand\u001B[39;00m executing_eagerly):\n\u001B[1;32m   1852\u001B[0m   \u001B[38;5;66;03m# No tape is watching; skip to running the function.\u001B[39;00m\n\u001B[0;32m-> 1853\u001B[0m   \u001B[38;5;28;01mreturn\u001B[39;00m \u001B[38;5;28mself\u001B[39m\u001B[38;5;241m.\u001B[39m_build_call_outputs(\u001B[38;5;28;43mself\u001B[39;49m\u001B[38;5;241;43m.\u001B[39;49m\u001B[43m_inference_function\u001B[49m\u001B[38;5;241;43m.\u001B[39;49m\u001B[43mcall\u001B[49m\u001B[43m(\u001B[49m\n\u001B[1;32m   1854\u001B[0m \u001B[43m      \u001B[49m\u001B[43mctx\u001B[49m\u001B[43m,\u001B[49m\u001B[43m \u001B[49m\u001B[43margs\u001B[49m\u001B[43m,\u001B[49m\u001B[43m \u001B[49m\u001B[43mcancellation_manager\u001B[49m\u001B[38;5;241;43m=\u001B[39;49m\u001B[43mcancellation_manager\u001B[49m\u001B[43m)\u001B[49m)\n\u001B[1;32m   1855\u001B[0m forward_backward \u001B[38;5;241m=\u001B[39m \u001B[38;5;28mself\u001B[39m\u001B[38;5;241m.\u001B[39m_select_forward_and_backward_functions(\n\u001B[1;32m   1856\u001B[0m     args,\n\u001B[1;32m   1857\u001B[0m     possible_gradient_type,\n\u001B[1;32m   1858\u001B[0m     executing_eagerly)\n\u001B[1;32m   1859\u001B[0m forward_function, args_with_tangents \u001B[38;5;241m=\u001B[39m forward_backward\u001B[38;5;241m.\u001B[39mforward()\n",
      "File \u001B[0;32m~/git/IV-Forecasting/venv/lib/python3.8/site-packages/tensorflow/python/eager/function.py:499\u001B[0m, in \u001B[0;36m_EagerDefinedFunction.call\u001B[0;34m(self, ctx, args, cancellation_manager)\u001B[0m\n\u001B[1;32m    497\u001B[0m \u001B[38;5;28;01mwith\u001B[39;00m _InterpolateFunctionError(\u001B[38;5;28mself\u001B[39m):\n\u001B[1;32m    498\u001B[0m   \u001B[38;5;28;01mif\u001B[39;00m cancellation_manager \u001B[38;5;129;01mis\u001B[39;00m \u001B[38;5;28;01mNone\u001B[39;00m:\n\u001B[0;32m--> 499\u001B[0m     outputs \u001B[38;5;241m=\u001B[39m \u001B[43mexecute\u001B[49m\u001B[38;5;241;43m.\u001B[39;49m\u001B[43mexecute\u001B[49m\u001B[43m(\u001B[49m\n\u001B[1;32m    500\u001B[0m \u001B[43m        \u001B[49m\u001B[38;5;28;43mstr\u001B[39;49m\u001B[43m(\u001B[49m\u001B[38;5;28;43mself\u001B[39;49m\u001B[38;5;241;43m.\u001B[39;49m\u001B[43msignature\u001B[49m\u001B[38;5;241;43m.\u001B[39;49m\u001B[43mname\u001B[49m\u001B[43m)\u001B[49m\u001B[43m,\u001B[49m\n\u001B[1;32m    501\u001B[0m \u001B[43m        \u001B[49m\u001B[43mnum_outputs\u001B[49m\u001B[38;5;241;43m=\u001B[39;49m\u001B[38;5;28;43mself\u001B[39;49m\u001B[38;5;241;43m.\u001B[39;49m\u001B[43m_num_outputs\u001B[49m\u001B[43m,\u001B[49m\n\u001B[1;32m    502\u001B[0m \u001B[43m        \u001B[49m\u001B[43minputs\u001B[49m\u001B[38;5;241;43m=\u001B[39;49m\u001B[43margs\u001B[49m\u001B[43m,\u001B[49m\n\u001B[1;32m    503\u001B[0m \u001B[43m        \u001B[49m\u001B[43mattrs\u001B[49m\u001B[38;5;241;43m=\u001B[39;49m\u001B[43mattrs\u001B[49m\u001B[43m,\u001B[49m\n\u001B[1;32m    504\u001B[0m \u001B[43m        \u001B[49m\u001B[43mctx\u001B[49m\u001B[38;5;241;43m=\u001B[39;49m\u001B[43mctx\u001B[49m\u001B[43m)\u001B[49m\n\u001B[1;32m    505\u001B[0m   \u001B[38;5;28;01melse\u001B[39;00m:\n\u001B[1;32m    506\u001B[0m     outputs \u001B[38;5;241m=\u001B[39m execute\u001B[38;5;241m.\u001B[39mexecute_with_cancellation(\n\u001B[1;32m    507\u001B[0m         \u001B[38;5;28mstr\u001B[39m(\u001B[38;5;28mself\u001B[39m\u001B[38;5;241m.\u001B[39msignature\u001B[38;5;241m.\u001B[39mname),\n\u001B[1;32m    508\u001B[0m         num_outputs\u001B[38;5;241m=\u001B[39m\u001B[38;5;28mself\u001B[39m\u001B[38;5;241m.\u001B[39m_num_outputs,\n\u001B[0;32m   (...)\u001B[0m\n\u001B[1;32m    511\u001B[0m         ctx\u001B[38;5;241m=\u001B[39mctx,\n\u001B[1;32m    512\u001B[0m         cancellation_manager\u001B[38;5;241m=\u001B[39mcancellation_manager)\n",
      "File \u001B[0;32m~/git/IV-Forecasting/venv/lib/python3.8/site-packages/tensorflow/python/eager/execute.py:54\u001B[0m, in \u001B[0;36mquick_execute\u001B[0;34m(op_name, num_outputs, inputs, attrs, ctx, name)\u001B[0m\n\u001B[1;32m     52\u001B[0m \u001B[38;5;28;01mtry\u001B[39;00m:\n\u001B[1;32m     53\u001B[0m   ctx\u001B[38;5;241m.\u001B[39mensure_initialized()\n\u001B[0;32m---> 54\u001B[0m   tensors \u001B[38;5;241m=\u001B[39m \u001B[43mpywrap_tfe\u001B[49m\u001B[38;5;241;43m.\u001B[39;49m\u001B[43mTFE_Py_Execute\u001B[49m\u001B[43m(\u001B[49m\u001B[43mctx\u001B[49m\u001B[38;5;241;43m.\u001B[39;49m\u001B[43m_handle\u001B[49m\u001B[43m,\u001B[49m\u001B[43m \u001B[49m\u001B[43mdevice_name\u001B[49m\u001B[43m,\u001B[49m\u001B[43m \u001B[49m\u001B[43mop_name\u001B[49m\u001B[43m,\u001B[49m\n\u001B[1;32m     55\u001B[0m \u001B[43m                                      \u001B[49m\u001B[43minputs\u001B[49m\u001B[43m,\u001B[49m\u001B[43m \u001B[49m\u001B[43mattrs\u001B[49m\u001B[43m,\u001B[49m\u001B[43m \u001B[49m\u001B[43mnum_outputs\u001B[49m\u001B[43m)\u001B[49m\n\u001B[1;32m     56\u001B[0m \u001B[38;5;28;01mexcept\u001B[39;00m core\u001B[38;5;241m.\u001B[39m_NotOkStatusException \u001B[38;5;28;01mas\u001B[39;00m e:\n\u001B[1;32m     57\u001B[0m   \u001B[38;5;28;01mif\u001B[39;00m name \u001B[38;5;129;01mis\u001B[39;00m \u001B[38;5;129;01mnot\u001B[39;00m \u001B[38;5;28;01mNone\u001B[39;00m:\n",
      "\u001B[0;31mKeyboardInterrupt\u001B[0m: "
     ]
    }
   ],
   "source": [
    "model.fit(\n",
    "    x,\n",
    "    y,\n",
    "    batch_size=16,\n",
    "    epochs=7, # seems like enough to reach the the minimum loss\n",
    "    shuffle=True,\n",
    "    verbose=1,\n",
    "    use_multiprocessing=True,\n",
    "    workers=12,\n",
    "    validation_split=0.25\n",
    ")"
   ],
   "metadata": {
    "collapsed": false,
    "pycharm": {
     "name": "#%%\n"
    }
   }
  },
  {
   "cell_type": "code",
   "execution_count": 37,
   "outputs": [
    {
     "data": {
      "text/plain": "<matplotlib.legend.Legend at 0x7f8b14382fd0>"
     },
     "execution_count": 37,
     "metadata": {},
     "output_type": "execute_result"
    },
    {
     "data": {
      "text/plain": "<Figure size 720x720 with 1 Axes>",
      "image/png": "[encoded data removed]"
     },
     "metadata": {
      "needs_background": "light"
     },
     "output_type": "display_data"
    }
   ],
   "source": [
    "plt.figure(figsize=(10, 10))\n",
    "plt.plot(model.predict(x[:100]), alpha=0.5, label=\"y-pred\")\n",
    "plt.plot(y[:100], alpha=0.5, label=\"y\")\n",
    "plt.legend()"
   ],
   "metadata": {
    "collapsed": false,
    "pycharm": {
     "name": "#%%\n"
    }
   }
  },
  {
   "cell_type": "code",
   "execution_count": 46,
   "outputs": [
    {
     "name": "stdout",
     "output_type": "stream",
     "text": [
      "[<tf.Variable 'dense_36/kernel:0' shape=(9, 9) dtype=float32, numpy=\n",
      "array([[-7.28907617e-05, -5.18825473e-05,  2.69697775e-05,\n",
      "         9.24457709e-05,  4.03645390e-04,  1.38732154e-04,\n",
      "         3.30092007e-05,  3.99924582e-04, -1.06671956e-04],\n",
      "       [ 1.24500251e+00, -8.40830803e-01,  2.39840791e-01,\n",
      "        -3.98616016e-01,  1.21510577e+00, -8.34555104e-02,\n",
      "        -2.07919526e+00, -1.17803860e+00, -1.61565793e+00],\n",
      "       [-8.09717083e+00,  2.58397651e+00,  1.03646636e+00,\n",
      "         1.76046693e+00, -9.17808533e+00, -1.43179595e+00,\n",
      "         1.08257246e+01,  9.26470757e+00,  8.40779305e+00],\n",
      "       [-3.36731523e-01,  2.47399807e-01,  9.81673747e-02,\n",
      "        -7.08438084e-02, -5.30382216e-01, -4.82220091e-02,\n",
      "         7.96104908e-01,  3.48088145e-01,  4.87552524e-01],\n",
      "       [-7.76963651e-01,  8.95057991e-02,  6.38626143e-02,\n",
      "         2.72807419e-01, -9.14792538e-01, -4.97820862e-02,\n",
      "         1.29218626e+00,  7.00184166e-01,  8.12791049e-01],\n",
      "       [ 7.30755329e-02, -4.96405102e-02,  3.73177007e-02,\n",
      "         7.10666133e-03,  1.17532909e-01,  3.51359807e-02,\n",
      "        -1.57819808e-01, -8.89637396e-02, -6.30071089e-02],\n",
      "       [ 9.22079945e+00, -2.86341882e+00, -1.02510118e+00,\n",
      "        -1.52186644e+00,  9.67879772e+00,  1.76515007e+00,\n",
      "        -1.16807051e+01, -9.48207474e+00, -9.79961109e+00],\n",
      "       [-2.00419259e+00,  7.84666359e-01,  7.01619148e-01,\n",
      "         2.37921894e-01, -2.16210938e+00, -5.78620970e-01,\n",
      "         4.06091785e+00,  2.45747685e+00,  2.27436757e+00],\n",
      "       [ 1.95920229e+00, -3.78509820e-01,  3.03185254e-01,\n",
      "        -5.04640460e-01,  1.73636413e+00, -1.57124490e-01,\n",
      "        -3.52358031e+00, -2.61227059e+00, -1.97186947e+00]], dtype=float32)>, <tf.Variable 'dense_36/bias:0' shape=(9,) dtype=float32, numpy=\n",
      "array([ 0.09793897,  0.0255827 , -0.01803846, -0.04782694,  0.14134426,\n",
      "       -0.02358883, -0.14390495, -0.10781347, -0.07009578], dtype=float32)>, <tf.Variable 'dense_37/kernel:0' shape=(9, 1) dtype=float32, numpy=\n",
      "array([[ 1.0525509e-04],\n",
      "       [-1.3371880e-04],\n",
      "       [ 2.1452401e-05],\n",
      "       [ 7.6705197e-05],\n",
      "       [ 4.5493658e-04],\n",
      "       [ 2.0288909e-04],\n",
      "       [-1.2521959e-04],\n",
      "       [-4.7464855e-04],\n",
      "       [ 9.7615339e-06]], dtype=float32)>, <tf.Variable 'dense_37/bias:0' shape=(1,) dtype=float32, numpy=array([-0.00859855], dtype=float32)>]\n"
     ]
    }
   ],
   "source": [
    "print(model.trainable_variables)"
   ],
   "metadata": {
    "collapsed": false,
    "pycharm": {
     "name": "#%%\n"
    }
   }
  },
  {
   "cell_type": "code",
   "execution_count": 13,
   "outputs": [
    {
     "data": {
      "text/plain": "(array([6.4000e+01, 2.6800e+03, 9.4320e+03, 1.3322e+04, 1.4251e+04,\n        1.3178e+04, 1.0377e+04, 7.7830e+03, 5.9350e+03, 4.4570e+03,\n        3.3660e+03, 2.7250e+03, 2.2650e+03, 1.6310e+03, 1.3600e+03,\n        1.0860e+03, 9.2300e+02, 7.3000e+02, 6.2300e+02, 5.5500e+02,\n        4.3900e+02, 3.5300e+02, 3.1200e+02, 2.8300e+02, 2.5100e+02,\n        2.1500e+02, 1.7500e+02, 1.3900e+02, 1.2300e+02, 1.1400e+02,\n        1.0900e+02, 8.8000e+01, 6.9000e+01, 4.0000e+01, 4.3000e+01,\n        5.7000e+01, 5.0000e+01, 3.1000e+01, 3.4000e+01, 3.0000e+01,\n        2.6000e+01, 2.0000e+01, 2.2000e+01, 2.1000e+01, 8.0000e+00,\n        1.2000e+01, 1.9000e+01, 1.2000e+01, 1.2000e+01, 8.0000e+00,\n        4.0000e+00, 7.0000e+00, 9.0000e+00, 1.1000e+01, 6.0000e+00,\n        5.0000e+00, 7.0000e+00, 4.0000e+00, 4.0000e+00, 4.0000e+00,\n        9.0000e+00, 4.0000e+00, 5.0000e+00, 5.0000e+00, 2.0000e+00,\n        0.0000e+00, 2.0000e+00, 5.0000e+00, 4.0000e+00, 3.0000e+00,\n        1.0000e+00, 6.0000e+00, 4.0000e+00, 1.0000e+00, 6.0000e+00,\n        2.0000e+00, 0.0000e+00, 0.0000e+00, 2.0000e+00, 1.0000e+00,\n        1.0000e+00, 0.0000e+00, 0.0000e+00, 3.0000e+00, 2.0000e+00,\n        0.0000e+00, 0.0000e+00, 1.0000e+00, 0.0000e+00, 2.0000e+00,\n        0.0000e+00, 1.0000e+00, 2.0000e+00, 1.0000e+00, 1.0000e+00,\n        0.0000e+00, 2.0000e+00, 0.0000e+00, 1.0000e+00, 2.0000e+00]),\n array([-0.21398948, -0.18448476, -0.15498004, -0.12547532, -0.0959706 ,\n        -0.06646588, -0.03696116, -0.00745644,  0.02204828,  0.051553  ,\n         0.08105772,  0.11056244,  0.14006716,  0.16957188,  0.1990766 ,\n         0.22858132,  0.25808604,  0.28759076,  0.31709548,  0.3466002 ,\n         0.37610492,  0.40560964,  0.43511436,  0.46461908,  0.4941238 ,\n         0.52362852,  0.55313324,  0.58263796,  0.61214268,  0.6416474 ,\n         0.67115212,  0.70065684,  0.73016156,  0.75966628,  0.789171  ,\n         0.81867572,  0.84818044,  0.87768516,  0.90718988,  0.9366946 ,\n         0.96619932,  0.99570404,  1.02520876,  1.05471348,  1.0842182 ,\n         1.11372292,  1.14322764,  1.17273236,  1.20223708,  1.2317418 ,\n         1.26124652,  1.29075124,  1.32025596,  1.34976068,  1.3792654 ,\n         1.40877012,  1.43827484,  1.46777956,  1.49728428,  1.526789  ,\n         1.55629372,  1.58579844,  1.61530316,  1.64480788,  1.6743126 ,\n         1.70381732,  1.73332204,  1.76282676,  1.79233148,  1.8218362 ,\n         1.85134092,  1.88084564,  1.91035036,  1.93985508,  1.9693598 ,\n         1.99886452,  2.02836924,  2.05787396,  2.08737868,  2.1168834 ,\n         2.14638812,  2.17589284,  2.20539756,  2.23490228,  2.264407  ,\n         2.29391172,  2.32341644,  2.35292116,  2.38242588,  2.4119306 ,\n         2.44143532,  2.47094004,  2.50044476,  2.52994948,  2.5594542 ,\n         2.58895892,  2.61846364,  2.64796836,  2.67747308,  2.7069778 ,\n         2.73648252]),\n <BarContainer object of 100 artists>)"
     },
     "execution_count": 13,
     "metadata": {},
     "output_type": "execute_result"
    },
    {
     "data": {
      "text/plain": "<Figure size 432x288 with 1 Axes>",
      "image/png": "[encoded data removed]"
     },
     "metadata": {
      "needs_background": "light"
     },
     "output_type": "display_data"
    }
   ],
   "source": [
    "plt.hist(y, bins=100)\n",
    "# plt.xlim(0, 0.5)"
   ],
   "metadata": {
    "collapsed": false,
    "pycharm": {
     "name": "#%%\n"
    }
   }
  },
  {
   "cell_type": "code",
   "execution_count": 96,
   "outputs": [],
   "source": [
    "from tqdm.notebook import tqdm"
   ],
   "metadata": {
    "collapsed": false,
    "pycharm": {
     "name": "#%%\n"
    }
   }
  },
  {
   "cell_type": "code",
   "execution_count": 97,
   "outputs": [
    {
     "data": {
      "text/plain": "  0%|          | 0/1563 [00:00<?, ?it/s]",
      "application/vnd.jupyter.widget-view+json": {
       "version_major": 2,
       "version_minor": 0,
       "model_id": "165ebdc228b445038e6c24696905c3a5"
      }
     },
     "metadata": {},
     "output_type": "display_data"
    }
   ],
   "source": [
    "y_preds = np.vstack([model.predict(x[i*64:(i+1)*64]) for i in tqdm(range(1563))]).flatten()"
   ],
   "metadata": {
    "collapsed": false,
    "pycharm": {
     "name": "#%%\n"
    }
   }
  },
  {
   "cell_type": "code",
   "execution_count": 100,
   "outputs": [
    {
     "data": {
      "text/plain": "(100000,)"
     },
     "execution_count": 100,
     "metadata": {},
     "output_type": "execute_result"
    }
   ],
   "source": [
    "y.shape"
   ],
   "metadata": {
    "collapsed": false,
    "pycharm": {
     "name": "#%%\n"
    }
   }
  },
  {
   "cell_type": "code",
   "execution_count": 102,
   "outputs": [],
   "source": [
    "y_preds = y_preds.flatten()"
   ],
   "metadata": {
    "collapsed": false,
    "pycharm": {
     "name": "#%%\n"
    }
   }
  },
  {
   "cell_type": "code",
   "execution_count": null,
   "outputs": [],
   "source": [
    "plt.hist(y_preds.flatten(), bins=np.linspace(0, 1, 11), alpha=0.3)\n",
    "plt.hist(y, bins=np.linspace(0, 1, 11), alpha=0.3)\n",
    "plt.xlim(0, 1)"
   ],
   "metadata": {
    "collapsed": false,
    "pycharm": {
     "name": "#%%\n"
    }
   }
  },
  {
   "cell_type": "code",
   "execution_count": 47,
   "outputs": [
    {
     "data": {
      "text/plain": "array([[ 0.0021341 ],\n       [-0.00667965],\n       [ 0.02643603],\n       [ 0.02145423],\n       [-0.00443289],\n       [ 0.0123741 ],\n       [ 0.00979923]], dtype=float32)"
     },
     "execution_count": 47,
     "metadata": {},
     "output_type": "execute_result"
    }
   ],
   "source": [
    "model.predict(x[[10, 20, 234, 763, 1237, 54736, 23452]])"
   ],
   "metadata": {
    "collapsed": false,
    "pycharm": {
     "name": "#%%\n"
    }
   }
  },
  {
   "cell_type": "code",
   "execution_count": 48,
   "outputs": [
    {
     "data": {
      "text/plain": "array([-0.11560748, -0.05125648,  0.00429352, -0.00680148, -0.13017948,\n       -0.05310948, -0.09022548])"
     },
     "execution_count": 48,
     "metadata": {},
     "output_type": "execute_result"
    }
   ],
   "source": [
    "y[[10, 20, 234, 763, 1237, 54736, 23452]]"
   ],
   "metadata": {
    "collapsed": false,
    "pycharm": {
     "name": "#%%\n"
    }
   }
  },
  {
   "cell_type": "code",
   "execution_count": 24,
   "outputs": [
    {
     "name": "stderr",
     "output_type": "stream",
     "text": [
      "2022-04-17 15:28:10.585568: W tensorflow/python/util/util.cc:368] Sets are not currently considered sequences, but this may change in the future, so consider avoiding using them.\n"
     ]
    },
    {
     "name": "stdout",
     "output_type": "stream",
     "text": [
      "INFO:tensorflow:Assets written to: ./mape_loss_3/assets\n"
     ]
    }
   ],
   "source": [
    "model.save(\"./mape_loss_3\")"
   ],
   "metadata": {
    "collapsed": false,
    "pycharm": {
     "name": "#%%\n"
    }
   }
  },
  {
   "cell_type": "code",
   "execution_count": 25,
   "outputs": [],
   "source": [
    "# modell = tf.keras.models.load_model(\"./initial_model_2\")\n",
    "modell = tf.keras.models.load_model(\"./mape_loss_2\")"
   ],
   "metadata": {
    "collapsed": false,
    "pycharm": {
     "name": "#%%\n"
    }
   }
  },
  {
   "cell_type": "code",
   "execution_count": 26,
   "outputs": [
    {
     "name": "stderr",
     "output_type": "stream",
     "text": [
      "\n",
      "KeyboardInterrupt\n",
      "\n"
     ]
    }
   ],
   "source": [
    "opt_test = pd.read_csv(\"../csv/options/raw/2017-18options.csv\")"
   ],
   "metadata": {
    "collapsed": false,
    "pycharm": {
     "name": "#%%\n"
    }
   }
  },
  {
   "cell_type": "code",
   "execution_count": null,
   "outputs": [],
   "source": [
    "x_test, y_test = setup_options_input(opt_test, 200000)"
   ],
   "metadata": {
    "collapsed": false,
    "pycharm": {
     "name": "#%%\n"
    }
   }
  },
  {
   "cell_type": "code",
   "execution_count": 22,
   "outputs": [
    {
     "name": "stdout",
     "output_type": "stream",
     "text": [
      "6250/6250 [==============================] - 103s 16ms/step - loss: 39.2194 - mean_absolute_percentage_error: 39.2194 - mean_absolute_error: 0.2684 - mean_squared_error: 0.1707\n"
     ]
    },
    {
     "data": {
      "text/plain": "[39.219417572021484,\n 39.219417572021484,\n 0.26837822794914246,\n 0.17069818079471588]"
     },
     "execution_count": 22,
     "metadata": {},
     "output_type": "execute_result"
    }
   ],
   "source": [
    "modell.evaluate(x_test, y_test)"
   ],
   "metadata": {
    "collapsed": false,
    "pycharm": {
     "name": "#%%\n"
    }
   }
  },
  {
   "cell_type": "code",
   "execution_count": 15,
   "outputs": [
    {
     "name": "stdout",
     "output_type": "stream",
     "text": [
      "Model: \"sequential_3\"\n",
      "_________________________________________________________________\n",
      " Layer (type)                Output Shape              Param #   \n",
      "=================================================================\n",
      " dense_16 (Dense)            (None, 1979)              3918420   \n",
      "                                                                 \n",
      " dense_17 (Dense)            (None, 3958)              7836840   \n",
      "                                                                 \n",
      " dense_18 (Dense)            (None, 3958)              15669722  \n",
      "                                                                 \n",
      " dense_19 (Dense)            (None, 1979)              7834861   \n",
      "                                                                 \n",
      " dense_20 (Dense)            (None, 1)                 1980      \n",
      "                                                                 \n",
      "=================================================================\n",
      "Total params: 35,261,823\n",
      "Trainable params: 35,261,823\n",
      "Non-trainable params: 0\n",
      "_________________________________________________________________\n"
     ]
    }
   ],
   "source": [
    "modell.summary()"
   ],
   "metadata": {
    "collapsed": false,
    "pycharm": {
     "name": "#%%\n"
    }
   }
  },
  {
   "cell_type": "code",
   "execution_count": 39,
   "outputs": [],
   "source": [
    "y_predict = modell.predict(x_test)"
   ],
   "metadata": {
    "collapsed": false,
    "pycharm": {
     "name": "#%%\n"
    }
   }
  },
  {
   "cell_type": "code",
   "execution_count": null,
   "outputs": [],
   "source": [
    "plt.plot(y_test - y_predict)"
   ],
   "metadata": {
    "collapsed": false,
    "pycharm": {
     "name": "#%%\n"
    }
   }
  },
  {
   "cell_type": "code",
   "execution_count": null,
   "outputs": [],
   "source": [],
   "metadata": {
    "collapsed": false,
    "pycharm": {
     "name": "#%%\n"
    }
   }
  }
 ],
 "metadata": {
  "kernelspec": {
   "name": "python3",
   "language": "python",
   "display_name": "Python 3 (ipykernel)"
  },
  "language_info": {
   "codemirror_mode": {
    "name": "ipython",
    "version": 2
   },
   "file_extension": ".py",
   "mimetype": "text/x-python",
   "name": "python",
   "nbconvert_exporter": "python",
   "pygments_lexer": "ipython2",
   "version": "2.7.6"
  }
 },
 "nbformat": 4,
 "nbformat_minor": 1
}