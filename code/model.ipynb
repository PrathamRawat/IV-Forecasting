{
 "cells": [
  {
   "cell_type": "code",
   "execution_count": 1,
   "metadata": {
    "collapsed": true
   },
   "outputs": [],
   "source": [
    "import tensorflow as tf\n",
    "from tensorflow import keras\n",
    "import numpy as np\n",
    "import pandas as pd\n",
    "import datetime\n",
    "import os\n",
    "import matplotlib.pyplot as plt\n",
    "import math"
   ]
  },
  {
   "cell_type": "markdown",
   "source": [
    "Load options and trends files"
   ],
   "metadata": {
    "collapsed": false,
    "pycharm": {
     "name": "#%% md\n"
    }
   }
  },
  {
   "cell_type": "code",
   "execution_count": 2,
   "metadata": {
    "pycharm": {
     "name": "#%%\n"
    }
   },
   "outputs": [],
   "source": [
    "# options = pd.read_csv(\"../csv/options/raw/2015-16options.csv\")\n",
    "# options = pd.read_csv(\"../csv/options/raw/data.csv\")\n",
    "options = pd.read_csv(\"../csv/options/cleaned/options.csv\")"
   ]
  },
  {
   "cell_type": "code",
   "execution_count": 3,
   "outputs": [],
   "source": [
    "trends = pd.read_csv(\"../csv/trends/input.csv\")"
   ],
   "metadata": {
    "collapsed": false,
    "pycharm": {
     "name": "#%%\n"
    }
   }
  },
  {
   "cell_type": "code",
   "execution_count": 4,
   "metadata": {
    "pycharm": {
     "name": "#%%\n"
    }
   },
   "outputs": [
    {
     "data": {
      "text/plain": "                 date     0     1      2     3     4     5     6     7     8  \\\n0 2015-01-02 09:00:00  37.0  30.0   55.0  49.0  18.0  47.0  22.0  30.0  12.0   \n1 2015-01-03 09:00:00  47.0  53.0   95.0  39.0  29.0  40.0  23.0  42.0  12.0   \n2 2015-01-04 09:00:00  41.0  33.0   65.0  41.0  28.0  49.0  38.0  39.0  11.0   \n3 2015-01-05 09:00:00  38.0  49.0   43.0  41.0  19.0  71.0  30.0  36.0   5.0   \n4 2015-01-06 09:00:00  59.0  38.0  100.0  45.0  21.0  53.0  23.0  57.0   6.0   \n\n   ...  1965  1966  1967  1968  1969  1970  1971  1972  1973  1974  \n0  ...  47.0  35.0  60.0  57.0  29.0  40.0  29.0   0.0  34.0  60.0  \n1  ...  43.0  32.0  56.0  42.0  29.0  39.0  15.0   0.0  39.0  57.0  \n2  ...  38.0  25.0  51.0  29.0  31.0  38.0  13.0   0.0  39.0  60.0  \n3  ...  42.0  38.0  93.0  70.0  34.0  51.0  22.0   0.0  30.0  51.0  \n4  ...  47.0  34.0  86.0  77.0  34.0  56.0  25.0   0.0  30.0  53.0  \n\n[5 rows x 1976 columns]",
      "text/html": "<div>\n<style scoped>\n    .dataframe tbody tr th:only-of-type {\n        vertical-align: middle;\n    }\n\n    .dataframe tbody tr th {\n        vertical-align: top;\n    }\n\n    .dataframe thead th {\n        text-align: right;\n    }\n</style>\n<table border=\"1\" class=\"dataframe\">\n  <thead>\n    <tr style=\"text-align: right;\">\n      <th></th>\n      <th>date</th>\n      <th>0</th>\n      <th>1</th>\n      <th>2</th>\n      <th>3</th>\n      <th>4</th>\n      <th>5</th>\n      <th>6</th>\n      <th>7</th>\n      <th>8</th>\n      <th>...</th>\n      <th>1965</th>\n      <th>1966</th>\n      <th>1967</th>\n      <th>1968</th>\n      <th>1969</th>\n      <th>1970</th>\n      <th>1971</th>\n      <th>1972</th>\n      <th>1973</th>\n      <th>1974</th>\n    </tr>\n  </thead>\n  <tbody>\n    <tr>\n      <th>0</th>\n      <td>2015-01-02 09:00:00</td>\n      <td>37.0</td>\n      <td>30.0</td>\n      <td>55.0</td>\n      <td>49.0</td>\n      <td>18.0</td>\n      <td>47.0</td>\n      <td>22.0</td>\n      <td>30.0</td>\n      <td>12.0</td>\n      <td>...</td>\n      <td>47.0</td>\n      <td>35.0</td>\n      <td>60.0</td>\n      <td>57.0</td>\n      <td>29.0</td>\n      <td>40.0</td>\n      <td>29.0</td>\n      <td>0.0</td>\n      <td>34.0</td>\n      <td>60.0</td>\n    </tr>\n    <tr>\n      <th>1</th>\n      <td>2015-01-03 09:00:00</td>\n      <td>47.0</td>\n      <td>53.0</td>\n      <td>95.0</td>\n      <td>39.0</td>\n      <td>29.0</td>\n      <td>40.0</td>\n      <td>23.0</td>\n      <td>42.0</td>\n      <td>12.0</td>\n      <td>...</td>\n      <td>43.0</td>\n      <td>32.0</td>\n      <td>56.0</td>\n      <td>42.0</td>\n      <td>29.0</td>\n      <td>39.0</td>\n      <td>15.0</td>\n      <td>0.0</td>\n      <td>39.0</td>\n      <td>57.0</td>\n    </tr>\n    <tr>\n      <th>2</th>\n      <td>2015-01-04 09:00:00</td>\n      <td>41.0</td>\n      <td>33.0</td>\n      <td>65.0</td>\n      <td>41.0</td>\n      <td>28.0</td>\n      <td>49.0</td>\n      <td>38.0</td>\n      <td>39.0</td>\n      <td>11.0</td>\n      <td>...</td>\n      <td>38.0</td>\n      <td>25.0</td>\n      <td>51.0</td>\n      <td>29.0</td>\n      <td>31.0</td>\n      <td>38.0</td>\n      <td>13.0</td>\n      <td>0.0</td>\n      <td>39.0</td>\n      <td>60.0</td>\n    </tr>\n    <tr>\n      <th>3</th>\n      <td>2015-01-05 09:00:00</td>\n      <td>38.0</td>\n      <td>49.0</td>\n      <td>43.0</td>\n      <td>41.0</td>\n      <td>19.0</td>\n      <td>71.0</td>\n      <td>30.0</td>\n      <td>36.0</td>\n      <td>5.0</td>\n      <td>...</td>\n      <td>42.0</td>\n      <td>38.0</td>\n      <td>93.0</td>\n      <td>70.0</td>\n      <td>34.0</td>\n      <td>51.0</td>\n      <td>22.0</td>\n      <td>0.0</td>\n      <td>30.0</td>\n      <td>51.0</td>\n    </tr>\n    <tr>\n      <th>4</th>\n      <td>2015-01-06 09:00:00</td>\n      <td>59.0</td>\n      <td>38.0</td>\n      <td>100.0</td>\n      <td>45.0</td>\n      <td>21.0</td>\n      <td>53.0</td>\n      <td>23.0</td>\n      <td>57.0</td>\n      <td>6.0</td>\n      <td>...</td>\n      <td>47.0</td>\n      <td>34.0</td>\n      <td>86.0</td>\n      <td>77.0</td>\n      <td>34.0</td>\n      <td>56.0</td>\n      <td>25.0</td>\n      <td>0.0</td>\n      <td>30.0</td>\n      <td>53.0</td>\n    </tr>\n  </tbody>\n</table>\n<p>5 rows × 1976 columns</p>\n</div>"
     },
     "execution_count": 4,
     "metadata": {},
     "output_type": "execute_result"
    }
   ],
   "source": [
    "pruned_trends = trends\n",
    "pruned_trends[\"date\"] = pd.to_datetime(trends[\"date\"])\n",
    "pruned_trends.head()"
   ]
  },
  {
   "cell_type": "code",
   "execution_count": 5,
   "metadata": {
    "pycharm": {
     "name": "#%%\n"
    }
   },
   "outputs": [],
   "source": [
    "pruned_trends[\"date\"] = pruned_trends[\"date\"].apply(lambda x: pd.Timestamp(x.date()))\n",
    "pruned_trends = pruned_trends.set_index(\"date\")\n",
    "pruned_trends = pruned_trends / 100"
   ]
  },
  {
   "cell_type": "code",
   "execution_count": 6,
   "metadata": {
    "pycharm": {
     "name": "#%%\n"
    }
   },
   "outputs": [
    {
     "data": {
      "text/plain": "               0     1     2     3     4     5     6     7     8     9  ...  \\\ndate                                                                    ...   \n2015-01-02  0.37  0.30  0.55  0.49  0.18  0.47  0.22  0.30  0.12  0.04  ...   \n2015-01-03  0.47  0.53  0.95  0.39  0.29  0.40  0.23  0.42  0.12  0.18  ...   \n2015-01-04  0.41  0.33  0.65  0.41  0.28  0.49  0.38  0.39  0.11  0.21  ...   \n2015-01-05  0.38  0.49  0.43  0.41  0.19  0.71  0.30  0.36  0.05  0.08  ...   \n2015-01-06  0.59  0.38  1.00  0.45  0.21  0.53  0.23  0.57  0.06  0.10  ...   \n\n            1965  1966  1967  1968  1969  1970  1971  1972  1973  1974  \ndate                                                                    \n2015-01-02  0.47  0.35  0.60  0.57  0.29  0.40  0.29   0.0  0.34  0.60  \n2015-01-03  0.43  0.32  0.56  0.42  0.29  0.39  0.15   0.0  0.39  0.57  \n2015-01-04  0.38  0.25  0.51  0.29  0.31  0.38  0.13   0.0  0.39  0.60  \n2015-01-05  0.42  0.38  0.93  0.70  0.34  0.51  0.22   0.0  0.30  0.51  \n2015-01-06  0.47  0.34  0.86  0.77  0.34  0.56  0.25   0.0  0.30  0.53  \n\n[5 rows x 1975 columns]",
      "text/html": "<div>\n<style scoped>\n    .dataframe tbody tr th:only-of-type {\n        vertical-align: middle;\n    }\n\n    .dataframe tbody tr th {\n        vertical-align: top;\n    }\n\n    .dataframe thead th {\n        text-align: right;\n    }\n</style>\n<table border=\"1\" class=\"dataframe\">\n  <thead>\n    <tr style=\"text-align: right;\">\n      <th></th>\n      <th>0</th>\n      <th>1</th>\n      <th>2</th>\n      <th>3</th>\n      <th>4</th>\n      <th>5</th>\n      <th>6</th>\n      <th>7</th>\n      <th>8</th>\n      <th>9</th>\n      <th>...</th>\n      <th>1965</th>\n      <th>1966</th>\n      <th>1967</th>\n      <th>1968</th>\n      <th>1969</th>\n      <th>1970</th>\n      <th>1971</th>\n      <th>1972</th>\n      <th>1973</th>\n      <th>1974</th>\n    </tr>\n    <tr>\n      <th>date</th>\n      <th></th>\n      <th></th>\n      <th></th>\n      <th></th>\n      <th></th>\n      <th></th>\n      <th></th>\n      <th></th>\n      <th></th>\n      <th></th>\n      <th></th>\n      <th></th>\n      <th></th>\n      <th></th>\n      <th></th>\n      <th></th>\n      <th></th>\n      <th></th>\n      <th></th>\n      <th></th>\n      <th></th>\n    </tr>\n  </thead>\n  <tbody>\n    <tr>\n      <th>2015-01-02</th>\n      <td>0.37</td>\n      <td>0.30</td>\n      <td>0.55</td>\n      <td>0.49</td>\n      <td>0.18</td>\n      <td>0.47</td>\n      <td>0.22</td>\n      <td>0.30</td>\n      <td>0.12</td>\n      <td>0.04</td>\n      <td>...</td>\n      <td>0.47</td>\n      <td>0.35</td>\n      <td>0.60</td>\n      <td>0.57</td>\n      <td>0.29</td>\n      <td>0.40</td>\n      <td>0.29</td>\n      <td>0.0</td>\n      <td>0.34</td>\n      <td>0.60</td>\n    </tr>\n    <tr>\n      <th>2015-01-03</th>\n      <td>0.47</td>\n      <td>0.53</td>\n      <td>0.95</td>\n      <td>0.39</td>\n      <td>0.29</td>\n      <td>0.40</td>\n      <td>0.23</td>\n      <td>0.42</td>\n      <td>0.12</td>\n      <td>0.18</td>\n      <td>...</td>\n      <td>0.43</td>\n      <td>0.32</td>\n      <td>0.56</td>\n      <td>0.42</td>\n      <td>0.29</td>\n      <td>0.39</td>\n      <td>0.15</td>\n      <td>0.0</td>\n      <td>0.39</td>\n      <td>0.57</td>\n    </tr>\n    <tr>\n      <th>2015-01-04</th>\n      <td>0.41</td>\n      <td>0.33</td>\n      <td>0.65</td>\n      <td>0.41</td>\n      <td>0.28</td>\n      <td>0.49</td>\n      <td>0.38</td>\n      <td>0.39</td>\n      <td>0.11</td>\n      <td>0.21</td>\n      <td>...</td>\n      <td>0.38</td>\n      <td>0.25</td>\n      <td>0.51</td>\n      <td>0.29</td>\n      <td>0.31</td>\n      <td>0.38</td>\n      <td>0.13</td>\n      <td>0.0</td>\n      <td>0.39</td>\n      <td>0.60</td>\n    </tr>\n    <tr>\n      <th>2015-01-05</th>\n      <td>0.38</td>\n      <td>0.49</td>\n      <td>0.43</td>\n      <td>0.41</td>\n      <td>0.19</td>\n      <td>0.71</td>\n      <td>0.30</td>\n      <td>0.36</td>\n      <td>0.05</td>\n      <td>0.08</td>\n      <td>...</td>\n      <td>0.42</td>\n      <td>0.38</td>\n      <td>0.93</td>\n      <td>0.70</td>\n      <td>0.34</td>\n      <td>0.51</td>\n      <td>0.22</td>\n      <td>0.0</td>\n      <td>0.30</td>\n      <td>0.51</td>\n    </tr>\n    <tr>\n      <th>2015-01-06</th>\n      <td>0.59</td>\n      <td>0.38</td>\n      <td>1.00</td>\n      <td>0.45</td>\n      <td>0.21</td>\n      <td>0.53</td>\n      <td>0.23</td>\n      <td>0.57</td>\n      <td>0.06</td>\n      <td>0.10</td>\n      <td>...</td>\n      <td>0.47</td>\n      <td>0.34</td>\n      <td>0.86</td>\n      <td>0.77</td>\n      <td>0.34</td>\n      <td>0.56</td>\n      <td>0.25</td>\n      <td>0.0</td>\n      <td>0.30</td>\n      <td>0.53</td>\n    </tr>\n  </tbody>\n</table>\n<p>5 rows × 1975 columns</p>\n</div>"
     },
     "execution_count": 6,
     "metadata": {},
     "output_type": "execute_result"
    }
   ],
   "source": [
    "pruned_trends.head()"
   ]
  },
  {
   "cell_type": "code",
   "execution_count": 7,
   "metadata": {
    "pycharm": {
     "name": "#%%\n"
    }
   },
   "outputs": [],
   "source": [
    "options[\"date\"] = pd.to_datetime(options[\"date\"])\n",
    "options[\"exdate\"] = pd.to_datetime(options[\"exdate\"])\n",
    "options = options[(options[\"volume\"] > 0) & (options[\"date\"] <= pruned_trends.index.max())]"
   ]
  },
  {
   "cell_type": "code",
   "execution_count": 8,
   "outputs": [
    {
     "data": {
      "text/plain": "         date     exdate cp_flag  strike_price  volume  impl_volatility  \\\n28 2015-01-05 2015-01-09       C        190000       9         0.351564   \n29 2015-01-06 2015-01-09       C        190000      30         0.387712   \n31 2015-01-06 2015-01-09       C        191000      72         0.346814   \n32 2015-01-05 2015-01-09       C        192000      31         0.322698   \n33 2015-01-06 2015-01-09       C        192000      30         0.331786   \n\n       delta     gamma      vega     theta  dte  impl_volatility_x  \n28  0.950105  0.010412  2.928393 -26.81932    4           0.347783  \n29  0.950041  0.013891  2.176366 -35.17571    3           0.351564  \n31  0.944486  0.016040  2.362663 -36.00574    3           0.331030  \n32  0.940545  0.013093  3.361140 -28.13116    4           0.317701  \n33  0.930463  0.019611  2.823542 -41.79280    3           0.322698  ",
      "text/html": "<div>\n<style scoped>\n    .dataframe tbody tr th:only-of-type {\n        vertical-align: middle;\n    }\n\n    .dataframe tbody tr th {\n        vertical-align: top;\n    }\n\n    .dataframe thead th {\n        text-align: right;\n    }\n</style>\n<table border=\"1\" class=\"dataframe\">\n  <thead>\n    <tr style=\"text-align: right;\">\n      <th></th>\n      <th>date</th>\n      <th>exdate</th>\n      <th>cp_flag</th>\n      <th>strike_price</th>\n      <th>volume</th>\n      <th>impl_volatility</th>\n      <th>delta</th>\n      <th>gamma</th>\n      <th>vega</th>\n      <th>theta</th>\n      <th>dte</th>\n      <th>impl_volatility_x</th>\n    </tr>\n  </thead>\n  <tbody>\n    <tr>\n      <th>28</th>\n      <td>2015-01-05</td>\n      <td>2015-01-09</td>\n      <td>C</td>\n      <td>190000</td>\n      <td>9</td>\n      <td>0.351564</td>\n      <td>0.950105</td>\n      <td>0.010412</td>\n      <td>2.928393</td>\n      <td>-26.81932</td>\n      <td>4</td>\n      <td>0.347783</td>\n    </tr>\n    <tr>\n      <th>29</th>\n      <td>2015-01-06</td>\n      <td>2015-01-09</td>\n      <td>C</td>\n      <td>190000</td>\n      <td>30</td>\n      <td>0.387712</td>\n      <td>0.950041</td>\n      <td>0.013891</td>\n      <td>2.176366</td>\n      <td>-35.17571</td>\n      <td>3</td>\n      <td>0.351564</td>\n    </tr>\n    <tr>\n      <th>31</th>\n      <td>2015-01-06</td>\n      <td>2015-01-09</td>\n      <td>C</td>\n      <td>191000</td>\n      <td>72</td>\n      <td>0.346814</td>\n      <td>0.944486</td>\n      <td>0.016040</td>\n      <td>2.362663</td>\n      <td>-36.00574</td>\n      <td>3</td>\n      <td>0.331030</td>\n    </tr>\n    <tr>\n      <th>32</th>\n      <td>2015-01-05</td>\n      <td>2015-01-09</td>\n      <td>C</td>\n      <td>192000</td>\n      <td>31</td>\n      <td>0.322698</td>\n      <td>0.940545</td>\n      <td>0.013093</td>\n      <td>3.361140</td>\n      <td>-28.13116</td>\n      <td>4</td>\n      <td>0.317701</td>\n    </tr>\n    <tr>\n      <th>33</th>\n      <td>2015-01-06</td>\n      <td>2015-01-09</td>\n      <td>C</td>\n      <td>192000</td>\n      <td>30</td>\n      <td>0.331786</td>\n      <td>0.930463</td>\n      <td>0.019611</td>\n      <td>2.823542</td>\n      <td>-41.79280</td>\n      <td>3</td>\n      <td>0.322698</td>\n    </tr>\n  </tbody>\n</table>\n</div>"
     },
     "execution_count": 8,
     "metadata": {},
     "output_type": "execute_result"
    }
   ],
   "source": [
    "options.head()"
   ],
   "metadata": {
    "collapsed": false,
    "pycharm": {
     "name": "#%%\n"
    }
   }
  },
  {
   "cell_type": "code",
   "execution_count": 9,
   "outputs": [],
   "source": [
    "options[\"volume\"] = options[\"volume\"] - options[\"volume\"].mean()\n",
    "options[\"impl_volatility\"] = options[\"impl_volatility\"] - options[\"impl_volatility\"].mean()\n",
    "options[\"delta\"] = options[\"delta\"] - options[\"delta\"].mean()\n",
    "options[\"gamma\"] = options[\"gamma\"] - options[\"gamma\"].mean()\n",
    "options[\"vega\"] = options[\"vega\"] - options[\"vega\"].mean()\n",
    "options[\"theta\"] = options[\"theta\"] - options[\"theta\"].mean()\n",
    "options[\"impl_volatility_x\"] = options[\"impl_volatility_x\"] - options[\"impl_volatility_x\"].mean()"
   ],
   "metadata": {
    "collapsed": false,
    "pycharm": {
     "name": "#%%\n"
    }
   }
  },
  {
   "cell_type": "code",
   "execution_count": 10,
   "outputs": [
    {
     "data": {
      "text/plain": "         date     exdate cp_flag  strike_price       volume  impl_volatility  \\\n28 2015-01-05 2015-01-09       C        190000 -1069.293641         0.111997   \n29 2015-01-06 2015-01-09       C        190000 -1048.293641         0.148145   \n31 2015-01-06 2015-01-09       C        191000 -1006.293641         0.107247   \n32 2015-01-05 2015-01-09       C        192000 -1047.293641         0.083131   \n33 2015-01-06 2015-01-09       C        192000 -1048.293641         0.092219   \n\n       delta     gamma       vega      theta  dte  impl_volatility_x  \n28  0.917181 -0.005350 -31.154606  -6.737658    4           0.113884  \n29  0.917117 -0.001871 -31.906633 -15.094048    3           0.117665  \n31  0.911562  0.000278 -31.720336 -15.924078    3           0.097131  \n32  0.907621 -0.002669 -30.721859  -8.049498    4           0.083802  \n33  0.897539  0.003849 -31.259457 -21.711138    3           0.088799  ",
      "text/html": "<div>\n<style scoped>\n    .dataframe tbody tr th:only-of-type {\n        vertical-align: middle;\n    }\n\n    .dataframe tbody tr th {\n        vertical-align: top;\n    }\n\n    .dataframe thead th {\n        text-align: right;\n    }\n</style>\n<table border=\"1\" class=\"dataframe\">\n  <thead>\n    <tr style=\"text-align: right;\">\n      <th></th>\n      <th>date</th>\n      <th>exdate</th>\n      <th>cp_flag</th>\n      <th>strike_price</th>\n      <th>volume</th>\n      <th>impl_volatility</th>\n      <th>delta</th>\n      <th>gamma</th>\n      <th>vega</th>\n      <th>theta</th>\n      <th>dte</th>\n      <th>impl_volatility_x</th>\n    </tr>\n  </thead>\n  <tbody>\n    <tr>\n      <th>28</th>\n      <td>2015-01-05</td>\n      <td>2015-01-09</td>\n      <td>C</td>\n      <td>190000</td>\n      <td>-1069.293641</td>\n      <td>0.111997</td>\n      <td>0.917181</td>\n      <td>-0.005350</td>\n      <td>-31.154606</td>\n      <td>-6.737658</td>\n      <td>4</td>\n      <td>0.113884</td>\n    </tr>\n    <tr>\n      <th>29</th>\n      <td>2015-01-06</td>\n      <td>2015-01-09</td>\n      <td>C</td>\n      <td>190000</td>\n      <td>-1048.293641</td>\n      <td>0.148145</td>\n      <td>0.917117</td>\n      <td>-0.001871</td>\n      <td>-31.906633</td>\n      <td>-15.094048</td>\n      <td>3</td>\n      <td>0.117665</td>\n    </tr>\n    <tr>\n      <th>31</th>\n      <td>2015-01-06</td>\n      <td>2015-01-09</td>\n      <td>C</td>\n      <td>191000</td>\n      <td>-1006.293641</td>\n      <td>0.107247</td>\n      <td>0.911562</td>\n      <td>0.000278</td>\n      <td>-31.720336</td>\n      <td>-15.924078</td>\n      <td>3</td>\n      <td>0.097131</td>\n    </tr>\n    <tr>\n      <th>32</th>\n      <td>2015-01-05</td>\n      <td>2015-01-09</td>\n      <td>C</td>\n      <td>192000</td>\n      <td>-1047.293641</td>\n      <td>0.083131</td>\n      <td>0.907621</td>\n      <td>-0.002669</td>\n      <td>-30.721859</td>\n      <td>-8.049498</td>\n      <td>4</td>\n      <td>0.083802</td>\n    </tr>\n    <tr>\n      <th>33</th>\n      <td>2015-01-06</td>\n      <td>2015-01-09</td>\n      <td>C</td>\n      <td>192000</td>\n      <td>-1048.293641</td>\n      <td>0.092219</td>\n      <td>0.897539</td>\n      <td>0.003849</td>\n      <td>-31.259457</td>\n      <td>-21.711138</td>\n      <td>3</td>\n      <td>0.088799</td>\n    </tr>\n  </tbody>\n</table>\n</div>"
     },
     "execution_count": 10,
     "metadata": {},
     "output_type": "execute_result"
    }
   ],
   "source": [
    "options.head()"
   ],
   "metadata": {
    "collapsed": false,
    "pycharm": {
     "name": "#%%\n"
    }
   }
  },
  {
   "cell_type": "code",
   "execution_count": 11,
   "metadata": {
    "pycharm": {
     "name": "#%%\n"
    }
   },
   "outputs": [],
   "source": [
    "def setup_options_input(options_df, numrows):\n",
    "    pruned_options = options_df.sample(numrows)\n",
    "    pruned_options = pruned_options.drop([\"exdate\", \"volume\"], axis=1)\n",
    "    pruned_options = pd.get_dummies(pruned_options, columns=[\"cp_flag\"])\n",
    "    pruned_options = pruned_options.set_index(\"date\")\n",
    "    df = pruned_options.apply(lambda x: pd.concat([x, pruned_trends.loc[pd.Timestamp(x.name)]], axis=0), axis=1)\n",
    "    return df.drop([\"impl_volatility\"], axis=1).to_numpy(), df[\"impl_volatility\"].to_numpy()"
   ]
  },
  {
   "cell_type": "code",
   "execution_count": 12,
   "metadata": {
    "pycharm": {
     "name": "#%%\n"
    }
   },
   "outputs": [],
   "source": [
    "x, y = setup_options_input(options, 100000)"
   ]
  },
  {
   "cell_type": "code",
   "execution_count": 13,
   "outputs": [
    {
     "data": {
      "text/plain": "(100000, 1984)"
     },
     "execution_count": 13,
     "metadata": {},
     "output_type": "execute_result"
    }
   ],
   "source": [
    "x.shape"
   ],
   "metadata": {
    "collapsed": false,
    "pycharm": {
     "name": "#%%\n"
    }
   }
  },
  {
   "cell_type": "code",
   "execution_count": 14,
   "outputs": [],
   "source": [
    "# pruned_options = options[options[\"volume\"] > 0]\n",
    "# pruned_options = pruned_options.drop([\"secid\", \"symbol\", \"exdate\", \"volume\", \"delta\", \"gamma\", \"vega\", \"theta\", \"optionid\", \"index_flag\", \"issuer\", \"exercise_style\"], axis=1)\n",
    "# pruned_options = pd.get_dummies(pruned_options, columns=[\"cp_flag\"])\n",
    "# pruned_options = pruned_options.set_index(\"date\")\n",
    "# df = pruned_options.apply(lambda x: pd.concat([x, pruned_trends.loc[pd.Timestamp(x.name)]], axis=0), axis=1)\n",
    "# x, y = df.drop([\"impl_volatility\"], axis=1).to_numpy(), df[\"impl_volatility\"].to_numpy()"
   ],
   "metadata": {
    "collapsed": false,
    "pycharm": {
     "name": "#%%\n"
    }
   }
  },
  {
   "cell_type": "code",
   "execution_count": 24,
   "metadata": {
    "pycharm": {
     "name": "#%%\n"
    }
   },
   "outputs": [],
   "source": [
    "model = tf.keras.Sequential([\n",
    "    tf.keras.layers.Dense(1984, activation='linear'),\n",
    "    # tf.keras.layers.Dense(1984*2, activation='linear'),\n",
    "    # tf.keras.layers.Dense(1984*4, activation='linear'),\n",
    "    # tf.keras.layers.Dense(1984*2, activation='linear'),\n",
    "    # tf.keras.layers.Dense(1984, activation='linear'),\n",
    "    # tf.keras.layers.Dense(1984, activation='relu'),\n",
    "    # tf.keras.layers.Dense(1984*2, activation='relu'),\n",
    "    # tf.keras.layers.Dense(1984*4, activation='relu'),\n",
    "    # tf.keras.layers.Dense(1984*2, activation='relu'),\n",
    "    # tf.keras.layers.Dense(1984, activation='relu'),\n",
    "    tf.keras.layers.Dense(1),\n",
    "])"
   ]
  },
  {
   "cell_type": "code",
   "execution_count": 25,
   "metadata": {
    "pycharm": {
     "name": "#%%\n"
    }
   },
   "outputs": [],
   "source": [
    "model.compile(\n",
    "    # optimizer=keras.optimizers.SGD(learning_rate=1e-7, momentum=0.9,),\n",
    "    optimizer=keras.optimizers.Adam(),\n",
    "    loss=keras.losses.MeanAbsoluteError(),\n",
    "    metrics=[\n",
    "        keras.metrics.MeanAbsolutePercentageError(),\n",
    "        keras.metrics.MeanAbsoluteError(),\n",
    "        keras.metrics.MeanSquaredError()\n",
    "             ]\n",
    ")"
   ]
  },
  {
   "cell_type": "code",
   "execution_count": 26,
   "outputs": [
    {
     "name": "stdout",
     "output_type": "stream",
     "text": [
      "Epoch 1/10\n",
      "1172/1172 [==============================] - 35s 29ms/step - loss: 2238.6433 - mean_absolute_percentage_error: 18237842.0000 - mean_absolute_error: 2238.6433 - mean_squared_error: 10892747.0000 - val_loss: 641.1252 - val_mean_absolute_percentage_error: 4385964.0000 - val_mean_absolute_error: 641.1252 - val_mean_squared_error: 435865.6875\n",
      "Epoch 2/10\n",
      "1172/1172 [==============================] - 33s 28ms/step - loss: 1403.5730 - mean_absolute_percentage_error: 17043720.0000 - mean_absolute_error: 1403.5730 - mean_squared_error: 3439148.0000 - val_loss: 173.3743 - val_mean_absolute_percentage_error: 1188291.3750 - val_mean_absolute_error: 173.3743 - val_mean_squared_error: 31930.3535\n",
      "Epoch 3/10\n",
      "1172/1172 [==============================] - 33s 28ms/step - loss: 843.2460 - mean_absolute_percentage_error: 7736570.0000 - mean_absolute_error: 843.2460 - mean_squared_error: 1258769.7500 - val_loss: 2287.3713 - val_mean_absolute_percentage_error: 15622422.0000 - val_mean_absolute_error: 2287.3713 - val_mean_squared_error: 5616179.5000\n",
      "Epoch 4/10\n",
      "1172/1172 [==============================] - 32s 28ms/step - loss: 754.5456 - mean_absolute_percentage_error: 9880213.0000 - mean_absolute_error: 754.5456 - mean_squared_error: 1047714.0625 - val_loss: 1030.3311 - val_mean_absolute_percentage_error: 7044203.0000 - val_mean_absolute_error: 1030.3311 - val_mean_squared_error: 1137781.7500\n",
      "Epoch 5/10\n",
      "1172/1172 [==============================] - 31s 27ms/step - loss: 361.5295 - mean_absolute_percentage_error: 3799469.2500 - mean_absolute_error: 361.5295 - mean_squared_error: 248142.0156 - val_loss: 97.6455 - val_mean_absolute_percentage_error: 679902.4375 - val_mean_absolute_error: 97.6455 - val_mean_squared_error: 10254.3457\n",
      "Epoch 6/10\n",
      "1172/1172 [==============================] - 32s 27ms/step - loss: 223.8213 - mean_absolute_percentage_error: 2173594.2500 - mean_absolute_error: 223.8213 - mean_squared_error: 91864.8203 - val_loss: 396.9096 - val_mean_absolute_percentage_error: 2717236.5000 - val_mean_absolute_error: 396.9096 - val_mean_squared_error: 168830.2656\n",
      "Epoch 7/10\n",
      "1172/1172 [==============================] - 31s 27ms/step - loss: 173.2967 - mean_absolute_percentage_error: 1177151.6250 - mean_absolute_error: 173.2967 - mean_squared_error: 63080.4961 - val_loss: 2.2731 - val_mean_absolute_percentage_error: 17196.9395 - val_mean_absolute_error: 2.2731 - val_mean_squared_error: 6.6289\n",
      "Epoch 8/10\n",
      "1172/1172 [==============================] - 24s 20ms/step - loss: 66.0065 - mean_absolute_percentage_error: 378861.7500 - mean_absolute_error: 66.0065 - mean_squared_error: 9166.6543 - val_loss: 63.6623 - val_mean_absolute_percentage_error: 436514.9688 - val_mean_absolute_error: 63.6623 - val_mean_squared_error: 4348.9297\n",
      "Epoch 9/10\n",
      "1172/1172 [==============================] - 18s 15ms/step - loss: 34.8940 - mean_absolute_percentage_error: 385936.5000 - mean_absolute_error: 34.8940 - mean_squared_error: 2322.1082 - val_loss: 9.1634 - val_mean_absolute_percentage_error: 62853.6797 - val_mean_absolute_error: 9.1634 - val_mean_squared_error: 90.4384\n",
      "Epoch 10/10\n",
      "1172/1172 [==============================] - 18s 15ms/step - loss: 14.9802 - mean_absolute_percentage_error: 106723.6250 - mean_absolute_error: 14.9802 - mean_squared_error: 426.8208 - val_loss: 0.4162 - val_mean_absolute_percentage_error: 2476.2532 - val_mean_absolute_error: 0.4162 - val_mean_squared_error: 0.2200\n"
     ]
    },
    {
     "data": {
      "text/plain": "<keras.callbacks.History at 0x7f954930f490>"
     },
     "execution_count": 26,
     "metadata": {},
     "output_type": "execute_result"
    }
   ],
   "source": [
    "model.fit(\n",
    "    x,\n",
    "    y,\n",
    "    batch_size=64,\n",
    "    epochs=10, # seems like enough to reach the the minimum loss\n",
    "    shuffle=True,\n",
    "    verbose=1,\n",
    "    use_multiprocessing=True,\n",
    "    workers=12,\n",
    "    validation_split=0.25\n",
    ")"
   ],
   "metadata": {
    "collapsed": false,
    "pycharm": {
     "name": "#%%\n"
    }
   }
  },
  {
   "cell_type": "code",
   "execution_count": 27,
   "outputs": [
    {
     "name": "stdout",
     "output_type": "stream",
     "text": [
      "[<tf.Variable 'dense_5/kernel:0' shape=(1984, 1984) dtype=float32, numpy=\n",
      "array([[ 1.3742602e-04, -3.3465047e-05, -2.9271891e-05, ...,\n",
      "         3.2190601e-05,  1.9390922e-05,  1.3746295e-04],\n",
      "       [ 2.1409720e-02,  3.8886327e-02, -6.0967695e-02, ...,\n",
      "        -7.0626676e-02, -8.9518502e-02,  1.7962019e-01],\n",
      "       [ 3.4050629e-02,  1.9886307e-02,  9.6268699e-02, ...,\n",
      "        -1.2740672e-02,  7.2214514e-02,  6.7068875e-02],\n",
      "       ...,\n",
      "       [-1.8613629e-02,  3.3360317e-02,  3.5910413e-02, ...,\n",
      "         2.2521572e-02, -1.3993690e-02, -4.8805665e-02],\n",
      "       [-4.3195911e-02,  3.3907644e-02, -2.2825409e-02, ...,\n",
      "        -4.6882514e-02, -1.5743285e-02, -4.7014844e-02],\n",
      "       [-5.9276115e-02,  2.6627993e-02, -2.8643792e-02, ...,\n",
      "         2.6632935e-02, -1.9392904e-02, -5.4823626e-02]], dtype=float32)>, <tf.Variable 'dense_5/bias:0' shape=(1984,) dtype=float32, numpy=\n",
      "array([-0.02778054,  0.00782526,  0.00472989, ..., -0.00959372,\n",
      "        0.00192546, -0.03229241], dtype=float32)>, <tf.Variable 'dense_6/kernel:0' shape=(1984, 1) dtype=float32, numpy=\n",
      "array([[ 9.00560735e-07],\n",
      "       [ 1.98910743e-06],\n",
      "       [-3.35579830e-06],\n",
      "       ...,\n",
      "       [-6.90022262e-07],\n",
      "       [ 3.54717631e-05],\n",
      "       [-1.39322265e-05]], dtype=float32)>, <tf.Variable 'dense_6/bias:0' shape=(1,) dtype=float32, numpy=array([0.00261312], dtype=float32)>]\n"
     ]
    }
   ],
   "source": [
    "print(model.trainable_variables)"
   ],
   "metadata": {
    "collapsed": false,
    "pycharm": {
     "name": "#%%\n"
    }
   }
  },
  {
   "cell_type": "code",
   "execution_count": 74,
   "outputs": [
    {
     "data": {
      "text/plain": "(array([5.1800e+02, 5.4460e+03, 1.1356e+04, 1.3709e+04, 1.4135e+04,\n        1.1961e+04, 9.3310e+03, 7.0540e+03, 5.2920e+03, 4.0710e+03,\n        3.2560e+03, 2.4230e+03, 1.9320e+03, 1.5010e+03, 1.2570e+03,\n        1.0410e+03, 8.4700e+02, 6.2000e+02, 5.4900e+02, 4.6700e+02,\n        4.1400e+02, 3.3300e+02, 3.0900e+02, 2.7300e+02, 2.4600e+02,\n        2.1100e+02, 1.5400e+02, 1.5700e+02, 1.2600e+02, 1.0100e+02,\n        7.9000e+01, 8.3000e+01, 8.2000e+01, 7.3000e+01, 5.1000e+01,\n        5.0000e+01, 4.9000e+01, 4.1000e+01, 2.9000e+01, 3.5000e+01,\n        3.0000e+01, 2.3000e+01, 2.9000e+01, 2.4000e+01, 2.3000e+01,\n        1.5000e+01, 1.1000e+01, 1.8000e+01, 9.0000e+00, 8.0000e+00,\n        1.7000e+01, 1.0000e+01, 8.0000e+00, 1.1000e+01, 6.0000e+00,\n        6.0000e+00, 5.0000e+00, 7.0000e+00, 4.0000e+00, 7.0000e+00,\n        3.0000e+00, 5.0000e+00, 0.0000e+00, 5.0000e+00, 1.0000e+00,\n        6.0000e+00, 2.0000e+00, 1.0000e+00, 3.0000e+00, 1.0000e+00,\n        3.0000e+00, 3.0000e+00, 1.0000e+00, 2.0000e+00, 1.0000e+00,\n        0.0000e+00, 0.0000e+00, 5.0000e+00, 1.0000e+00, 1.0000e+00,\n        2.0000e+00, 0.0000e+00, 3.0000e+00, 2.0000e+00, 0.0000e+00,\n        0.0000e+00, 3.0000e+00, 0.0000e+00, 1.0000e+00, 0.0000e+00,\n        2.0000e+00, 0.0000e+00, 1.0000e+00, 0.0000e+00, 0.0000e+00,\n        1.0000e+00, 4.0000e+00, 1.0000e+00, 1.0000e+00, 2.0000e+00]),\n array([-0.20126156, -0.17203844, -0.14281532, -0.1135922 , -0.08436908,\n        -0.05514596, -0.02592284,  0.00330028,  0.0325234 ,  0.06174652,\n         0.09096964,  0.12019276,  0.14941588,  0.178639  ,  0.20786212,\n         0.23708524,  0.26630836,  0.29553148,  0.3247546 ,  0.35397772,\n         0.38320084,  0.41242396,  0.44164708,  0.4708702 ,  0.50009332,\n         0.52931644,  0.55853956,  0.58776268,  0.6169858 ,  0.64620892,\n         0.67543204,  0.70465516,  0.73387828,  0.7631014 ,  0.79232452,\n         0.82154764,  0.85077076,  0.87999388,  0.909217  ,  0.93844012,\n         0.96766324,  0.99688636,  1.02610948,  1.0553326 ,  1.08455572,\n         1.11377884,  1.14300196,  1.17222508,  1.2014482 ,  1.23067132,\n         1.25989444,  1.28911756,  1.31834068,  1.3475638 ,  1.37678692,\n         1.40601004,  1.43523316,  1.46445628,  1.4936794 ,  1.52290252,\n         1.55212564,  1.58134876,  1.61057188,  1.639795  ,  1.66901812,\n         1.69824124,  1.72746436,  1.75668748,  1.7859106 ,  1.81513372,\n         1.84435684,  1.87357996,  1.90280308,  1.9320262 ,  1.96124932,\n         1.99047244,  2.01969556,  2.04891868,  2.0781418 ,  2.10736492,\n         2.13658804,  2.16581116,  2.19503428,  2.2242574 ,  2.25348052,\n         2.28270364,  2.31192676,  2.34114988,  2.370373  ,  2.39959612,\n         2.42881924,  2.45804236,  2.48726548,  2.5164886 ,  2.54571172,\n         2.57493484,  2.60415796,  2.63338108,  2.6626042 ,  2.69182732,\n         2.72105044]),\n <BarContainer object of 100 artists>)"
     },
     "execution_count": 74,
     "metadata": {},
     "output_type": "execute_result"
    },
    {
     "data": {
      "text/plain": "<Figure size 432x288 with 1 Axes>",
      "image/png": "[encoded data removed]"
     },
     "metadata": {
      "needs_background": "light"
     },
     "output_type": "display_data"
    }
   ],
   "source": [
    "plt.hist(y, bins=100)\n",
    "# plt.xlim(0, 0.5)"
   ],
   "metadata": {
    "collapsed": false,
    "pycharm": {
     "name": "#%%\n"
    }
   }
  },
  {
   "cell_type": "code",
   "execution_count": 96,
   "outputs": [],
   "source": [
    "from tqdm.notebook import tqdm"
   ],
   "metadata": {
    "collapsed": false,
    "pycharm": {
     "name": "#%%\n"
    }
   }
  },
  {
   "cell_type": "code",
   "execution_count": 97,
   "outputs": [
    {
     "data": {
      "text/plain": "  0%|          | 0/1563 [00:00<?, ?it/s]",
      "application/vnd.jupyter.widget-view+json": {
       "version_major": 2,
       "version_minor": 0,
       "model_id": "165ebdc228b445038e6c24696905c3a5"
      }
     },
     "metadata": {},
     "output_type": "display_data"
    }
   ],
   "source": [
    "y_preds = np.vstack([model.predict(x[i*64:(i+1)*64]) for i in tqdm(range(1563))]).flatten()"
   ],
   "metadata": {
    "collapsed": false,
    "pycharm": {
     "name": "#%%\n"
    }
   }
  },
  {
   "cell_type": "code",
   "execution_count": 100,
   "outputs": [
    {
     "data": {
      "text/plain": "(100000,)"
     },
     "execution_count": 100,
     "metadata": {},
     "output_type": "execute_result"
    }
   ],
   "source": [
    "y.shape"
   ],
   "metadata": {
    "collapsed": false,
    "pycharm": {
     "name": "#%%\n"
    }
   }
  },
  {
   "cell_type": "code",
   "execution_count": 102,
   "outputs": [],
   "source": [
    "y_preds = y_preds.flatten()"
   ],
   "metadata": {
    "collapsed": false,
    "pycharm": {
     "name": "#%%\n"
    }
   }
  },
  {
   "cell_type": "code",
   "execution_count": null,
   "outputs": [],
   "source": [
    "plt.hist(y_preds.flatten(), bins=np.linspace(0, 1, 11), alpha=0.3)\n",
    "plt.hist(y, bins=np.linspace(0, 1, 11), alpha=0.3)\n",
    "plt.xlim(0, 1)"
   ],
   "metadata": {
    "collapsed": false,
    "pycharm": {
     "name": "#%%\n"
    }
   }
  },
  {
   "cell_type": "code",
   "execution_count": 71,
   "outputs": [
    {
     "data": {
      "text/plain": "array([[0.02106535],\n       [0.03205708],\n       [0.0197807 ],\n       [0.05575758],\n       [0.05327338],\n       [0.04243129],\n       [0.07145941]], dtype=float32)"
     },
     "execution_count": 71,
     "metadata": {},
     "output_type": "execute_result"
    }
   ],
   "source": [
    "model.predict(x[[10, 20, 234, 763, 1237, 54736, 23452]])"
   ],
   "metadata": {
    "collapsed": false,
    "pycharm": {
     "name": "#%%\n"
    }
   }
  },
  {
   "cell_type": "code",
   "execution_count": 72,
   "outputs": [
    {
     "data": {
      "text/plain": "array([-0.13474656, -0.07756556, -0.08052756,  0.12103444, -0.01051956,\n       -0.04553256, -0.06033456])"
     },
     "execution_count": 72,
     "metadata": {},
     "output_type": "execute_result"
    }
   ],
   "source": [
    "y[[10, 20, 234, 763, 1237, 54736, 23452]]"
   ],
   "metadata": {
    "collapsed": false,
    "pycharm": {
     "name": "#%%\n"
    }
   }
  },
  {
   "cell_type": "code",
   "execution_count": 24,
   "outputs": [
    {
     "name": "stderr",
     "output_type": "stream",
     "text": [
      "2022-04-17 15:28:10.585568: W tensorflow/python/util/util.cc:368] Sets are not currently considered sequences, but this may change in the future, so consider avoiding using them.\n"
     ]
    },
    {
     "name": "stdout",
     "output_type": "stream",
     "text": [
      "INFO:tensorflow:Assets written to: ./mape_loss_3/assets\n"
     ]
    }
   ],
   "source": [
    "model.save(\"./mape_loss_3\")"
   ],
   "metadata": {
    "collapsed": false,
    "pycharm": {
     "name": "#%%\n"
    }
   }
  },
  {
   "cell_type": "code",
   "execution_count": 25,
   "outputs": [],
   "source": [
    "# modell = tf.keras.models.load_model(\"./initial_model_2\")\n",
    "modell = tf.keras.models.load_model(\"./mape_loss_2\")"
   ],
   "metadata": {
    "collapsed": false,
    "pycharm": {
     "name": "#%%\n"
    }
   }
  },
  {
   "cell_type": "code",
   "execution_count": 26,
   "outputs": [
    {
     "name": "stderr",
     "output_type": "stream",
     "text": [
      "\n",
      "KeyboardInterrupt\n",
      "\n"
     ]
    }
   ],
   "source": [
    "opt_test = pd.read_csv(\"../csv/options/raw/2017-18options.csv\")"
   ],
   "metadata": {
    "collapsed": false,
    "pycharm": {
     "name": "#%%\n"
    }
   }
  },
  {
   "cell_type": "code",
   "execution_count": null,
   "outputs": [],
   "source": [
    "x_test, y_test = setup_options_input(opt_test, 200000)"
   ],
   "metadata": {
    "collapsed": false,
    "pycharm": {
     "name": "#%%\n"
    }
   }
  },
  {
   "cell_type": "code",
   "execution_count": 22,
   "outputs": [
    {
     "name": "stdout",
     "output_type": "stream",
     "text": [
      "6250/6250 [==============================] - 103s 16ms/step - loss: 39.2194 - mean_absolute_percentage_error: 39.2194 - mean_absolute_error: 0.2684 - mean_squared_error: 0.1707\n"
     ]
    },
    {
     "data": {
      "text/plain": "[39.219417572021484,\n 39.219417572021484,\n 0.26837822794914246,\n 0.17069818079471588]"
     },
     "execution_count": 22,
     "metadata": {},
     "output_type": "execute_result"
    }
   ],
   "source": [
    "modell.evaluate(x_test, y_test)"
   ],
   "metadata": {
    "collapsed": false,
    "pycharm": {
     "name": "#%%\n"
    }
   }
  },
  {
   "cell_type": "code",
   "execution_count": 15,
   "outputs": [
    {
     "name": "stdout",
     "output_type": "stream",
     "text": [
      "Model: \"sequential_3\"\n",
      "_________________________________________________________________\n",
      " Layer (type)                Output Shape              Param #   \n",
      "=================================================================\n",
      " dense_16 (Dense)            (None, 1979)              3918420   \n",
      "                                                                 \n",
      " dense_17 (Dense)            (None, 3958)              7836840   \n",
      "                                                                 \n",
      " dense_18 (Dense)            (None, 3958)              15669722  \n",
      "                                                                 \n",
      " dense_19 (Dense)            (None, 1979)              7834861   \n",
      "                                                                 \n",
      " dense_20 (Dense)            (None, 1)                 1980      \n",
      "                                                                 \n",
      "=================================================================\n",
      "Total params: 35,261,823\n",
      "Trainable params: 35,261,823\n",
      "Non-trainable params: 0\n",
      "_________________________________________________________________\n"
     ]
    }
   ],
   "source": [
    "modell.summary()"
   ],
   "metadata": {
    "collapsed": false,
    "pycharm": {
     "name": "#%%\n"
    }
   }
  },
  {
   "cell_type": "code",
   "execution_count": 39,
   "outputs": [],
   "source": [
    "y_predict = modell.predict(x_test)"
   ],
   "metadata": {
    "collapsed": false,
    "pycharm": {
     "name": "#%%\n"
    }
   }
  },
  {
   "cell_type": "code",
   "execution_count": null,
   "outputs": [],
   "source": [
    "plt.plot(y_test - y_predict)"
   ],
   "metadata": {
    "collapsed": false,
    "pycharm": {
     "name": "#%%\n"
    }
   }
  },
  {
   "cell_type": "code",
   "execution_count": null,
   "outputs": [],
   "source": [],
   "metadata": {
    "collapsed": false,
    "pycharm": {
     "name": "#%%\n"
    }
   }
  }
 ],
 "metadata": {
  "kernelspec": {
   "name": "python3",
   "language": "python",
   "display_name": "Python 3 (ipykernel)"
  },
  "language_info": {
   "codemirror_mode": {
    "name": "ipython",
    "version": 2
   },
   "file_extension": ".py",
   "mimetype": "text/x-python",
   "name": "python",
   "nbconvert_exporter": "python",
   "pygments_lexer": "ipython2",
   "version": "2.7.6"
  }
 },
 "nbformat": 4,
 "nbformat_minor": 1
}