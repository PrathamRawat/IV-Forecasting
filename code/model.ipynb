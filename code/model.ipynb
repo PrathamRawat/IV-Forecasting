{
 "cells": [
  {
   "cell_type": "code",
   "execution_count": 1,
   "metadata": {
    "collapsed": true
   },
   "outputs": [],
   "source": [
    "import tensorflow as tf\n",
    "from tensorflow import keras\n",
    "import numpy as np\n",
    "import pandas as pd\n",
    "import datetime\n",
    "import os"
   ]
  },
  {
   "cell_type": "code",
   "execution_count": 39,
   "metadata": {
    "pycharm": {
     "name": "#%%\n"
    }
   },
   "outputs": [],
   "source": [
    "options = pd.read_csv(\"../csv/options/raw/2015-16options.csv\")"
   ]
  },
  {
   "cell_type": "code",
   "execution_count": 7,
   "outputs": [],
   "source": [
    "trends = pd.read_csv(\"../csv/trends/input.csv\")"
   ],
   "metadata": {
    "collapsed": false,
    "pycharm": {
     "name": "#%%\n"
    }
   }
  },
  {
   "cell_type": "code",
   "execution_count": 8,
   "metadata": {
    "pycharm": {
     "name": "#%%\n"
    }
   },
   "outputs": [
    {
     "data": {
      "text/plain": "                 date     0     1      2     3     4     5     6     7     8  \\\n0 2015-01-02 09:00:00  37.0  30.0   55.0  49.0  18.0  47.0  22.0  30.0  12.0   \n1 2015-01-03 09:00:00  47.0  53.0   95.0  39.0  29.0  40.0  23.0  42.0  12.0   \n2 2015-01-04 09:00:00  41.0  33.0   65.0  41.0  28.0  49.0  38.0  39.0  11.0   \n3 2015-01-05 09:00:00  38.0  49.0   43.0  41.0  19.0  71.0  30.0  36.0   5.0   \n4 2015-01-06 09:00:00  59.0  38.0  100.0  45.0  21.0  53.0  23.0  57.0   6.0   \n\n   ...  1965  1966  1967  1968  1969  1970  1971  1972  1973  1974  \n0  ...  47.0  35.0  60.0  57.0  29.0  40.0  29.0   0.0  34.0  60.0  \n1  ...  43.0  32.0  56.0  42.0  29.0  39.0  15.0   0.0  39.0  57.0  \n2  ...  38.0  25.0  51.0  29.0  31.0  38.0  13.0   0.0  39.0  60.0  \n3  ...  42.0  38.0  93.0  70.0  34.0  51.0  22.0   0.0  30.0  51.0  \n4  ...  47.0  34.0  86.0  77.0  34.0  56.0  25.0   0.0  30.0  53.0  \n\n[5 rows x 1976 columns]",
      "text/html": "<div>\n<style scoped>\n    .dataframe tbody tr th:only-of-type {\n        vertical-align: middle;\n    }\n\n    .dataframe tbody tr th {\n        vertical-align: top;\n    }\n\n    .dataframe thead th {\n        text-align: right;\n    }\n</style>\n<table border=\"1\" class=\"dataframe\">\n  <thead>\n    <tr style=\"text-align: right;\">\n      <th></th>\n      <th>date</th>\n      <th>0</th>\n      <th>1</th>\n      <th>2</th>\n      <th>3</th>\n      <th>4</th>\n      <th>5</th>\n      <th>6</th>\n      <th>7</th>\n      <th>8</th>\n      <th>...</th>\n      <th>1965</th>\n      <th>1966</th>\n      <th>1967</th>\n      <th>1968</th>\n      <th>1969</th>\n      <th>1970</th>\n      <th>1971</th>\n      <th>1972</th>\n      <th>1973</th>\n      <th>1974</th>\n    </tr>\n  </thead>\n  <tbody>\n    <tr>\n      <th>0</th>\n      <td>2015-01-02 09:00:00</td>\n      <td>37.0</td>\n      <td>30.0</td>\n      <td>55.0</td>\n      <td>49.0</td>\n      <td>18.0</td>\n      <td>47.0</td>\n      <td>22.0</td>\n      <td>30.0</td>\n      <td>12.0</td>\n      <td>...</td>\n      <td>47.0</td>\n      <td>35.0</td>\n      <td>60.0</td>\n      <td>57.0</td>\n      <td>29.0</td>\n      <td>40.0</td>\n      <td>29.0</td>\n      <td>0.0</td>\n      <td>34.0</td>\n      <td>60.0</td>\n    </tr>\n    <tr>\n      <th>1</th>\n      <td>2015-01-03 09:00:00</td>\n      <td>47.0</td>\n      <td>53.0</td>\n      <td>95.0</td>\n      <td>39.0</td>\n      <td>29.0</td>\n      <td>40.0</td>\n      <td>23.0</td>\n      <td>42.0</td>\n      <td>12.0</td>\n      <td>...</td>\n      <td>43.0</td>\n      <td>32.0</td>\n      <td>56.0</td>\n      <td>42.0</td>\n      <td>29.0</td>\n      <td>39.0</td>\n      <td>15.0</td>\n      <td>0.0</td>\n      <td>39.0</td>\n      <td>57.0</td>\n    </tr>\n    <tr>\n      <th>2</th>\n      <td>2015-01-04 09:00:00</td>\n      <td>41.0</td>\n      <td>33.0</td>\n      <td>65.0</td>\n      <td>41.0</td>\n      <td>28.0</td>\n      <td>49.0</td>\n      <td>38.0</td>\n      <td>39.0</td>\n      <td>11.0</td>\n      <td>...</td>\n      <td>38.0</td>\n      <td>25.0</td>\n      <td>51.0</td>\n      <td>29.0</td>\n      <td>31.0</td>\n      <td>38.0</td>\n      <td>13.0</td>\n      <td>0.0</td>\n      <td>39.0</td>\n      <td>60.0</td>\n    </tr>\n    <tr>\n      <th>3</th>\n      <td>2015-01-05 09:00:00</td>\n      <td>38.0</td>\n      <td>49.0</td>\n      <td>43.0</td>\n      <td>41.0</td>\n      <td>19.0</td>\n      <td>71.0</td>\n      <td>30.0</td>\n      <td>36.0</td>\n      <td>5.0</td>\n      <td>...</td>\n      <td>42.0</td>\n      <td>38.0</td>\n      <td>93.0</td>\n      <td>70.0</td>\n      <td>34.0</td>\n      <td>51.0</td>\n      <td>22.0</td>\n      <td>0.0</td>\n      <td>30.0</td>\n      <td>51.0</td>\n    </tr>\n    <tr>\n      <th>4</th>\n      <td>2015-01-06 09:00:00</td>\n      <td>59.0</td>\n      <td>38.0</td>\n      <td>100.0</td>\n      <td>45.0</td>\n      <td>21.0</td>\n      <td>53.0</td>\n      <td>23.0</td>\n      <td>57.0</td>\n      <td>6.0</td>\n      <td>...</td>\n      <td>47.0</td>\n      <td>34.0</td>\n      <td>86.0</td>\n      <td>77.0</td>\n      <td>34.0</td>\n      <td>56.0</td>\n      <td>25.0</td>\n      <td>0.0</td>\n      <td>30.0</td>\n      <td>53.0</td>\n    </tr>\n  </tbody>\n</table>\n<p>5 rows × 1976 columns</p>\n</div>"
     },
     "execution_count": 8,
     "metadata": {},
     "output_type": "execute_result"
    }
   ],
   "source": [
    "pruned_trends = trends\n",
    "pruned_trends[\"date\"] = pd.to_datetime(trends[\"date\"])\n",
    "pruned_trends.head()"
   ]
  },
  {
   "cell_type": "code",
   "execution_count": 9,
   "metadata": {
    "pycharm": {
     "name": "#%%\n"
    }
   },
   "outputs": [],
   "source": [
    "pruned_trends[\"date\"] = pruned_trends[\"date\"].apply(lambda x: pd.Timestamp(x.date()))\n",
    "pruned_trends = pruned_trends.set_index(\"date\")"
   ]
  },
  {
   "cell_type": "code",
   "execution_count": 10,
   "metadata": {
    "pycharm": {
     "name": "#%%\n"
    }
   },
   "outputs": [
    {
     "data": {
      "text/plain": "               0     1      2     3     4     5     6     7     8     9  ...  \\\ndate                                                                     ...   \n2015-01-02  37.0  30.0   55.0  49.0  18.0  47.0  22.0  30.0  12.0   4.0  ...   \n2015-01-03  47.0  53.0   95.0  39.0  29.0  40.0  23.0  42.0  12.0  18.0  ...   \n2015-01-04  41.0  33.0   65.0  41.0  28.0  49.0  38.0  39.0  11.0  21.0  ...   \n2015-01-05  38.0  49.0   43.0  41.0  19.0  71.0  30.0  36.0   5.0   8.0  ...   \n2015-01-06  59.0  38.0  100.0  45.0  21.0  53.0  23.0  57.0   6.0  10.0  ...   \n\n            1965  1966  1967  1968  1969  1970  1971  1972  1973  1974  \ndate                                                                    \n2015-01-02  47.0  35.0  60.0  57.0  29.0  40.0  29.0   0.0  34.0  60.0  \n2015-01-03  43.0  32.0  56.0  42.0  29.0  39.0  15.0   0.0  39.0  57.0  \n2015-01-04  38.0  25.0  51.0  29.0  31.0  38.0  13.0   0.0  39.0  60.0  \n2015-01-05  42.0  38.0  93.0  70.0  34.0  51.0  22.0   0.0  30.0  51.0  \n2015-01-06  47.0  34.0  86.0  77.0  34.0  56.0  25.0   0.0  30.0  53.0  \n\n[5 rows x 1975 columns]",
      "text/html": "<div>\n<style scoped>\n    .dataframe tbody tr th:only-of-type {\n        vertical-align: middle;\n    }\n\n    .dataframe tbody tr th {\n        vertical-align: top;\n    }\n\n    .dataframe thead th {\n        text-align: right;\n    }\n</style>\n<table border=\"1\" class=\"dataframe\">\n  <thead>\n    <tr style=\"text-align: right;\">\n      <th></th>\n      <th>0</th>\n      <th>1</th>\n      <th>2</th>\n      <th>3</th>\n      <th>4</th>\n      <th>5</th>\n      <th>6</th>\n      <th>7</th>\n      <th>8</th>\n      <th>9</th>\n      <th>...</th>\n      <th>1965</th>\n      <th>1966</th>\n      <th>1967</th>\n      <th>1968</th>\n      <th>1969</th>\n      <th>1970</th>\n      <th>1971</th>\n      <th>1972</th>\n      <th>1973</th>\n      <th>1974</th>\n    </tr>\n    <tr>\n      <th>date</th>\n      <th></th>\n      <th></th>\n      <th></th>\n      <th></th>\n      <th></th>\n      <th></th>\n      <th></th>\n      <th></th>\n      <th></th>\n      <th></th>\n      <th></th>\n      <th></th>\n      <th></th>\n      <th></th>\n      <th></th>\n      <th></th>\n      <th></th>\n      <th></th>\n      <th></th>\n      <th></th>\n      <th></th>\n    </tr>\n  </thead>\n  <tbody>\n    <tr>\n      <th>2015-01-02</th>\n      <td>37.0</td>\n      <td>30.0</td>\n      <td>55.0</td>\n      <td>49.0</td>\n      <td>18.0</td>\n      <td>47.0</td>\n      <td>22.0</td>\n      <td>30.0</td>\n      <td>12.0</td>\n      <td>4.0</td>\n      <td>...</td>\n      <td>47.0</td>\n      <td>35.0</td>\n      <td>60.0</td>\n      <td>57.0</td>\n      <td>29.0</td>\n      <td>40.0</td>\n      <td>29.0</td>\n      <td>0.0</td>\n      <td>34.0</td>\n      <td>60.0</td>\n    </tr>\n    <tr>\n      <th>2015-01-03</th>\n      <td>47.0</td>\n      <td>53.0</td>\n      <td>95.0</td>\n      <td>39.0</td>\n      <td>29.0</td>\n      <td>40.0</td>\n      <td>23.0</td>\n      <td>42.0</td>\n      <td>12.0</td>\n      <td>18.0</td>\n      <td>...</td>\n      <td>43.0</td>\n      <td>32.0</td>\n      <td>56.0</td>\n      <td>42.0</td>\n      <td>29.0</td>\n      <td>39.0</td>\n      <td>15.0</td>\n      <td>0.0</td>\n      <td>39.0</td>\n      <td>57.0</td>\n    </tr>\n    <tr>\n      <th>2015-01-04</th>\n      <td>41.0</td>\n      <td>33.0</td>\n      <td>65.0</td>\n      <td>41.0</td>\n      <td>28.0</td>\n      <td>49.0</td>\n      <td>38.0</td>\n      <td>39.0</td>\n      <td>11.0</td>\n      <td>21.0</td>\n      <td>...</td>\n      <td>38.0</td>\n      <td>25.0</td>\n      <td>51.0</td>\n      <td>29.0</td>\n      <td>31.0</td>\n      <td>38.0</td>\n      <td>13.0</td>\n      <td>0.0</td>\n      <td>39.0</td>\n      <td>60.0</td>\n    </tr>\n    <tr>\n      <th>2015-01-05</th>\n      <td>38.0</td>\n      <td>49.0</td>\n      <td>43.0</td>\n      <td>41.0</td>\n      <td>19.0</td>\n      <td>71.0</td>\n      <td>30.0</td>\n      <td>36.0</td>\n      <td>5.0</td>\n      <td>8.0</td>\n      <td>...</td>\n      <td>42.0</td>\n      <td>38.0</td>\n      <td>93.0</td>\n      <td>70.0</td>\n      <td>34.0</td>\n      <td>51.0</td>\n      <td>22.0</td>\n      <td>0.0</td>\n      <td>30.0</td>\n      <td>51.0</td>\n    </tr>\n    <tr>\n      <th>2015-01-06</th>\n      <td>59.0</td>\n      <td>38.0</td>\n      <td>100.0</td>\n      <td>45.0</td>\n      <td>21.0</td>\n      <td>53.0</td>\n      <td>23.0</td>\n      <td>57.0</td>\n      <td>6.0</td>\n      <td>10.0</td>\n      <td>...</td>\n      <td>47.0</td>\n      <td>34.0</td>\n      <td>86.0</td>\n      <td>77.0</td>\n      <td>34.0</td>\n      <td>56.0</td>\n      <td>25.0</td>\n      <td>0.0</td>\n      <td>30.0</td>\n      <td>53.0</td>\n    </tr>\n  </tbody>\n</table>\n<p>5 rows × 1975 columns</p>\n</div>"
     },
     "execution_count": 10,
     "metadata": {},
     "output_type": "execute_result"
    }
   ],
   "source": [
    "pruned_trends.head()"
   ]
  },
  {
   "cell_type": "code",
   "execution_count": 4,
   "metadata": {
    "pycharm": {
     "name": "#%%\n"
    }
   },
   "outputs": [
    {
     "data": {
      "text/html": [
       "<div>\n",
       "<style scoped>\n",
       "    .dataframe tbody tr th:only-of-type {\n",
       "        vertical-align: middle;\n",
       "    }\n",
       "\n",
       "    .dataframe tbody tr th {\n",
       "        vertical-align: top;\n",
       "    }\n",
       "\n",
       "    .dataframe thead th {\n",
       "        text-align: right;\n",
       "    }\n",
       "</style>\n",
       "<table border=\"1\" class=\"dataframe\">\n",
       "  <thead>\n",
       "    <tr style=\"text-align: right;\">\n",
       "      <th></th>\n",
       "      <th>secid</th>\n",
       "      <th>date</th>\n",
       "      <th>exdate</th>\n",
       "      <th>cp_flag</th>\n",
       "      <th>strike_price</th>\n",
       "      <th>volume</th>\n",
       "      <th>open_interest</th>\n",
       "      <th>impl_volatility</th>\n",
       "      <th>opprc</th>\n",
       "      <th>moneyness</th>\n",
       "      <th>tte</th>\n",
       "      <th>close</th>\n",
       "      <th>spread</th>\n",
       "      <th>noi</th>\n",
       "    </tr>\n",
       "  </thead>\n",
       "  <tbody>\n",
       "    <tr>\n",
       "      <th>0</th>\n",
       "      <td>5284</td>\n",
       "      <td>01/02/2015</td>\n",
       "      <td>03/20/2015</td>\n",
       "      <td>C</td>\n",
       "      <td>2500</td>\n",
       "      <td>0</td>\n",
       "      <td>5</td>\n",
       "      <td>1.212510</td>\n",
       "      <td>0.100</td>\n",
       "      <td>1.677852</td>\n",
       "      <td>77</td>\n",
       "      <td>1.49</td>\n",
       "      <td>0.10</td>\n",
       "      <td>5</td>\n",
       "    </tr>\n",
       "    <tr>\n",
       "      <th>1</th>\n",
       "      <td>5284</td>\n",
       "      <td>01/02/2015</td>\n",
       "      <td>03/20/2015</td>\n",
       "      <td>P</td>\n",
       "      <td>2500</td>\n",
       "      <td>0</td>\n",
       "      <td>10</td>\n",
       "      <td>1.389238</td>\n",
       "      <td>1.150</td>\n",
       "      <td>1.677852</td>\n",
       "      <td>77</td>\n",
       "      <td>1.49</td>\n",
       "      <td>0.50</td>\n",
       "      <td>10</td>\n",
       "    </tr>\n",
       "    <tr>\n",
       "      <th>2</th>\n",
       "      <td>5284</td>\n",
       "      <td>01/05/2015</td>\n",
       "      <td>03/20/2015</td>\n",
       "      <td>C</td>\n",
       "      <td>2500</td>\n",
       "      <td>0</td>\n",
       "      <td>5</td>\n",
       "      <td>1.322124</td>\n",
       "      <td>0.100</td>\n",
       "      <td>1.760563</td>\n",
       "      <td>74</td>\n",
       "      <td>1.42</td>\n",
       "      <td>0.10</td>\n",
       "      <td>0</td>\n",
       "    </tr>\n",
       "    <tr>\n",
       "      <th>3</th>\n",
       "      <td>5284</td>\n",
       "      <td>01/05/2015</td>\n",
       "      <td>03/20/2015</td>\n",
       "      <td>P</td>\n",
       "      <td>2500</td>\n",
       "      <td>0</td>\n",
       "      <td>10</td>\n",
       "      <td>1.533191</td>\n",
       "      <td>1.225</td>\n",
       "      <td>1.760563</td>\n",
       "      <td>74</td>\n",
       "      <td>1.42</td>\n",
       "      <td>0.45</td>\n",
       "      <td>0</td>\n",
       "    </tr>\n",
       "    <tr>\n",
       "      <th>4</th>\n",
       "      <td>5284</td>\n",
       "      <td>01/06/2015</td>\n",
       "      <td>03/20/2015</td>\n",
       "      <td>C</td>\n",
       "      <td>2500</td>\n",
       "      <td>0</td>\n",
       "      <td>5</td>\n",
       "      <td>1.369239</td>\n",
       "      <td>0.100</td>\n",
       "      <td>1.798561</td>\n",
       "      <td>73</td>\n",
       "      <td>1.39</td>\n",
       "      <td>0.10</td>\n",
       "      <td>0</td>\n",
       "    </tr>\n",
       "  </tbody>\n",
       "</table>\n",
       "</div>"
      ],
      "text/plain": [
       "   secid        date      exdate cp_flag  strike_price  volume  open_interest  \\\n",
       "0   5284  01/02/2015  03/20/2015       C          2500       0              5   \n",
       "1   5284  01/02/2015  03/20/2015       P          2500       0             10   \n",
       "2   5284  01/05/2015  03/20/2015       C          2500       0              5   \n",
       "3   5284  01/05/2015  03/20/2015       P          2500       0             10   \n",
       "4   5284  01/06/2015  03/20/2015       C          2500       0              5   \n",
       "\n",
       "   impl_volatility  opprc  moneyness  tte  close  spread  noi  \n",
       "0         1.212510  0.100   1.677852   77   1.49    0.10    5  \n",
       "1         1.389238  1.150   1.677852   77   1.49    0.50   10  \n",
       "2         1.322124  0.100   1.760563   74   1.42    0.10    0  \n",
       "3         1.533191  1.225   1.760563   74   1.42    0.45    0  \n",
       "4         1.369239  0.100   1.798561   73   1.39    0.10    0  "
      ]
     },
     "execution_count": 4,
     "metadata": {},
     "output_type": "execute_result"
    }
   ],
   "source": [
    "options.head()"
   ]
  },
  {
   "cell_type": "code",
   "execution_count": 5,
   "metadata": {
    "pycharm": {
     "name": "#%%\n"
    }
   },
   "outputs": [],
   "source": [
    "def setup_options_input(options_df, numrows):\n",
    "    pruned_options = options_df.sample(numrows)[options_df[\"volume\"] > 0]\n",
    "    pruned_options = pruned_options.drop([\"secid\", \"opprc\", \"moneyness\", \"close\", \"spread\", \"noi\", \"open_interest\", \"exdate\", \"volume\"], axis=1)\n",
    "    pruned_options = pd.get_dummies(pruned_options, columns=[\"cp_flag\"])\n",
    "    pruned_options[\"date\"] = pd.to_datetime(pruned_options[\"date\"])\n",
    "    pruned_options = pruned_options.set_index(\"date\")\n",
    "    df = pruned_options.apply(lambda x: pd.concat([x, pruned_trends.loc[pd.Timestamp(x.name)]], axis=0), axis=1)\n",
    "    return df.drop([\"impl_volatility\"], axis=1).to_numpy(), df[\"impl_volatility\"].to_numpy()"
   ]
  },
  {
   "cell_type": "code",
   "execution_count": 62,
   "metadata": {
    "pycharm": {
     "name": "#%%\n"
    }
   },
   "outputs": [],
   "source": [
    "x, y = setup_options_input(options, 100000)"
   ]
  },
  {
   "cell_type": "code",
   "execution_count": 63,
   "metadata": {
    "pycharm": {
     "name": "#%%\n"
    }
   },
   "outputs": [
    {
     "data": {
      "text/plain": [
       "(100000, 1979)"
      ]
     },
     "execution_count": 63,
     "metadata": {},
     "output_type": "execute_result"
    }
   ],
   "source": [
    "x.shape"
   ]
  },
  {
   "cell_type": "code",
   "execution_count": 107,
   "metadata": {
    "pycharm": {
     "name": "#%%\n"
    }
   },
   "outputs": [],
   "source": [
    "model = tf.keras.Sequential([\n",
    "    tf.keras.layers.Dense(1979, activation='relu'),\n",
    "    tf.keras.layers.Dense(1979*2, activation='relu'),\n",
    "    tf.keras.layers.Dense(1979*2, activation='relu'),\n",
    "    tf.keras.layers.Dense(1979, activation='relu'),\n",
    "    tf.keras.layers.Dense(1, activation='linear'),\n",
    "])"
   ]
  },
  {
   "cell_type": "code",
   "execution_count": 108,
   "metadata": {
    "pycharm": {
     "name": "#%%\n"
    }
   },
   "outputs": [],
   "source": [
    "model.compile(\n",
    "    optimizer=keras.optimizers.Adam(learning_rate=0.01),\n",
    "    loss=keras.losses.MeanSquaredError(),\n",
    "    metrics=[\n",
    "        keras.metrics.MeanAbsolutePercentageError(),\n",
    "        keras.metrics.MeanAbsoluteError()\n",
    "             ]\n",
    ")"
   ]
  },
  {
   "cell_type": "code",
   "execution_count": 114,
   "outputs": [
    {
     "name": "stdout",
     "output_type": "stream",
     "text": [
      "Epoch 1/12\n",
      "1407/1407 [==============================] - 194s 138ms/step - loss: 0.0534 - mean_absolute_percentage_error: 40.0509 - mean_absolute_error: 0.1465 - val_loss: 0.0492 - val_mean_absolute_percentage_error: 40.8452 - val_mean_absolute_error: 0.1452\n",
      "Epoch 2/12\n",
      "1407/1407 [==============================] - 191s 136ms/step - loss: 0.0535 - mean_absolute_percentage_error: 40.0422 - mean_absolute_error: 0.1461 - val_loss: 0.0491 - val_mean_absolute_percentage_error: 38.6027 - val_mean_absolute_error: 0.1412\n",
      "Epoch 3/12\n",
      "1407/1407 [==============================] - 192s 137ms/step - loss: 9.5411 - mean_absolute_percentage_error: 93.1041 - mean_absolute_error: 0.3017 - val_loss: 0.0496 - val_mean_absolute_percentage_error: 39.9250 - val_mean_absolute_error: 0.1448\n",
      "Epoch 4/12\n",
      "1407/1407 [==============================] - 195s 139ms/step - loss: 0.0537 - mean_absolute_percentage_error: 39.9624 - mean_absolute_error: 0.1458 - val_loss: 0.0509 - val_mean_absolute_percentage_error: 37.5687 - val_mean_absolute_error: 0.1420\n",
      "Epoch 5/12\n",
      "1407/1407 [==============================] - 206s 146ms/step - loss: 0.0526 - mean_absolute_percentage_error: 39.7405 - mean_absolute_error: 0.1445 - val_loss: 0.0510 - val_mean_absolute_percentage_error: 37.7442 - val_mean_absolute_error: 0.1417\n",
      "Epoch 6/12\n",
      "1407/1407 [==============================] - 200s 142ms/step - loss: 0.0524 - mean_absolute_percentage_error: 39.7341 - mean_absolute_error: 0.1441 - val_loss: 0.0490 - val_mean_absolute_percentage_error: 39.2205 - val_mean_absolute_error: 0.1418\n",
      "Epoch 7/12\n",
      "1407/1407 [==============================] - 201s 143ms/step - loss: 8.6317 - mean_absolute_percentage_error: 99.5883 - mean_absolute_error: 0.3133 - val_loss: 0.0502 - val_mean_absolute_percentage_error: 39.1298 - val_mean_absolute_error: 0.1440\n",
      "Epoch 8/12\n",
      "1407/1407 [==============================] - 197s 140ms/step - loss: 0.0826 - mean_absolute_percentage_error: 40.4505 - mean_absolute_error: 0.1484 - val_loss: 0.0501 - val_mean_absolute_percentage_error: 40.5812 - val_mean_absolute_error: 0.1459\n",
      "Epoch 9/12\n",
      "1407/1407 [==============================] - 197s 140ms/step - loss: 0.0527 - mean_absolute_percentage_error: 39.8997 - mean_absolute_error: 0.1447 - val_loss: 0.0496 - val_mean_absolute_percentage_error: 39.9866 - val_mean_absolute_error: 0.1442\n",
      "Epoch 10/12\n",
      "1407/1407 [==============================] - 200s 142ms/step - loss: 0.0525 - mean_absolute_percentage_error: 39.8947 - mean_absolute_error: 0.1445 - val_loss: 0.0490 - val_mean_absolute_percentage_error: 38.9148 - val_mean_absolute_error: 0.1414\n",
      "Epoch 11/12\n",
      "1407/1407 [==============================] - 200s 142ms/step - loss: 0.0524 - mean_absolute_percentage_error: 40.0822 - mean_absolute_error: 0.1447 - val_loss: 0.0495 - val_mean_absolute_percentage_error: 41.4908 - val_mean_absolute_error: 0.1461\n",
      "Epoch 12/12\n",
      "1407/1407 [==============================] - 198s 141ms/step - loss: 0.0524 - mean_absolute_percentage_error: 40.3767 - mean_absolute_error: 0.1452 - val_loss: 0.0487 - val_mean_absolute_percentage_error: 42.6539 - val_mean_absolute_error: 0.1467\n"
     ]
    },
    {
     "data": {
      "text/plain": "<keras.callbacks.History at 0x7f6dc4942d60>"
     },
     "execution_count": 114,
     "metadata": {},
     "output_type": "execute_result"
    }
   ],
   "source": [
    "model.fit(\n",
    "    x,\n",
    "    y,\n",
    "    batch_size=64,\n",
    "    epochs=12,\n",
    "    shuffle=True,\n",
    "    verbose=1,\n",
    "    use_multiprocessing=True,\n",
    "    workers=12,\n",
    "    validation_split=0.25\n",
    ")"
   ],
   "metadata": {
    "collapsed": false,
    "pycharm": {
     "name": "#%%\n"
    }
   }
  },
  {
   "cell_type": "code",
   "execution_count": 115,
   "outputs": [
    {
     "data": {
      "text/plain": "array([[0.36470494],\n       [0.36470494]], dtype=float32)"
     },
     "execution_count": 115,
     "metadata": {},
     "output_type": "execute_result"
    }
   ],
   "source": [
    "model.predict(x[[10, 20]])"
   ],
   "metadata": {
    "collapsed": false,
    "pycharm": {
     "name": "#%%\n"
    }
   }
  },
  {
   "cell_type": "code",
   "execution_count": 117,
   "outputs": [
    {
     "data": {
      "text/plain": "array([0.220851, 0.283556])"
     },
     "execution_count": 117,
     "metadata": {},
     "output_type": "execute_result"
    }
   ],
   "source": [
    "y[[10, 20]]"
   ],
   "metadata": {
    "collapsed": false,
    "pycharm": {
     "name": "#%%\n"
    }
   }
  },
  {
   "cell_type": "code",
   "execution_count": 119,
   "outputs": [
    {
     "name": "stdout",
     "output_type": "stream",
     "text": [
      "INFO:tensorflow:Assets written to: ./initial_model/assets\n"
     ]
    }
   ],
   "source": [
    "model.save(\"./initial_model\")"
   ],
   "metadata": {
    "collapsed": false,
    "pycharm": {
     "name": "#%%\n"
    }
   }
  },
  {
   "cell_type": "code",
   "execution_count": 2,
   "outputs": [
    {
     "name": "stderr",
     "output_type": "stream",
     "text": [
      "2022-03-10 20:50:25.352137: I tensorflow/core/platform/cpu_feature_guard.cc:151] This TensorFlow binary is optimized with oneAPI Deep Neural Network Library (oneDNN) to use the following CPU instructions in performance-critical operations:  AVX2 FMA\n",
      "To enable them in other operations, rebuild TensorFlow with the appropriate compiler flags.\n"
     ]
    }
   ],
   "source": [
    "modell = tf.keras.models.load_model(\"./initial_model\")"
   ],
   "metadata": {
    "collapsed": false,
    "pycharm": {
     "name": "#%%\n"
    }
   }
  },
  {
   "cell_type": "code",
   "execution_count": 3,
   "outputs": [],
   "source": [
    "opt_test = pd.read_csv(\"../csv/options/raw/2017-18options.csv\")"
   ],
   "metadata": {
    "collapsed": false,
    "pycharm": {
     "name": "#%%\n"
    }
   }
  },
  {
   "cell_type": "code",
   "execution_count": 14,
   "outputs": [
    {
     "data": {
      "text/plain": "41931669"
     },
     "execution_count": 14,
     "metadata": {},
     "output_type": "execute_result"
    }
   ],
   "source": [
    "len(opt_test[opt_test[\"volume\"] > 0])"
   ],
   "metadata": {
    "collapsed": false,
    "pycharm": {
     "name": "#%%\n"
    }
   }
  },
  {
   "cell_type": "code",
   "execution_count": 11,
   "outputs": [
    {
     "name": "stderr",
     "output_type": "stream",
     "text": [
      "/var/folders/77/q3gt76rs7s9dtwfn9frfxdfm0000gn/T/ipykernel_25981/3210325722.py:2: UserWarning: Boolean Series key will be reindexed to match DataFrame index.\n",
      "  pruned_options = options_df.sample(numrows)[options_df[\"volume\"] > 0]\n"
     ]
    }
   ],
   "source": [
    "x_test, y_test = setup_options_input(opt_test, 200000)"
   ],
   "metadata": {
    "collapsed": false,
    "pycharm": {
     "name": "#%%\n"
    }
   }
  },
  {
   "cell_type": "code",
   "execution_count": 12,
   "outputs": [
    {
     "name": "stdout",
     "output_type": "stream",
     "text": [
      "2401/2401 [==============================] - 89s 37ms/step - loss: 0.1243 - mean_absolute_percentage_error: 37.3090 - mean_absolute_error: 0.2200\n"
     ]
    },
    {
     "data": {
      "text/plain": "[0.12426810711622238, 37.30899429321289, 0.22003985941410065]"
     },
     "execution_count": 12,
     "metadata": {},
     "output_type": "execute_result"
    }
   ],
   "source": [
    "modell.evaluate(x_test, y_test)"
   ],
   "metadata": {
    "collapsed": false,
    "pycharm": {
     "name": "#%%\n"
    }
   }
  },
  {
   "cell_type": "code",
   "execution_count": 15,
   "outputs": [
    {
     "name": "stdout",
     "output_type": "stream",
     "text": [
      "Model: \"sequential_3\"\n",
      "_________________________________________________________________\n",
      " Layer (type)                Output Shape              Param #   \n",
      "=================================================================\n",
      " dense_16 (Dense)            (None, 1979)              3918420   \n",
      "                                                                 \n",
      " dense_17 (Dense)            (None, 3958)              7836840   \n",
      "                                                                 \n",
      " dense_18 (Dense)            (None, 3958)              15669722  \n",
      "                                                                 \n",
      " dense_19 (Dense)            (None, 1979)              7834861   \n",
      "                                                                 \n",
      " dense_20 (Dense)            (None, 1)                 1980      \n",
      "                                                                 \n",
      "=================================================================\n",
      "Total params: 35,261,823\n",
      "Trainable params: 35,261,823\n",
      "Non-trainable params: 0\n",
      "_________________________________________________________________\n"
     ]
    }
   ],
   "source": [
    "modell.summary()"
   ],
   "metadata": {
    "collapsed": false,
    "pycharm": {
     "name": "#%%\n"
    }
   }
  }
 ],
 "metadata": {
  "kernelspec": {
   "display_name": "Python 3 (ipykernel)",
   "language": "python",
   "name": "python3"
  },
  "language_info": {
   "codemirror_mode": {
    "name": "ipython",
    "version": 2
   },
   "file_extension": ".py",
   "mimetype": "text/x-python",
   "name": "python",
   "nbconvert_exporter": "python",
   "pygments_lexer": "ipython2",
   "version": "2.7.6"
  }
 },
 "nbformat": 4,
 "nbformat_minor": 1
}